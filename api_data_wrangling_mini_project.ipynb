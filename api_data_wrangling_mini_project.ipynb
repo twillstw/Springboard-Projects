{
 "cells": [
  {
   "cell_type": "markdown",
   "metadata": {},
   "source": [
    "This exercise will require you to pull some data from the Qunadl API. Qaundl is currently the most widely used aggregator of financial market data."
   ]
  },
  {
   "cell_type": "markdown",
   "metadata": {},
   "source": [
    "As a first step, you will need to register a free account on the http://www.quandl.com website."
   ]
  },
  {
   "cell_type": "markdown",
   "metadata": {},
   "source": [
    "After you register, you will be provided with a unique API key, that you should store:"
   ]
  },
  {
   "cell_type": "code",
   "execution_count": 1,
   "metadata": {},
   "outputs": [],
   "source": [
    "# Store the API key as a string - according to PEP8, constants are always named in all upper case\n",
    "API_KEY = 'Ill never tell'"
   ]
  },
  {
   "cell_type": "markdown",
   "metadata": {},
   "source": [
    "Qaundl has a large number of data sources, but, unfortunately, most of them require a Premium subscription. Still, there are also a good number of free datasets."
   ]
  },
  {
   "cell_type": "markdown",
   "metadata": {},
   "source": [
    "For this mini project, we will focus on equities data from the Frankfurt Stock Exhange (FSE), which is available for free. We'll try and analyze the stock prices of a company called Carl Zeiss Meditec, which manufactures tools for eye examinations, as well as medical lasers for laser eye surgery: https://www.zeiss.com/meditec/int/home.html. The company is listed under the stock ticker AFX_X."
   ]
  },
  {
   "cell_type": "markdown",
   "metadata": {},
   "source": [
    "You can find the detailed Quandl API instructions here: https://docs.quandl.com/docs/time-series"
   ]
  },
  {
   "cell_type": "markdown",
   "metadata": {},
   "source": [
    "While there is a dedicated Python package for connecting to the Quandl API, we would prefer that you use the *requests* package, which can be easily downloaded using *pip* or *conda*. You can find the documentation for the package here: http://docs.python-requests.org/en/master/ "
   ]
  },
  {
   "cell_type": "markdown",
   "metadata": {},
   "source": [
    "Finally, apart from the *requests* package, you are encouraged to not use any third party Python packages, such as *pandas*, and instead focus on what's available in the Python Standard Library (the *collections* module might come in handy: https://pymotw.com/3/collections/ ).\n",
    "Also, since you won't have access to DataFrames, you are encouraged to us Python's native data structures - preferably dictionaries, though some questions can also be answered using lists.\n",
    "You can read more on these data structures here: https://docs.python.org/3/tutorial/datastructures.html"
   ]
  },
  {
   "cell_type": "markdown",
   "metadata": {},
   "source": [
    "Keep in mind that the JSON responses you will be getting from the API map almost one-to-one to Python's dictionaries. Unfortunately, they can be very nested, so make sure you read up on indexing dictionaries in the documentation provided above."
   ]
  },
  {
   "cell_type": "code",
   "execution_count": 2,
   "metadata": {},
   "outputs": [],
   "source": [
    "# First, import the relevant modules\n",
    "import requests\n"
   ]
  },
  {
   "cell_type": "code",
   "execution_count": 3,
   "metadata": {},
   "outputs": [],
   "source": [
    "# Now, call the Quandl API and pull out a small sample of the data (only one day) to get a glimpse\n",
    "# into the JSON structure that will be returned\n",
    "specify = {'start_date': '2017-04-28', 'end_date': '2017-04-28', 'api_key': API_KEY}\n",
    "rq = requests.get('https://www.quandl.com/api/v3/datasets/FSE/AFX_X', params=specify)"
   ]
  },
  {
   "cell_type": "code",
   "execution_count": 4,
   "metadata": {},
   "outputs": [
    {
     "name": "stdout",
     "output_type": "stream",
     "text": [
      "{'dataset': {'id': 10095370, 'dataset_code': 'AFX_X', 'database_code': 'FSE', 'name': 'Carl Zeiss Meditec (AFX_X)', 'description': 'Stock Prices for Carl Zeiss Meditec (AFX) from the Frankfurt Stock Exchange.<br><br>Trading System: Xetra<br><br>ISIN: DE0005313704', 'refreshed_at': '2019-05-02T22:32:14.090Z', 'newest_available_date': '2019-05-02', 'oldest_available_date': '2000-06-07', 'column_names': ['Date', 'Open', 'High', 'Low', 'Close', 'Change', 'Traded Volume', 'Turnover', 'Last Price of the Day', 'Daily Traded Units', 'Daily Turnover'], 'frequency': 'daily', 'type': 'Time Series', 'premium': False, 'limit': None, 'transform': None, 'column_index': None, 'start_date': '2017-04-28', 'end_date': '2017-04-28', 'data': [['2017-04-28', 42.17, 42.25, 41.66, 41.72, None, 86348.0, 3606589.0, None, None, None]], 'collapse': None, 'order': None, 'database_id': 6129}}\n"
     ]
    }
   ],
   "source": [
    "# Inspect the JSON structure of the object you created, and take note of how nested it is,\n",
    "# as well as the overall structure\n",
    "print(rq.json())"
   ]
  },
  {
   "cell_type": "markdown",
   "metadata": {},
   "source": [
    "These are your tasks for this mini project:\n",
    "\n",
    "1. Collect data from the Franfurt Stock Exchange, for the ticker AFX_X, for the whole year 2017 (keep in mind that the date format is YYYY-MM-DD).\n",
    "2. Convert the returned JSON object into a Python dictionary.\n",
    "3. Calculate what the highest and lowest opening prices were for the stock in this period.\n",
    "4. What was the largest change in any one day (based on High and Low price)?\n",
    "5. What was the largest change between any two days (based on Closing Price)?\n",
    "6. What was the average daily trading volume during this year?\n",
    "7. (Optional) What was the median trading volume during this year. (Note: you may need to implement your own function for calculating the median.)"
   ]
  },
  {
   "cell_type": "code",
   "execution_count": 5,
   "metadata": {},
   "outputs": [],
   "source": [
    "#1 - collect data for all of 2017\n",
    "specify_2017 = {'start_date': '2017-01-01', 'end_date': '2017-12-31', 'api_key': API_KEY}\n",
    "rq_2017 = requests.get('https://www.quandl.com/api/v3/datasets/FSE/AFX_X', params=specify_2017)"
   ]
  },
  {
   "cell_type": "code",
   "execution_count": 6,
   "metadata": {},
   "outputs": [
    {
     "data": {
      "text/plain": [
       "dict"
      ]
     },
     "execution_count": 6,
     "metadata": {},
     "output_type": "execute_result"
    }
   ],
   "source": [
    "#2 - covert object to python dictionary\n",
    "data_2017 = rq_2017.json()\n",
    "\n",
    "type(data_2017)"
   ]
  },
  {
   "cell_type": "markdown",
   "metadata": {},
   "source": [
    "The dictionary has been set up. "
   ]
  },
  {
   "cell_type": "markdown",
   "metadata": {},
   "source": [
    "##### Task \\#3: highest and lowest opening prices"
   ]
  },
  {
   "cell_type": "code",
   "execution_count": 7,
   "metadata": {},
   "outputs": [
    {
     "data": {
      "text/plain": [
       "1"
      ]
     },
     "execution_count": 7,
     "metadata": {},
     "output_type": "execute_result"
    }
   ],
   "source": [
    "#find the index for the 'Open' column\n",
    "data_2017['dataset']['column_names'].index('Open')"
   ]
  },
  {
   "cell_type": "code",
   "execution_count": 8,
   "metadata": {},
   "outputs": [
    {
     "name": "stdout",
     "output_type": "stream",
     "text": [
      "The lowest opening price was: 34.0\n",
      "The highest opening price was: 53.11\n"
     ]
    }
   ],
   "source": [
    "#extract data for each day\n",
    "daily = data_2017['dataset']['data']\n",
    "\n",
    "#now there is a list of lists for each active day stored in the daily variable\n",
    "#and the Open price for each list is stored at index 1. Now we can create a list of all Open prices\n",
    "opens = [day[1] for day in daily if day[1] != None]\n",
    "\n",
    "#now a function that will return both values with one call\n",
    "def max_and_min(values):\n",
    "    print('The lowest opening price was: ' + str(min(values)))\n",
    "    print('The highest opening price was: ' + str(max(values)))\n",
    "\n",
    "#find max and min for the list of opening prices \n",
    "max_and_min(opens)"
   ]
  },
  {
   "cell_type": "markdown",
   "metadata": {},
   "source": [
    "##### Task \\#4: largest change in any one day based on high and low prices"
   ]
  },
  {
   "cell_type": "code",
   "execution_count": 9,
   "metadata": {},
   "outputs": [
    {
     "name": "stdout",
     "output_type": "stream",
     "text": [
      "Index for High: 2\n",
      "Index for Low: 3\n"
     ]
    }
   ],
   "source": [
    "#like before, find index of High and Low\n",
    "def high_low_index():\n",
    "    print('Index for High: ' + str(data_2017['dataset']['column_names'].index('High')))\n",
    "    print('Index for Low: ' + str(data_2017['dataset']['column_names'].index('Low')))\n",
    "    \n",
    "high_low_index()"
   ]
  },
  {
   "cell_type": "code",
   "execution_count": 10,
   "metadata": {},
   "outputs": [
    {
     "name": "stdout",
     "output_type": "stream",
     "text": [
      "The largest change in any one day was: 2.8100000000000023\n"
     ]
    }
   ],
   "source": [
    "#get a list of all 'High' prices\n",
    "highs = [day[2] for day in daily] \n",
    "\n",
    "#similarly, get a list of 'Low' prices\n",
    "lows = [day[3] for day in daily]\n",
    "\n",
    "#now zip the hihgs and lows into a list of tuples\n",
    "high_low_pairs = list(zip(highs, lows))\n",
    "\n",
    "#create a list of differences between each high and low price\n",
    "differences = [tup[0] - tup[1] for tup in high_low_pairs]\n",
    "\n",
    "#calculate the largest change\n",
    "print('The largest change in any one day was: ' + str(max(differences)))"
   ]
  },
  {
   "cell_type": "markdown",
   "metadata": {},
   "source": [
    "##### Task 5: Largest change between any two days based on Closing Price"
   ]
  },
  {
   "cell_type": "code",
   "execution_count": 11,
   "metadata": {},
   "outputs": [
    {
     "data": {
      "text/plain": [
       "4"
      ]
     },
     "execution_count": 11,
     "metadata": {},
     "output_type": "execute_result"
    }
   ],
   "source": [
    "#index for 'Close' price\n",
    "data_2017['dataset']['column_names'].index('Close')"
   ]
  },
  {
   "cell_type": "code",
   "execution_count": 12,
   "metadata": {},
   "outputs": [
    {
     "name": "stdout",
     "output_type": "stream",
     "text": [
      "Largest change between any two days was: 2.559999999999995\n"
     ]
    }
   ],
   "source": [
    "#extract list of all closing prices\n",
    "closes = [day[4] for day in daily]\n",
    "\n",
    "#calculate amount of change from day to day and store in a new list\n",
    "day_to_day = [closes[i] - closes[i-1] for i in range(1, len(closes))]\n",
    "    \n",
    "#calculate the absolute value of each change\n",
    "day_to_day_abs = [abs(i) for i in day_to_day]\n",
    "\n",
    "print('Largest change between any two days was: ' + str(max(day_to_day_abs)))"
   ]
  },
  {
   "cell_type": "markdown",
   "metadata": {},
   "source": [
    "##### Task 6: Average daily trading volume"
   ]
  },
  {
   "cell_type": "code",
   "execution_count": 13,
   "metadata": {},
   "outputs": [
    {
     "data": {
      "text/plain": [
       "6"
      ]
     },
     "execution_count": 13,
     "metadata": {},
     "output_type": "execute_result"
    }
   ],
   "source": [
    "#find index for traded volume\n",
    "data_2017['dataset']['column_names'].index('Traded Volume')"
   ]
  },
  {
   "cell_type": "code",
   "execution_count": 14,
   "metadata": {},
   "outputs": [
    {
     "name": "stdout",
     "output_type": "stream",
     "text": [
      "The average volume traded was: 89124.33725490196\n"
     ]
    }
   ],
   "source": [
    "#list of volumes\n",
    "volume = [day[6] for day in daily]\n",
    "\n",
    "#calculate the average\n",
    "avg_volume = sum(volume) / len(volume)\n",
    "\n",
    "print('The average volume traded was: ' + str(avg_volume))"
   ]
  },
  {
   "cell_type": "markdown",
   "metadata": {},
   "source": [
    "##### Task 7: median trading volume"
   ]
  },
  {
   "cell_type": "code",
   "execution_count": 15,
   "metadata": {},
   "outputs": [
    {
     "name": "stdout",
     "output_type": "stream",
     "text": [
      "The median trading volume was: 76286.0\n"
     ]
    }
   ],
   "source": [
    "import math\n",
    "\n",
    "#sort the list of volumes\n",
    "sort_vol = sorted(volume)\n",
    "\n",
    "#basic function to calculate median, to be called on sorted list\n",
    "def median(x):\n",
    "    if len(x) %2 == 0:\n",
    "        lower = int((len(x) / 2) - 1)\n",
    "        upper = int(len(x) / 2)\n",
    "        return (x[lower] + x[upper]) / 2\n",
    "    elif len(x) %2 != 0:\n",
    "        idx = math.ceil(len(x) / 2 - 1)\n",
    "        return x[idx]\n",
    "    \n",
    "print('The median trading volume was: ' + str(median(sort_vol)))"
   ]
  }
 ],
 "metadata": {
  "kernelspec": {
   "display_name": "Python 3",
   "language": "python",
   "name": "python3"
  },
  "language_info": {
   "codemirror_mode": {
    "name": "ipython",
    "version": 3
   },
   "file_extension": ".py",
   "mimetype": "text/x-python",
   "name": "python",
   "nbconvert_exporter": "python",
   "pygments_lexer": "ipython3",
   "version": "3.7.1"
  }
 },
 "nbformat": 4,
 "nbformat_minor": 2
}
