{
 "cells": [
  {
   "cell_type": "markdown",
   "metadata": {},
   "source": [
    "# What is the True Normal Human Body Temperature? \n",
    "\n",
    "#### Background\n",
    "\n",
    "The mean normal body temperature was held to be 37$^{\\circ}$C or 98.6$^{\\circ}$F for more than 120 years since it was first conceptualized and reported by Carl Wunderlich in a famous 1868 book. But, is this value statistically correct?"
   ]
  },
  {
   "cell_type": "markdown",
   "metadata": {},
   "source": [
    "<h3>Exercises</h3>\n",
    "\n",
    "<p>In this exercise, you will analyze a dataset of human body temperatures and employ the concepts of hypothesis testing, confidence intervals, and statistical significance.</p>\n",
    "\n",
    "<ol>\n",
    "<li>  Is the distribution of body temperatures normal? \n",
    "    <ul>\n",
    "    <li> Although this is not a requirement for the Central Limit Theorem to hold (read the introduction on Wikipedia's page about the CLT carefully: https://en.wikipedia.org/wiki/Central_limit_theorem), it gives us some peace of mind that the population may also be normally distributed if we assume that this sample is representative of the population.\n",
    "    <li> Think about the way you're going to check for the normality of the distribution. Graphical methods are usually used first, but there are also other ways: https://en.wikipedia.org/wiki/Normality_test\n",
    "    </ul>\n",
    "<li>  Is the sample size large? Are the observations independent?\n",
    "    <ul>\n",
    "    <li> Remember that this is a condition for the Central Limit Theorem, and hence the statistical tests we are using, to apply.\n",
    "    </ul>\n",
    "<li>  Is the true population mean really 98.6 degrees F?\n",
    "    <ul>\n",
    "    <li> First, try a bootstrap hypothesis test.\n",
    "    <li> Now, let's try frequentist statistical testing. Would you use a one-sample or two-sample test? Why?\n",
    "    <li> In this situation, is it appropriate to use the $t$ or $z$ statistic? \n",
    "    <li> Now try using the other test. How is the result be different? Why?\n",
    "    </ul>\n",
    "<li>  Draw a small sample of size 10 from the data and repeat both frequentist tests. \n",
    "    <ul>\n",
    "    <li> Which one is the correct one to use? \n",
    "    <li> What do you notice? What does this tell you about the difference in application of the $t$ and $z$ statistic?\n",
    "    </ul>\n",
    "<li>  At what temperature should we consider someone's temperature to be \"abnormal\"?\n",
    "    <ul>\n",
    "    <li> As in the previous example, try calculating everything using the boostrap approach, as well as the frequentist approach.\n",
    "    <li> Start by computing the margin of error and confidence interval. When calculating the confidence interval, keep in mind that you should use the appropriate formula for one draw, and not N draws.\n",
    "    </ul>\n",
    "<li>  Is there a significant difference between males and females in normal temperature?\n",
    "    <ul>\n",
    "    <li> What testing approach did you use and why?\n",
    "    <li> Write a story with your conclusion in the context of the original problem.\n",
    "    </ul>\n",
    "</ol>\n",
    "\n",
    "\n",
    "#### Resources\n",
    "\n",
    "+ Information and data sources: http://www.amstat.org/publications/jse/datasets/normtemp.txt, http://www.amstat.org/publications/jse/jse_data_archive.htm\n",
    "\n",
    "****"
   ]
  },
  {
   "cell_type": "code",
   "execution_count": 15,
   "metadata": {},
   "outputs": [],
   "source": [
    "import pandas as pd\n",
    "import numpy as np\n",
    "\n",
    "df = pd.read_csv('data/human_body_temperature.csv')"
   ]
  },
  {
   "cell_type": "markdown",
   "metadata": {},
   "source": [
    "#### Initial exploration of the data:"
   ]
  },
  {
   "cell_type": "code",
   "execution_count": 92,
   "metadata": {},
   "outputs": [
    {
     "data": {
      "text/html": [
       "<div>\n",
       "<style scoped>\n",
       "    .dataframe tbody tr th:only-of-type {\n",
       "        vertical-align: middle;\n",
       "    }\n",
       "\n",
       "    .dataframe tbody tr th {\n",
       "        vertical-align: top;\n",
       "    }\n",
       "\n",
       "    .dataframe thead th {\n",
       "        text-align: right;\n",
       "    }\n",
       "</style>\n",
       "<table border=\"1\" class=\"dataframe\">\n",
       "  <thead>\n",
       "    <tr style=\"text-align: right;\">\n",
       "      <th></th>\n",
       "      <th>temperature</th>\n",
       "      <th>gender</th>\n",
       "      <th>heart_rate</th>\n",
       "    </tr>\n",
       "  </thead>\n",
       "  <tbody>\n",
       "    <tr>\n",
       "      <th>127</th>\n",
       "      <td>98.2</td>\n",
       "      <td>F</td>\n",
       "      <td>73.0</td>\n",
       "    </tr>\n",
       "    <tr>\n",
       "      <th>128</th>\n",
       "      <td>97.9</td>\n",
       "      <td>M</td>\n",
       "      <td>72.0</td>\n",
       "    </tr>\n",
       "    <tr>\n",
       "      <th>129</th>\n",
       "      <td>98.7</td>\n",
       "      <td>F</td>\n",
       "      <td>59.0</td>\n",
       "    </tr>\n",
       "  </tbody>\n",
       "</table>\n",
       "</div>"
      ],
      "text/plain": [
       "     temperature gender  heart_rate\n",
       "127         98.2      F        73.0\n",
       "128         97.9      M        72.0\n",
       "129         98.7      F        59.0"
      ]
     },
     "execution_count": 92,
     "metadata": {},
     "output_type": "execute_result"
    }
   ],
   "source": [
    "#Get a general idea of the dataframe\n",
    "df.tail(3)"
   ]
  },
  {
   "cell_type": "code",
   "execution_count": 7,
   "metadata": {},
   "outputs": [
    {
     "data": {
      "text/html": [
       "<div>\n",
       "<style scoped>\n",
       "    .dataframe tbody tr th:only-of-type {\n",
       "        vertical-align: middle;\n",
       "    }\n",
       "\n",
       "    .dataframe tbody tr th {\n",
       "        vertical-align: top;\n",
       "    }\n",
       "\n",
       "    .dataframe thead th {\n",
       "        text-align: right;\n",
       "    }\n",
       "</style>\n",
       "<table border=\"1\" class=\"dataframe\">\n",
       "  <thead>\n",
       "    <tr style=\"text-align: right;\">\n",
       "      <th></th>\n",
       "      <th>temperature</th>\n",
       "      <th>heart_rate</th>\n",
       "    </tr>\n",
       "  </thead>\n",
       "  <tbody>\n",
       "    <tr>\n",
       "      <th>count</th>\n",
       "      <td>130.000000</td>\n",
       "      <td>130.000000</td>\n",
       "    </tr>\n",
       "    <tr>\n",
       "      <th>mean</th>\n",
       "      <td>98.249231</td>\n",
       "      <td>73.761538</td>\n",
       "    </tr>\n",
       "    <tr>\n",
       "      <th>std</th>\n",
       "      <td>0.733183</td>\n",
       "      <td>7.062077</td>\n",
       "    </tr>\n",
       "    <tr>\n",
       "      <th>min</th>\n",
       "      <td>96.300000</td>\n",
       "      <td>57.000000</td>\n",
       "    </tr>\n",
       "    <tr>\n",
       "      <th>25%</th>\n",
       "      <td>97.800000</td>\n",
       "      <td>69.000000</td>\n",
       "    </tr>\n",
       "    <tr>\n",
       "      <th>50%</th>\n",
       "      <td>98.300000</td>\n",
       "      <td>74.000000</td>\n",
       "    </tr>\n",
       "    <tr>\n",
       "      <th>75%</th>\n",
       "      <td>98.700000</td>\n",
       "      <td>79.000000</td>\n",
       "    </tr>\n",
       "    <tr>\n",
       "      <th>max</th>\n",
       "      <td>100.800000</td>\n",
       "      <td>89.000000</td>\n",
       "    </tr>\n",
       "  </tbody>\n",
       "</table>\n",
       "</div>"
      ],
      "text/plain": [
       "       temperature  heart_rate\n",
       "count   130.000000  130.000000\n",
       "mean     98.249231   73.761538\n",
       "std       0.733183    7.062077\n",
       "min      96.300000   57.000000\n",
       "25%      97.800000   69.000000\n",
       "50%      98.300000   74.000000\n",
       "75%      98.700000   79.000000\n",
       "max     100.800000   89.000000"
      ]
     },
     "execution_count": 7,
     "metadata": {},
     "output_type": "execute_result"
    }
   ],
   "source": [
    "#Get quantitative overview\n",
    "df.describe()"
   ]
  },
  {
   "cell_type": "markdown",
   "metadata": {},
   "source": [
    "From the above we see that there are 130 observations in the data. It is interesting to note that both the mean, 98.25, and the median, 98.30, are below the held standard of 98.6. "
   ]
  },
  {
   "cell_type": "markdown",
   "metadata": {},
   "source": [
    "### Question 1: Checking Normality\n",
    "<br>\n",
    "A graphical overview of the distribution"
   ]
  },
  {
   "cell_type": "code",
   "execution_count": 27,
   "metadata": {},
   "outputs": [
    {
     "data": {
      "image/png": "[encoded data removed]",
      "text/plain": [
       "<Figure size 432x288 with 1 Axes>"
      ]
     },
     "metadata": {},
     "output_type": "display_data"
    }
   ],
   "source": [
    "import matplotlib.pyplot as plt\n",
    "import seaborn as sns\n",
    "%matplotlib inline\n",
    "\n",
    "sns.set()\n",
    "\n",
    "#Plot the density distribution with bins as the approximate sqrt of rows\n",
    "_ = sns.distplot(df.temperature, bins=11)\n",
    "_ = plt.ylabel('Percent of instances')\n",
    "_ = plt.title('Density Curve of Temp Measurements')"
   ]
  },
  {
   "cell_type": "markdown",
   "metadata": {},
   "source": [
    "Here we can compare the sampled data against a theoretical normal distribution of the same mean and standard deviation."
   ]
  },
  {
   "cell_type": "code",
   "execution_count": 28,
   "metadata": {},
   "outputs": [
    {
     "data": {
      "image/png": "[encoded data removed]",
      "text/plain": [
       "<Figure size 432x288 with 1 Axes>"
      ]
     },
     "metadata": {},
     "output_type": "display_data"
    }
   ],
   "source": [
    "#Draw random samples and create x and y values for the theoretical curve\n",
    "theor_samples = np.random.normal(98.249, 0.733, 100000)\n",
    "x_theor = np.sort(theor_samples)\n",
    "y_theor = np.arange(1, len(x_theor) + 1) / len(x_theor)\n",
    "\n",
    "#Now create values for the curve of the actual data\n",
    "x = np.sort(df['temperature'])\n",
    "y = np.arange(1, len(x) + 1) / len(x)\n",
    "\n",
    "#Overlay the data and the theoretical curve as a cumulative distribution\n",
    "_ = plt.plot(x_theor, y_theor)\n",
    "_ = plt.plot(x, y, marker='.', linestyle='none')\n",
    "_ = plt.xlabel('Temperature')\n",
    "_ = plt.ylabel('CDF')\n",
    "_ = plt.title('Cumulative Density Curve')"
   ]
  },
  {
   "cell_type": "markdown",
   "metadata": {},
   "source": [
    "From the density curves above, the data look to be normally distributed.\n",
    "<br>\n",
    "<br>\n",
    "Now let's test it mathematically using scipy to run a Shapiro-Wilk test."
   ]
  },
  {
   "cell_type": "code",
   "execution_count": 30,
   "metadata": {},
   "outputs": [
    {
     "name": "stdout",
     "output_type": "stream",
     "text": [
      "0.2331680953502655\n"
     ]
    }
   ],
   "source": [
    "from scipy import stats\n",
    "\n",
    "stat, p = stats.shapiro(df.temperature)\n",
    "\n",
    "print(p)"
   ]
  },
  {
   "cell_type": "markdown",
   "metadata": {},
   "source": [
    "The p-value returned is not significant, suggesting we should not reject the hypothesis that our data comes from a normal population. From these three tests we can assume that body temperatures are normally distributed."
   ]
  },
  {
   "cell_type": "markdown",
   "metadata": {},
   "source": [
    "### Quesion 2: Sample Size and Independence\n",
    "\n",
    "Having shown that our data is normally distributed, and knowing that there are 130 observations, the sample size should be large enough. Furthermore, it is reasonable to assume that one person's body temperature is not affected by another's and, therefore, they are independent."
   ]
  },
  {
   "cell_type": "markdown",
   "metadata": {},
   "source": [
    "### Question 3: Is population mean truly 98.6 degrees F"
   ]
  },
  {
   "cell_type": "markdown",
   "metadata": {},
   "source": [
    "Assuming a null hypothesis that mean body temperature is 98.6 F, what is the chance of getting our result."
   ]
  },
  {
   "cell_type": "code",
   "execution_count": 62,
   "metadata": {},
   "outputs": [
    {
     "name": "stdout",
     "output_type": "stream",
     "text": [
      "The p-value =  0.0\n"
     ]
    }
   ],
   "source": [
    "#the observed difference of the assumed mean, 98.6, and the sample mean\n",
    "diff_obs = 98.6 - np.mean(df.temperature)\n",
    "\n",
    "#Shift the sample mean to match the null hypothesis\n",
    "samp_shift = df['temperature'] - np.mean(df.temperature) + 98.6\n",
    "\n",
    "#Bootstrap a sample of new absolute differences to compare to the observed difference: diffs\n",
    "diffs = np.empty(10000)\n",
    "for i in range(10000):\n",
    "    diffs[i] = abs(98.6 - np.mean(np.random.choice(samp_shift, size=len(samp_shift))))\n",
    "    \n",
    "#Compare to the observed difference and calculate the p-value    \n",
    "p = np.sum(diffs >= diff_obs) / len(diffs)\n",
    "print('The p-value = ', p)"
   ]
  },
  {
   "cell_type": "markdown",
   "metadata": {},
   "source": [
    "From the bootstrap example, there are no differences from the sample of n=10,000 that are as extreme as the observed difference. This indicates that, assuming the mean body temperature is 98.6 F, we should not expect to get the mean measured in the sample. In other words, it seems likely that the assumption that body temperature is 98.6 F is false."
   ]
  },
  {
   "cell_type": "markdown",
   "metadata": {},
   "source": [
    "If we were to simply perform a z- or t-test with the observed data, opposed to bootstrapping, we would want to do a one-sample test. We are not comparing two samples, but rather one sample against a single assumed value. <br>\n",
    "Furtermore, because we have shown that the data is normally distributed and we have a fairly high sample size, we calculate the p-value using a z-statistic. Although we do not know the population standard deviation, indicating a t-statistic is required, the sample size is well over the benchmark of 30, so the standard deviation can be adequately estimated."
   ]
  },
  {
   "cell_type": "code",
   "execution_count": 74,
   "metadata": {},
   "outputs": [
    {
     "name": "stdout",
     "output_type": "stream",
     "text": [
      "4.3523151658821886e-08\n"
     ]
    }
   ],
   "source": [
    "#Calculate the z_stat\n",
    "z_stat = (df.temperature.mean() - 98.6) / (np.std(df.temperature) / np.sqrt(len(df)))\n",
    "\n",
    "#Now calculate the p-value given z_stat. The z_stat is one-sided, so the result is multiplied by two\n",
    "p = 2 * stats.norm.cdf(z_stat)\n",
    "print(p)"
   ]
  },
  {
   "cell_type": "markdown",
   "metadata": {},
   "source": [
    "Now try a t-test:"
   ]
  },
  {
   "cell_type": "code",
   "execution_count": 75,
   "metadata": {},
   "outputs": [
    {
     "name": "stdout",
     "output_type": "stream",
     "text": [
      "2.4106320415561276e-07\n"
     ]
    }
   ],
   "source": [
    "stat, p = stats.ttest_1samp(df.temperature, 98.6)\n",
    "\n",
    "print(p)"
   ]
  },
  {
   "cell_type": "markdown",
   "metadata": {},
   "source": [
    "The p-value for the t-test is slighly larger due to the larger tails of the t-distribution, but in general, both values are very low and lead to a rejection of the null hypothesis."
   ]
  },
  {
   "cell_type": "markdown",
   "metadata": {},
   "source": [
    "### Question 4: Smaller samples"
   ]
  },
  {
   "cell_type": "markdown",
   "metadata": {},
   "source": [
    "With a smaller sample size, a t-statistic is more appropriate. But first, here's the z-stat:"
   ]
  },
  {
   "cell_type": "code",
   "execution_count": 86,
   "metadata": {},
   "outputs": [
    {
     "name": "stdout",
     "output_type": "stream",
     "text": [
      "0.005241082897506406\n"
     ]
    }
   ],
   "source": [
    "small_samp = np.random.choice(df.temperature, size=10)\n",
    "\n",
    "#Calculate the z_stat of the smaller sample\n",
    "z_stat = (small_samp.mean() - 98.6) / (np.std(small_samp) / np.sqrt(len(small_samp)))\n",
    "\n",
    "#Now calculate the p-value given z_stat. The z_stat is one-sided, so the result is multiplied by two\n",
    "p = 2 * stats.norm.cdf(z_stat)\n",
    "print(p)"
   ]
  },
  {
   "cell_type": "markdown",
   "metadata": {},
   "source": [
    "Now the t-Stat:"
   ]
  },
  {
   "cell_type": "code",
   "execution_count": 87,
   "metadata": {},
   "outputs": [
    {
     "name": "stdout",
     "output_type": "stream",
     "text": [
      "0.026538642411924513\n"
     ]
    }
   ],
   "source": [
    "stat, p = stats.ttest_1samp(small_samp, 98.6)\n",
    "\n",
    "print(p)"
   ]
  },
  {
   "cell_type": "markdown",
   "metadata": {},
   "source": [
    "In this case, both p-values are low, but not nearly as low as before with the larger sample. The value corresponding to the t-stat is still higher."
   ]
  },
  {
   "cell_type": "markdown",
   "metadata": {},
   "source": [
    "### Question 5: Abnormal temperatures"
   ]
  },
  {
   "cell_type": "code",
   "execution_count": 139,
   "metadata": {},
   "outputs": [
    {
     "data": {
      "text/plain": [
       "(96.81221818540311, 99.68624335305844)"
      ]
     },
     "execution_count": 139,
     "metadata": {},
     "output_type": "execute_result"
    }
   ],
   "source": [
    "#Calculate a prediction interval\n",
    "mean = df.temperature.mean()\n",
    "std = df.temperature.std()\n",
    "\n",
    "interv = stats.norm.interval(0.95, loc=mean, scale=std)\n",
    "interv"
   ]
  },
  {
   "cell_type": "markdown",
   "metadata": {},
   "source": [
    "Abnormal temperatures would be those outside of the above interval."
   ]
  },
  {
   "cell_type": "markdown",
   "metadata": {},
   "source": [
    "### Question 6: Difference between males and females"
   ]
  },
  {
   "cell_type": "markdown",
   "metadata": {},
   "source": [
    "For this exercise, the assumed temperature of 98.6 is not important. Rather, an observed difference between two groups is the value in question, and a two-sample test is appropriate.<br>\n",
    "The null hypothesis in this case is that the mean temperature for women is the same as men, and the test is to calculate whether any observed difference between the two means is significant."
   ]
  },
  {
   "cell_type": "code",
   "execution_count": 136,
   "metadata": {},
   "outputs": [
    {
     "data": {
      "image/png": "[encoded data removed]",
      "text/plain": [
       "<Figure size 432x288 with 1 Axes>"
      ]
     },
     "metadata": {},
     "output_type": "display_data"
    }
   ],
   "source": [
    "#First, check for differences visually\n",
    "#In this case, only the y-axis is of real interest\n",
    "_ = sns.scatterplot('heart_rate', 'temperature', data=df, hue='gender')"
   ]
  },
  {
   "cell_type": "code",
   "execution_count": 133,
   "metadata": {},
   "outputs": [
    {
     "data": {
      "text/plain": [
       "-0.2892307692307696"
      ]
     },
     "execution_count": 133,
     "metadata": {},
     "output_type": "execute_result"
    }
   ],
   "source": [
    "#Separate the values for male and female, and calculate the difference in means\n",
    "male = gender[gender['gender'] == 'M']\n",
    "male = np.array(male['temperature'])\n",
    "\n",
    "female = gender[gender['gender'] == 'F']\n",
    "female = np.array(female['temperature'])\n",
    "\n",
    "obs_gender_diff = np.mean(male) - np.mean(female)\n",
    "obs_gender_diff"
   ]
  },
  {
   "cell_type": "code",
   "execution_count": 134,
   "metadata": {},
   "outputs": [
    {
     "name": "stdout",
     "output_type": "stream",
     "text": [
      "P-value is  0.0144\n"
     ]
    }
   ],
   "source": [
    "#Recalculate 10,000 new mean differences randomly \n",
    "#and see how often we get a result as extreme as the one observed\n",
    "perm_diffs = np.empty(10000)\n",
    "\n",
    "for i in range(10000):\n",
    "    comb = np.concatenate((male, female))\n",
    "    permed = np.random.permutation(comb)\n",
    "    perm_male = permed[:len(male)]\n",
    "    perm_female = permed[len(male):]\n",
    "    perm_diffs[i] = np.mean(perm_male) - np.mean(perm_female)\n",
    "\n",
    "#The observed difference indicates male temps are lower\n",
    "#therefore, the p-value tests for values as low or lower\n",
    "p = np.sum(perm_diffs <= obs_gender_diff) / len(perm_diffs)\n",
    "\n",
    "print('P-value is ', p)"
   ]
  },
  {
   "cell_type": "markdown",
   "metadata": {},
   "source": [
    "For this exercise, a permutation method was used. The values for male and female were randomly re-assigned and the difference in means between the two groups was re-calculated 10,000 times. Based on the results, the odds of getting the observed result merely by chance is a little over 1%. This is quite low, and might suggest that the null hypothesis should be rejected and that male body temperatures are lower than those of females.<br>\n",
    "However, caution might be wise before accepting conclusions. It doesn't feel intuitive that there should be a difference based on gender. Also, judging by the scatter plot above, only females were recorded with temps near or above 100 degrees, so maybe by coincidence the only people with an illness when this sample was drawn happened to be female. This could skew the results."
   ]
  }
 ],
 "metadata": {
  "kernelspec": {
   "display_name": "Python 3",
   "language": "python",
   "name": "python3"
  },
  "language_info": {
   "codemirror_mode": {
    "name": "ipython",
    "version": 3
   },
   "file_extension": ".py",
   "mimetype": "text/x-python",
   "name": "python",
   "nbconvert_exporter": "python",
   "pygments_lexer": "ipython3",
   "version": "3.7.1"
  }
 },
 "nbformat": 4,
 "nbformat_minor": 1
}
