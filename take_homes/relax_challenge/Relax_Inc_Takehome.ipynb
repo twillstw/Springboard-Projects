{
 "cells": [
  {
   "cell_type": "markdown",
   "metadata": {},
   "source": [
    "# Takehome Challenge<br>\n",
    "Relax Inc.<br>\n",
    "Taylor Willingham<br>\n",
    "September 2019<br>"
   ]
  },
  {
   "cell_type": "markdown",
   "metadata": {},
   "source": [
    "<b>The Challenge</b><br>\n",
    "Defining an \"adopted user\" as a user who has logged into the product on three separate days in at least one seven-day\n",
    "period, identify which factors predict future user adoption. We suggest spending 1-2 hours on this, but you're welcome to spend more or less.<br>\n",
    "<br>\n",
    "Please send us a brief writeup of your findings (the more concise, the better no more than one page), along with any summary tables, graphs, code, or queries that can help us understand your approach. Please note any factors you considered or investigation you did, even if they did not pan out. Feel free to identify any further research or data\n",
    "you think would be valuable."
   ]
  },
  {
   "cell_type": "markdown",
   "metadata": {},
   "source": [
    "<b>Writeup</b><br>\n",
    "This is a brief summary of my findings. All code and visuals can be found below.<br>\n",
    "<br>\n",
    "After determining which users qualified as \"adopted\", I did a few basic comparisons on some of the features between adopters and non-adopters. Because this is a binary classification problem and basically all the relevant features are discrete, the comparisons mainly consisted of count-plots for different variables. From the visuals, there wasn't much insight. The distributions of `creation_source`, meaning how the user joined, were different for each group, but there wasn't a clear takeaway. On the other hand, the distributions of users who joined the mailing list was virtually identical for both groups, which is unhelpful due to the similarity. I also thought about comparing the organization IDs to see if users from a particular organization might be more active, but there were too many unique values.<br>\n",
    "<br>\n",
    "Next, I put together a couple of machine learning models to see if those could help solve the problem. I tried logistic regression and random forest, both of which scored well in terms of accuracy. As for important features, logistic regression seemed most impacted by the mode of signup, or `creation_source`, while random forest strongly emphasized the last login date for each user. It would be nice if both models preferred the same features, but each makes sense in its own right. Users who signup themselves might be more active than those who are invited, and most recent login could be correlated to overall activity.<br>\n",
    "<br>\n",
    "I think a good next step would be to dive further into the user activity table to see just how active \"adopted\" users are. I also think some demographic information, which was completely lacking from the data, would be very useful. Things like gender and age are important to consider with software users, and could prove helpful in this situation."
   ]
  },
  {
   "cell_type": "markdown",
   "metadata": {},
   "source": [
    "<b>Setting up the workspace</b>"
   ]
  },
  {
   "cell_type": "code",
   "execution_count": 1,
   "metadata": {},
   "outputs": [],
   "source": [
    "import pandas as pd\n",
    "from pandas import datetime\n",
    "import matplotlib.pyplot as plt\n",
    "import numpy as np\n",
    "import seaborn as sns\n",
    "\n",
    "%matplotlib inline\n",
    "sns.set_style('darkgrid')"
   ]
  },
  {
   "cell_type": "code",
   "execution_count": 2,
   "metadata": {},
   "outputs": [],
   "source": [
    "users = pd.read_csv('takehome_users.csv', encoding='latin_1')"
   ]
  },
  {
   "cell_type": "code",
   "execution_count": 3,
   "metadata": {},
   "outputs": [
    {
     "data": {
      "text/html": [
       "<div>\n",
       "<style scoped>\n",
       "    .dataframe tbody tr th:only-of-type {\n",
       "        vertical-align: middle;\n",
       "    }\n",
       "\n",
       "    .dataframe tbody tr th {\n",
       "        vertical-align: top;\n",
       "    }\n",
       "\n",
       "    .dataframe thead th {\n",
       "        text-align: right;\n",
       "    }\n",
       "</style>\n",
       "<table border=\"1\" class=\"dataframe\">\n",
       "  <thead>\n",
       "    <tr style=\"text-align: right;\">\n",
       "      <th></th>\n",
       "      <th>object_id</th>\n",
       "      <th>creation_time</th>\n",
       "      <th>name</th>\n",
       "      <th>email</th>\n",
       "      <th>creation_source</th>\n",
       "      <th>last_session_creation_time</th>\n",
       "      <th>opted_in_to_mailing_list</th>\n",
       "      <th>enabled_for_marketing_drip</th>\n",
       "      <th>org_id</th>\n",
       "      <th>invited_by_user_id</th>\n",
       "    </tr>\n",
       "  </thead>\n",
       "  <tbody>\n",
       "    <tr>\n",
       "      <th>0</th>\n",
       "      <td>1</td>\n",
       "      <td>2014-04-22 03:53:30</td>\n",
       "      <td>Clausen August</td>\n",
       "      <td>AugustCClausen@yahoo.com</td>\n",
       "      <td>GUEST_INVITE</td>\n",
       "      <td>1.398139e+09</td>\n",
       "      <td>1</td>\n",
       "      <td>0</td>\n",
       "      <td>11</td>\n",
       "      <td>10803.0</td>\n",
       "    </tr>\n",
       "    <tr>\n",
       "      <th>1</th>\n",
       "      <td>2</td>\n",
       "      <td>2013-11-15 03:45:04</td>\n",
       "      <td>Poole Matthew</td>\n",
       "      <td>MatthewPoole@gustr.com</td>\n",
       "      <td>ORG_INVITE</td>\n",
       "      <td>1.396238e+09</td>\n",
       "      <td>0</td>\n",
       "      <td>0</td>\n",
       "      <td>1</td>\n",
       "      <td>316.0</td>\n",
       "    </tr>\n",
       "    <tr>\n",
       "      <th>2</th>\n",
       "      <td>3</td>\n",
       "      <td>2013-03-19 23:14:52</td>\n",
       "      <td>Bottrill Mitchell</td>\n",
       "      <td>MitchellBottrill@gustr.com</td>\n",
       "      <td>ORG_INVITE</td>\n",
       "      <td>1.363735e+09</td>\n",
       "      <td>0</td>\n",
       "      <td>0</td>\n",
       "      <td>94</td>\n",
       "      <td>1525.0</td>\n",
       "    </tr>\n",
       "    <tr>\n",
       "      <th>3</th>\n",
       "      <td>4</td>\n",
       "      <td>2013-05-21 08:09:28</td>\n",
       "      <td>Clausen Nicklas</td>\n",
       "      <td>NicklasSClausen@yahoo.com</td>\n",
       "      <td>GUEST_INVITE</td>\n",
       "      <td>1.369210e+09</td>\n",
       "      <td>0</td>\n",
       "      <td>0</td>\n",
       "      <td>1</td>\n",
       "      <td>5151.0</td>\n",
       "    </tr>\n",
       "    <tr>\n",
       "      <th>4</th>\n",
       "      <td>5</td>\n",
       "      <td>2013-01-17 10:14:20</td>\n",
       "      <td>Raw Grace</td>\n",
       "      <td>GraceRaw@yahoo.com</td>\n",
       "      <td>GUEST_INVITE</td>\n",
       "      <td>1.358850e+09</td>\n",
       "      <td>0</td>\n",
       "      <td>0</td>\n",
       "      <td>193</td>\n",
       "      <td>5240.0</td>\n",
       "    </tr>\n",
       "  </tbody>\n",
       "</table>\n",
       "</div>"
      ],
      "text/plain": [
       "   object_id        creation_time               name  \\\n",
       "0          1  2014-04-22 03:53:30     Clausen August   \n",
       "1          2  2013-11-15 03:45:04      Poole Matthew   \n",
       "2          3  2013-03-19 23:14:52  Bottrill Mitchell   \n",
       "3          4  2013-05-21 08:09:28    Clausen Nicklas   \n",
       "4          5  2013-01-17 10:14:20          Raw Grace   \n",
       "\n",
       "                        email creation_source  last_session_creation_time  \\\n",
       "0    AugustCClausen@yahoo.com    GUEST_INVITE                1.398139e+09   \n",
       "1      MatthewPoole@gustr.com      ORG_INVITE                1.396238e+09   \n",
       "2  MitchellBottrill@gustr.com      ORG_INVITE                1.363735e+09   \n",
       "3   NicklasSClausen@yahoo.com    GUEST_INVITE                1.369210e+09   \n",
       "4          GraceRaw@yahoo.com    GUEST_INVITE                1.358850e+09   \n",
       "\n",
       "   opted_in_to_mailing_list  enabled_for_marketing_drip  org_id  \\\n",
       "0                         1                           0      11   \n",
       "1                         0                           0       1   \n",
       "2                         0                           0      94   \n",
       "3                         0                           0       1   \n",
       "4                         0                           0     193   \n",
       "\n",
       "   invited_by_user_id  \n",
       "0             10803.0  \n",
       "1               316.0  \n",
       "2              1525.0  \n",
       "3              5151.0  \n",
       "4              5240.0  "
      ]
     },
     "execution_count": 3,
     "metadata": {},
     "output_type": "execute_result"
    }
   ],
   "source": [
    "users.head()"
   ]
  },
  {
   "cell_type": "code",
   "execution_count": 12,
   "metadata": {},
   "outputs": [],
   "source": [
    "engagement = pd.read_csv('takehome_user_engagement.csv')\n",
    "\n",
    "# Add column to check if user has adopted\n",
    "engagement['three_in_seven'] = 0\n",
    "\n",
    "# trim time stamp to only include the date; time is not needed\n",
    "engagement['time_stamp'] = engagement['time_stamp'].str.slice(0,10)\n",
    "\n",
    "# convert to datetime\n",
    "engagement['time_stamp'] = engagement['time_stamp'].astype('datetime64[D]')"
   ]
  },
  {
   "cell_type": "code",
   "execution_count": 13,
   "metadata": {},
   "outputs": [
    {
     "data": {
      "text/html": [
       "<div>\n",
       "<style scoped>\n",
       "    .dataframe tbody tr th:only-of-type {\n",
       "        vertical-align: middle;\n",
       "    }\n",
       "\n",
       "    .dataframe tbody tr th {\n",
       "        vertical-align: top;\n",
       "    }\n",
       "\n",
       "    .dataframe thead th {\n",
       "        text-align: right;\n",
       "    }\n",
       "</style>\n",
       "<table border=\"1\" class=\"dataframe\">\n",
       "  <thead>\n",
       "    <tr style=\"text-align: right;\">\n",
       "      <th></th>\n",
       "      <th>time_stamp</th>\n",
       "      <th>user_id</th>\n",
       "      <th>visited</th>\n",
       "      <th>three_in_seven</th>\n",
       "    </tr>\n",
       "  </thead>\n",
       "  <tbody>\n",
       "    <tr>\n",
       "      <th>0</th>\n",
       "      <td>2014-04-22</td>\n",
       "      <td>1</td>\n",
       "      <td>1</td>\n",
       "      <td>0</td>\n",
       "    </tr>\n",
       "    <tr>\n",
       "      <th>1</th>\n",
       "      <td>2013-11-15</td>\n",
       "      <td>2</td>\n",
       "      <td>1</td>\n",
       "      <td>0</td>\n",
       "    </tr>\n",
       "    <tr>\n",
       "      <th>2</th>\n",
       "      <td>2013-11-29</td>\n",
       "      <td>2</td>\n",
       "      <td>1</td>\n",
       "      <td>0</td>\n",
       "    </tr>\n",
       "    <tr>\n",
       "      <th>3</th>\n",
       "      <td>2013-12-09</td>\n",
       "      <td>2</td>\n",
       "      <td>1</td>\n",
       "      <td>0</td>\n",
       "    </tr>\n",
       "    <tr>\n",
       "      <th>4</th>\n",
       "      <td>2013-12-25</td>\n",
       "      <td>2</td>\n",
       "      <td>1</td>\n",
       "      <td>0</td>\n",
       "    </tr>\n",
       "    <tr>\n",
       "      <th>5</th>\n",
       "      <td>2013-12-31</td>\n",
       "      <td>2</td>\n",
       "      <td>1</td>\n",
       "      <td>0</td>\n",
       "    </tr>\n",
       "    <tr>\n",
       "      <th>6</th>\n",
       "      <td>2014-01-08</td>\n",
       "      <td>2</td>\n",
       "      <td>1</td>\n",
       "      <td>0</td>\n",
       "    </tr>\n",
       "    <tr>\n",
       "      <th>7</th>\n",
       "      <td>2014-02-03</td>\n",
       "      <td>2</td>\n",
       "      <td>1</td>\n",
       "      <td>0</td>\n",
       "    </tr>\n",
       "  </tbody>\n",
       "</table>\n",
       "</div>"
      ],
      "text/plain": [
       "  time_stamp  user_id  visited  three_in_seven\n",
       "0 2014-04-22        1        1               0\n",
       "1 2013-11-15        2        1               0\n",
       "2 2013-11-29        2        1               0\n",
       "3 2013-12-09        2        1               0\n",
       "4 2013-12-25        2        1               0\n",
       "5 2013-12-31        2        1               0\n",
       "6 2014-01-08        2        1               0\n",
       "7 2014-02-03        2        1               0"
      ]
     },
     "execution_count": 13,
     "metadata": {},
     "output_type": "execute_result"
    }
   ],
   "source": [
    "engagement.head(8)"
   ]
  },
  {
   "cell_type": "markdown",
   "metadata": {},
   "source": [
    "It appears the `engagement` table is sorted by `user_id` and then by `time_stamp`, so we need to find a way to check each user id to determine if there are any seven-day periods with at least three logins.<br>\n",
    "<br>\n",
    "Here I iterate through the engagement dataframe by user id and search each subset for a third visit occurring in seven days or less, making sure each time stamp represents a unique date. Each subset is then compiled into the `eng_compiled` dataframe."
   ]
  },
  {
   "cell_type": "code",
   "execution_count": 14,
   "metadata": {},
   "outputs": [],
   "source": [
    "eng_compiled = pd.DataFrame(columns=['time_stamp', 'user_id', 'visited', 'three_in_seven', 'shift'])"
   ]
  },
  {
   "cell_type": "code",
   "execution_count": 15,
   "metadata": {},
   "outputs": [],
   "source": [
    "from datetime import timedelta\n",
    "\n",
    "ids = list(set(engagement.user_id))\n",
    "\n",
    "for i in ids:\n",
    "    subset = engagement[engagement.user_id == i]\n",
    "    subset = subset.drop_duplicates(subset='time_stamp')\n",
    "    subset['shift'] = subset['time_stamp'].shift(2)\n",
    "    subset['three_in_seven'] = subset['time_stamp'] < (subset['shift'] + timedelta(days=7))\n",
    "    eng_compiled = eng_compiled.append(subset, ignore_index=True)"
   ]
  },
  {
   "cell_type": "code",
   "execution_count": 16,
   "metadata": {},
   "outputs": [
    {
     "data": {
      "text/html": [
       "<div>\n",
       "<style scoped>\n",
       "    .dataframe tbody tr th:only-of-type {\n",
       "        vertical-align: middle;\n",
       "    }\n",
       "\n",
       "    .dataframe tbody tr th {\n",
       "        vertical-align: top;\n",
       "    }\n",
       "\n",
       "    .dataframe thead th {\n",
       "        text-align: right;\n",
       "    }\n",
       "</style>\n",
       "<table border=\"1\" class=\"dataframe\">\n",
       "  <thead>\n",
       "    <tr style=\"text-align: right;\">\n",
       "      <th></th>\n",
       "      <th>time_stamp</th>\n",
       "      <th>user_id</th>\n",
       "      <th>three_in_seven</th>\n",
       "      <th>shift</th>\n",
       "    </tr>\n",
       "  </thead>\n",
       "  <tbody>\n",
       "    <tr>\n",
       "      <th>0</th>\n",
       "      <td>2014-04-22</td>\n",
       "      <td>1</td>\n",
       "      <td>False</td>\n",
       "      <td>NaT</td>\n",
       "    </tr>\n",
       "    <tr>\n",
       "      <th>1</th>\n",
       "      <td>2013-11-15</td>\n",
       "      <td>2</td>\n",
       "      <td>False</td>\n",
       "      <td>NaT</td>\n",
       "    </tr>\n",
       "    <tr>\n",
       "      <th>2</th>\n",
       "      <td>2013-11-29</td>\n",
       "      <td>2</td>\n",
       "      <td>False</td>\n",
       "      <td>NaT</td>\n",
       "    </tr>\n",
       "    <tr>\n",
       "      <th>3</th>\n",
       "      <td>2013-12-09</td>\n",
       "      <td>2</td>\n",
       "      <td>False</td>\n",
       "      <td>2013-11-15</td>\n",
       "    </tr>\n",
       "    <tr>\n",
       "      <th>4</th>\n",
       "      <td>2013-12-25</td>\n",
       "      <td>2</td>\n",
       "      <td>False</td>\n",
       "      <td>2013-11-29</td>\n",
       "    </tr>\n",
       "    <tr>\n",
       "      <th>5</th>\n",
       "      <td>2013-12-31</td>\n",
       "      <td>2</td>\n",
       "      <td>False</td>\n",
       "      <td>2013-12-09</td>\n",
       "    </tr>\n",
       "    <tr>\n",
       "      <th>6</th>\n",
       "      <td>2014-01-08</td>\n",
       "      <td>2</td>\n",
       "      <td>False</td>\n",
       "      <td>2013-12-25</td>\n",
       "    </tr>\n",
       "    <tr>\n",
       "      <th>7</th>\n",
       "      <td>2014-02-03</td>\n",
       "      <td>2</td>\n",
       "      <td>False</td>\n",
       "      <td>2013-12-31</td>\n",
       "    </tr>\n",
       "    <tr>\n",
       "      <th>8</th>\n",
       "      <td>2014-02-08</td>\n",
       "      <td>2</td>\n",
       "      <td>False</td>\n",
       "      <td>2014-01-08</td>\n",
       "    </tr>\n",
       "    <tr>\n",
       "      <th>9</th>\n",
       "      <td>2014-02-09</td>\n",
       "      <td>2</td>\n",
       "      <td>True</td>\n",
       "      <td>2014-02-03</td>\n",
       "    </tr>\n",
       "    <tr>\n",
       "      <th>10</th>\n",
       "      <td>2014-02-13</td>\n",
       "      <td>2</td>\n",
       "      <td>True</td>\n",
       "      <td>2014-02-08</td>\n",
       "    </tr>\n",
       "    <tr>\n",
       "      <th>11</th>\n",
       "      <td>2014-02-16</td>\n",
       "      <td>2</td>\n",
       "      <td>False</td>\n",
       "      <td>2014-02-09</td>\n",
       "    </tr>\n",
       "  </tbody>\n",
       "</table>\n",
       "</div>"
      ],
      "text/plain": [
       "   time_stamp user_id three_in_seven      shift\n",
       "0  2014-04-22       1          False        NaT\n",
       "1  2013-11-15       2          False        NaT\n",
       "2  2013-11-29       2          False        NaT\n",
       "3  2013-12-09       2          False 2013-11-15\n",
       "4  2013-12-25       2          False 2013-11-29\n",
       "5  2013-12-31       2          False 2013-12-09\n",
       "6  2014-01-08       2          False 2013-12-25\n",
       "7  2014-02-03       2          False 2013-12-31\n",
       "8  2014-02-08       2          False 2014-01-08\n",
       "9  2014-02-09       2           True 2014-02-03\n",
       "10 2014-02-13       2           True 2014-02-08\n",
       "11 2014-02-16       2          False 2014-02-09"
      ]
     },
     "execution_count": 16,
     "metadata": {},
     "output_type": "execute_result"
    }
   ],
   "source": [
    "eng_compiled = eng_compiled.drop('visited', axis=1)\n",
    "eng_compiled.head(12)"
   ]
  },
  {
   "cell_type": "markdown",
   "metadata": {},
   "source": [
    "We can see above that indices 9 and 10 correctly have a `True` value because those logins occurred within seven days of the two before.<br>\n",
    "<br>\n",
    "The next step is to find the unique user ids that contain a `True` value and merge those with the `users` table. That will essentially create our target variable."
   ]
  },
  {
   "cell_type": "code",
   "execution_count": 17,
   "metadata": {},
   "outputs": [],
   "source": [
    "trues = eng_compiled[eng_compiled.three_in_seven == True]"
   ]
  },
  {
   "cell_type": "code",
   "execution_count": 22,
   "metadata": {},
   "outputs": [
    {
     "data": {
      "text/html": [
       "<div>\n",
       "<style scoped>\n",
       "    .dataframe tbody tr th:only-of-type {\n",
       "        vertical-align: middle;\n",
       "    }\n",
       "\n",
       "    .dataframe tbody tr th {\n",
       "        vertical-align: top;\n",
       "    }\n",
       "\n",
       "    .dataframe thead th {\n",
       "        text-align: right;\n",
       "    }\n",
       "</style>\n",
       "<table border=\"1\" class=\"dataframe\">\n",
       "  <thead>\n",
       "    <tr style=\"text-align: right;\">\n",
       "      <th></th>\n",
       "      <th>user_id</th>\n",
       "    </tr>\n",
       "  </thead>\n",
       "  <tbody>\n",
       "    <tr>\n",
       "      <th>0</th>\n",
       "      <td>2</td>\n",
       "    </tr>\n",
       "    <tr>\n",
       "      <th>1</th>\n",
       "      <td>10</td>\n",
       "    </tr>\n",
       "    <tr>\n",
       "      <th>2</th>\n",
       "      <td>20</td>\n",
       "    </tr>\n",
       "    <tr>\n",
       "      <th>3</th>\n",
       "      <td>33</td>\n",
       "    </tr>\n",
       "    <tr>\n",
       "      <th>4</th>\n",
       "      <td>42</td>\n",
       "    </tr>\n",
       "  </tbody>\n",
       "</table>\n",
       "</div>"
      ],
      "text/plain": [
       "  user_id\n",
       "0       2\n",
       "1      10\n",
       "2      20\n",
       "3      33\n",
       "4      42"
      ]
     },
     "execution_count": 22,
     "metadata": {},
     "output_type": "execute_result"
    }
   ],
   "source": [
    "unique_trues = trues.drop_duplicates(subset='user_id')\n",
    "\n",
    "# we really only need the id number\n",
    "unique_trues = unique_trues[['user_id']].reset_index(drop=True)\n",
    "unique_trues.head()"
   ]
  },
  {
   "cell_type": "code",
   "execution_count": 24,
   "metadata": {},
   "outputs": [
    {
     "data": {
      "text/plain": [
       "(1602, 1)"
      ]
     },
     "execution_count": 24,
     "metadata": {},
     "output_type": "execute_result"
    }
   ],
   "source": [
    "unique_trues.shape"
   ]
  },
  {
   "cell_type": "code",
   "execution_count": 26,
   "metadata": {},
   "outputs": [
    {
     "data": {
      "text/html": [
       "<div>\n",
       "<style scoped>\n",
       "    .dataframe tbody tr th:only-of-type {\n",
       "        vertical-align: middle;\n",
       "    }\n",
       "\n",
       "    .dataframe tbody tr th {\n",
       "        vertical-align: top;\n",
       "    }\n",
       "\n",
       "    .dataframe thead th {\n",
       "        text-align: right;\n",
       "    }\n",
       "</style>\n",
       "<table border=\"1\" class=\"dataframe\">\n",
       "  <thead>\n",
       "    <tr style=\"text-align: right;\">\n",
       "      <th></th>\n",
       "      <th>object_id</th>\n",
       "      <th>creation_time</th>\n",
       "      <th>name</th>\n",
       "      <th>email</th>\n",
       "      <th>creation_source</th>\n",
       "      <th>last_session_creation_time</th>\n",
       "      <th>opted_in_to_mailing_list</th>\n",
       "      <th>enabled_for_marketing_drip</th>\n",
       "      <th>org_id</th>\n",
       "      <th>invited_by_user_id</th>\n",
       "      <th>user_id</th>\n",
       "    </tr>\n",
       "  </thead>\n",
       "  <tbody>\n",
       "    <tr>\n",
       "      <th>0</th>\n",
       "      <td>1</td>\n",
       "      <td>2014-04-22 03:53:30</td>\n",
       "      <td>Clausen August</td>\n",
       "      <td>AugustCClausen@yahoo.com</td>\n",
       "      <td>GUEST_INVITE</td>\n",
       "      <td>1.398139e+09</td>\n",
       "      <td>1</td>\n",
       "      <td>0</td>\n",
       "      <td>11</td>\n",
       "      <td>10803.0</td>\n",
       "      <td>NaN</td>\n",
       "    </tr>\n",
       "    <tr>\n",
       "      <th>1</th>\n",
       "      <td>2</td>\n",
       "      <td>2013-11-15 03:45:04</td>\n",
       "      <td>Poole Matthew</td>\n",
       "      <td>MatthewPoole@gustr.com</td>\n",
       "      <td>ORG_INVITE</td>\n",
       "      <td>1.396238e+09</td>\n",
       "      <td>0</td>\n",
       "      <td>0</td>\n",
       "      <td>1</td>\n",
       "      <td>316.0</td>\n",
       "      <td>2</td>\n",
       "    </tr>\n",
       "    <tr>\n",
       "      <th>2</th>\n",
       "      <td>3</td>\n",
       "      <td>2013-03-19 23:14:52</td>\n",
       "      <td>Bottrill Mitchell</td>\n",
       "      <td>MitchellBottrill@gustr.com</td>\n",
       "      <td>ORG_INVITE</td>\n",
       "      <td>1.363735e+09</td>\n",
       "      <td>0</td>\n",
       "      <td>0</td>\n",
       "      <td>94</td>\n",
       "      <td>1525.0</td>\n",
       "      <td>NaN</td>\n",
       "    </tr>\n",
       "    <tr>\n",
       "      <th>3</th>\n",
       "      <td>4</td>\n",
       "      <td>2013-05-21 08:09:28</td>\n",
       "      <td>Clausen Nicklas</td>\n",
       "      <td>NicklasSClausen@yahoo.com</td>\n",
       "      <td>GUEST_INVITE</td>\n",
       "      <td>1.369210e+09</td>\n",
       "      <td>0</td>\n",
       "      <td>0</td>\n",
       "      <td>1</td>\n",
       "      <td>5151.0</td>\n",
       "      <td>NaN</td>\n",
       "    </tr>\n",
       "    <tr>\n",
       "      <th>4</th>\n",
       "      <td>5</td>\n",
       "      <td>2013-01-17 10:14:20</td>\n",
       "      <td>Raw Grace</td>\n",
       "      <td>GraceRaw@yahoo.com</td>\n",
       "      <td>GUEST_INVITE</td>\n",
       "      <td>1.358850e+09</td>\n",
       "      <td>0</td>\n",
       "      <td>0</td>\n",
       "      <td>193</td>\n",
       "      <td>5240.0</td>\n",
       "      <td>NaN</td>\n",
       "    </tr>\n",
       "  </tbody>\n",
       "</table>\n",
       "</div>"
      ],
      "text/plain": [
       "  object_id        creation_time               name  \\\n",
       "0         1  2014-04-22 03:53:30     Clausen August   \n",
       "1         2  2013-11-15 03:45:04      Poole Matthew   \n",
       "2         3  2013-03-19 23:14:52  Bottrill Mitchell   \n",
       "3         4  2013-05-21 08:09:28    Clausen Nicklas   \n",
       "4         5  2013-01-17 10:14:20          Raw Grace   \n",
       "\n",
       "                        email creation_source  last_session_creation_time  \\\n",
       "0    AugustCClausen@yahoo.com    GUEST_INVITE                1.398139e+09   \n",
       "1      MatthewPoole@gustr.com      ORG_INVITE                1.396238e+09   \n",
       "2  MitchellBottrill@gustr.com      ORG_INVITE                1.363735e+09   \n",
       "3   NicklasSClausen@yahoo.com    GUEST_INVITE                1.369210e+09   \n",
       "4          GraceRaw@yahoo.com    GUEST_INVITE                1.358850e+09   \n",
       "\n",
       "   opted_in_to_mailing_list  enabled_for_marketing_drip  org_id  \\\n",
       "0                         1                           0      11   \n",
       "1                         0                           0       1   \n",
       "2                         0                           0      94   \n",
       "3                         0                           0       1   \n",
       "4                         0                           0     193   \n",
       "\n",
       "   invited_by_user_id user_id  \n",
       "0             10803.0     NaN  \n",
       "1               316.0       2  \n",
       "2              1525.0     NaN  \n",
       "3              5151.0     NaN  \n",
       "4              5240.0     NaN  "
      ]
     },
     "execution_count": 26,
     "metadata": {},
     "output_type": "execute_result"
    }
   ],
   "source": [
    "merged = pd.merge(users, unique_trues, left_on='object_id', right_on='user_id', how='left')\n",
    "merged.head(5)"
   ]
  },
  {
   "cell_type": "code",
   "execution_count": 27,
   "metadata": {},
   "outputs": [],
   "source": [
    "# Creating the target variable\n",
    "merged['adopted'] = 0\n",
    "merged.loc[merged.user_id > 0, 'adopted'] = 1        "
   ]
  },
  {
   "cell_type": "code",
   "execution_count": 59,
   "metadata": {},
   "outputs": [
    {
     "data": {
      "text/html": [
       "<div>\n",
       "<style scoped>\n",
       "    .dataframe tbody tr th:only-of-type {\n",
       "        vertical-align: middle;\n",
       "    }\n",
       "\n",
       "    .dataframe tbody tr th {\n",
       "        vertical-align: top;\n",
       "    }\n",
       "\n",
       "    .dataframe thead th {\n",
       "        text-align: right;\n",
       "    }\n",
       "</style>\n",
       "<table border=\"1\" class=\"dataframe\">\n",
       "  <thead>\n",
       "    <tr style=\"text-align: right;\">\n",
       "      <th></th>\n",
       "      <th>object_id</th>\n",
       "      <th>creation_time</th>\n",
       "      <th>name</th>\n",
       "      <th>email</th>\n",
       "      <th>creation_source</th>\n",
       "      <th>last_session_creation_time</th>\n",
       "      <th>opted_in_to_mailing_list</th>\n",
       "      <th>enabled_for_marketing_drip</th>\n",
       "      <th>org_id</th>\n",
       "      <th>invited_by_user_id</th>\n",
       "      <th>adopted</th>\n",
       "    </tr>\n",
       "  </thead>\n",
       "  <tbody>\n",
       "    <tr>\n",
       "      <th>0</th>\n",
       "      <td>1</td>\n",
       "      <td>2014-04-22 03:53:30</td>\n",
       "      <td>Clausen August</td>\n",
       "      <td>AugustCClausen@yahoo.com</td>\n",
       "      <td>GUEST_INVITE</td>\n",
       "      <td>1.398139e+09</td>\n",
       "      <td>1</td>\n",
       "      <td>0</td>\n",
       "      <td>11</td>\n",
       "      <td>10803.0</td>\n",
       "      <td>0</td>\n",
       "    </tr>\n",
       "    <tr>\n",
       "      <th>1</th>\n",
       "      <td>2</td>\n",
       "      <td>2013-11-15 03:45:04</td>\n",
       "      <td>Poole Matthew</td>\n",
       "      <td>MatthewPoole@gustr.com</td>\n",
       "      <td>ORG_INVITE</td>\n",
       "      <td>1.396238e+09</td>\n",
       "      <td>0</td>\n",
       "      <td>0</td>\n",
       "      <td>1</td>\n",
       "      <td>316.0</td>\n",
       "      <td>1</td>\n",
       "    </tr>\n",
       "    <tr>\n",
       "      <th>2</th>\n",
       "      <td>3</td>\n",
       "      <td>2013-03-19 23:14:52</td>\n",
       "      <td>Bottrill Mitchell</td>\n",
       "      <td>MitchellBottrill@gustr.com</td>\n",
       "      <td>ORG_INVITE</td>\n",
       "      <td>1.363735e+09</td>\n",
       "      <td>0</td>\n",
       "      <td>0</td>\n",
       "      <td>94</td>\n",
       "      <td>1525.0</td>\n",
       "      <td>0</td>\n",
       "    </tr>\n",
       "    <tr>\n",
       "      <th>3</th>\n",
       "      <td>4</td>\n",
       "      <td>2013-05-21 08:09:28</td>\n",
       "      <td>Clausen Nicklas</td>\n",
       "      <td>NicklasSClausen@yahoo.com</td>\n",
       "      <td>GUEST_INVITE</td>\n",
       "      <td>1.369210e+09</td>\n",
       "      <td>0</td>\n",
       "      <td>0</td>\n",
       "      <td>1</td>\n",
       "      <td>5151.0</td>\n",
       "      <td>0</td>\n",
       "    </tr>\n",
       "    <tr>\n",
       "      <th>4</th>\n",
       "      <td>5</td>\n",
       "      <td>2013-01-17 10:14:20</td>\n",
       "      <td>Raw Grace</td>\n",
       "      <td>GraceRaw@yahoo.com</td>\n",
       "      <td>GUEST_INVITE</td>\n",
       "      <td>1.358850e+09</td>\n",
       "      <td>0</td>\n",
       "      <td>0</td>\n",
       "      <td>193</td>\n",
       "      <td>5240.0</td>\n",
       "      <td>0</td>\n",
       "    </tr>\n",
       "    <tr>\n",
       "      <th>5</th>\n",
       "      <td>6</td>\n",
       "      <td>2013-12-17 03:37:06</td>\n",
       "      <td>Cunha Eduardo</td>\n",
       "      <td>EduardoPereiraCunha@yahoo.com</td>\n",
       "      <td>GUEST_INVITE</td>\n",
       "      <td>1.387424e+09</td>\n",
       "      <td>0</td>\n",
       "      <td>0</td>\n",
       "      <td>197</td>\n",
       "      <td>11241.0</td>\n",
       "      <td>0</td>\n",
       "    </tr>\n",
       "    <tr>\n",
       "      <th>6</th>\n",
       "      <td>7</td>\n",
       "      <td>2012-12-16 13:24:32</td>\n",
       "      <td>Sewell Tyler</td>\n",
       "      <td>TylerSewell@jourrapide.com</td>\n",
       "      <td>SIGNUP</td>\n",
       "      <td>1.356010e+09</td>\n",
       "      <td>0</td>\n",
       "      <td>1</td>\n",
       "      <td>37</td>\n",
       "      <td>NaN</td>\n",
       "      <td>0</td>\n",
       "    </tr>\n",
       "    <tr>\n",
       "      <th>7</th>\n",
       "      <td>8</td>\n",
       "      <td>2013-07-31 05:34:02</td>\n",
       "      <td>Hamilton Danielle</td>\n",
       "      <td>DanielleHamilton@yahoo.com</td>\n",
       "      <td>PERSONAL_PROJECTS</td>\n",
       "      <td>NaN</td>\n",
       "      <td>1</td>\n",
       "      <td>1</td>\n",
       "      <td>74</td>\n",
       "      <td>NaN</td>\n",
       "      <td>0</td>\n",
       "    </tr>\n",
       "    <tr>\n",
       "      <th>8</th>\n",
       "      <td>9</td>\n",
       "      <td>2013-11-05 04:04:24</td>\n",
       "      <td>Amsel Paul</td>\n",
       "      <td>PaulAmsel@hotmail.com</td>\n",
       "      <td>PERSONAL_PROJECTS</td>\n",
       "      <td>NaN</td>\n",
       "      <td>0</td>\n",
       "      <td>0</td>\n",
       "      <td>302</td>\n",
       "      <td>NaN</td>\n",
       "      <td>0</td>\n",
       "    </tr>\n",
       "    <tr>\n",
       "      <th>9</th>\n",
       "      <td>10</td>\n",
       "      <td>2013-01-16 22:08:03</td>\n",
       "      <td>Santos Carla</td>\n",
       "      <td>CarlaFerreiraSantos@gustr.com</td>\n",
       "      <td>ORG_INVITE</td>\n",
       "      <td>1.401833e+09</td>\n",
       "      <td>1</td>\n",
       "      <td>1</td>\n",
       "      <td>318</td>\n",
       "      <td>4143.0</td>\n",
       "      <td>1</td>\n",
       "    </tr>\n",
       "    <tr>\n",
       "      <th>10</th>\n",
       "      <td>11</td>\n",
       "      <td>2013-12-26 03:55:54</td>\n",
       "      <td>Paulsen Malthe</td>\n",
       "      <td>MaltheAPaulsen@gustr.com</td>\n",
       "      <td>SIGNUP</td>\n",
       "      <td>1.388117e+09</td>\n",
       "      <td>0</td>\n",
       "      <td>0</td>\n",
       "      <td>69</td>\n",
       "      <td>NaN</td>\n",
       "      <td>0</td>\n",
       "    </tr>\n",
       "    <tr>\n",
       "      <th>11</th>\n",
       "      <td>12</td>\n",
       "      <td>2014-04-17 23:48:38</td>\n",
       "      <td>Mathiesen Lærke</td>\n",
       "      <td>LaerkeLMathiesen@cuvox.de</td>\n",
       "      <td>ORG_INVITE</td>\n",
       "      <td>NaN</td>\n",
       "      <td>0</td>\n",
       "      <td>0</td>\n",
       "      <td>130</td>\n",
       "      <td>9270.0</td>\n",
       "      <td>0</td>\n",
       "    </tr>\n",
       "  </tbody>\n",
       "</table>\n",
       "</div>"
      ],
      "text/plain": [
       "   object_id        creation_time               name  \\\n",
       "0          1  2014-04-22 03:53:30     Clausen August   \n",
       "1          2  2013-11-15 03:45:04      Poole Matthew   \n",
       "2          3  2013-03-19 23:14:52  Bottrill Mitchell   \n",
       "3          4  2013-05-21 08:09:28    Clausen Nicklas   \n",
       "4          5  2013-01-17 10:14:20          Raw Grace   \n",
       "5          6  2013-12-17 03:37:06      Cunha Eduardo   \n",
       "6          7  2012-12-16 13:24:32       Sewell Tyler   \n",
       "7          8  2013-07-31 05:34:02  Hamilton Danielle   \n",
       "8          9  2013-11-05 04:04:24         Amsel Paul   \n",
       "9         10  2013-01-16 22:08:03       Santos Carla   \n",
       "10        11  2013-12-26 03:55:54     Paulsen Malthe   \n",
       "11        12  2014-04-17 23:48:38    Mathiesen Lærke   \n",
       "\n",
       "                            email    creation_source  \\\n",
       "0        AugustCClausen@yahoo.com       GUEST_INVITE   \n",
       "1          MatthewPoole@gustr.com         ORG_INVITE   \n",
       "2      MitchellBottrill@gustr.com         ORG_INVITE   \n",
       "3       NicklasSClausen@yahoo.com       GUEST_INVITE   \n",
       "4              GraceRaw@yahoo.com       GUEST_INVITE   \n",
       "5   EduardoPereiraCunha@yahoo.com       GUEST_INVITE   \n",
       "6      TylerSewell@jourrapide.com             SIGNUP   \n",
       "7      DanielleHamilton@yahoo.com  PERSONAL_PROJECTS   \n",
       "8           PaulAmsel@hotmail.com  PERSONAL_PROJECTS   \n",
       "9   CarlaFerreiraSantos@gustr.com         ORG_INVITE   \n",
       "10       MaltheAPaulsen@gustr.com             SIGNUP   \n",
       "11      LaerkeLMathiesen@cuvox.de         ORG_INVITE   \n",
       "\n",
       "    last_session_creation_time  opted_in_to_mailing_list  \\\n",
       "0                 1.398139e+09                         1   \n",
       "1                 1.396238e+09                         0   \n",
       "2                 1.363735e+09                         0   \n",
       "3                 1.369210e+09                         0   \n",
       "4                 1.358850e+09                         0   \n",
       "5                 1.387424e+09                         0   \n",
       "6                 1.356010e+09                         0   \n",
       "7                          NaN                         1   \n",
       "8                          NaN                         0   \n",
       "9                 1.401833e+09                         1   \n",
       "10                1.388117e+09                         0   \n",
       "11                         NaN                         0   \n",
       "\n",
       "    enabled_for_marketing_drip  org_id  invited_by_user_id  adopted  \n",
       "0                            0      11             10803.0        0  \n",
       "1                            0       1               316.0        1  \n",
       "2                            0      94              1525.0        0  \n",
       "3                            0       1              5151.0        0  \n",
       "4                            0     193              5240.0        0  \n",
       "5                            0     197             11241.0        0  \n",
       "6                            1      37                 NaN        0  \n",
       "7                            1      74                 NaN        0  \n",
       "8                            0     302                 NaN        0  \n",
       "9                            1     318              4143.0        1  \n",
       "10                           0      69                 NaN        0  \n",
       "11                           0     130              9270.0        0  "
      ]
     },
     "execution_count": 59,
     "metadata": {},
     "output_type": "execute_result"
    }
   ],
   "source": [
    "adopted = merged.drop('user_id', axis=1)\n",
    "adopted.head(12)"
   ]
  },
  {
   "cell_type": "markdown",
   "metadata": {},
   "source": [
    "Great, there is now a dataframe to identify all \"adopted\" users. Before moving on with analysis, we can remove the name and email columns, as those will just get in the way."
   ]
  },
  {
   "cell_type": "code",
   "execution_count": 60,
   "metadata": {},
   "outputs": [],
   "source": [
    "adopted = adopted.drop(['name', 'email'], axis=1)"
   ]
  },
  {
   "cell_type": "code",
   "execution_count": 61,
   "metadata": {},
   "outputs": [
    {
     "data": {
      "text/html": [
       "<div>\n",
       "<style scoped>\n",
       "    .dataframe tbody tr th:only-of-type {\n",
       "        vertical-align: middle;\n",
       "    }\n",
       "\n",
       "    .dataframe tbody tr th {\n",
       "        vertical-align: top;\n",
       "    }\n",
       "\n",
       "    .dataframe thead th {\n",
       "        text-align: right;\n",
       "    }\n",
       "</style>\n",
       "<table border=\"1\" class=\"dataframe\">\n",
       "  <thead>\n",
       "    <tr style=\"text-align: right;\">\n",
       "      <th></th>\n",
       "      <th>object_id</th>\n",
       "      <th>creation_time</th>\n",
       "      <th>creation_source</th>\n",
       "      <th>last_session_creation_time</th>\n",
       "      <th>opted_in_to_mailing_list</th>\n",
       "      <th>enabled_for_marketing_drip</th>\n",
       "      <th>org_id</th>\n",
       "      <th>invited_by_user_id</th>\n",
       "      <th>adopted</th>\n",
       "    </tr>\n",
       "  </thead>\n",
       "  <tbody>\n",
       "    <tr>\n",
       "      <th>0</th>\n",
       "      <td>1</td>\n",
       "      <td>2014-04-22 03:53:30</td>\n",
       "      <td>GUEST_INVITE</td>\n",
       "      <td>1.398139e+09</td>\n",
       "      <td>1</td>\n",
       "      <td>0</td>\n",
       "      <td>11</td>\n",
       "      <td>10803.0</td>\n",
       "      <td>0</td>\n",
       "    </tr>\n",
       "    <tr>\n",
       "      <th>1</th>\n",
       "      <td>2</td>\n",
       "      <td>2013-11-15 03:45:04</td>\n",
       "      <td>ORG_INVITE</td>\n",
       "      <td>1.396238e+09</td>\n",
       "      <td>0</td>\n",
       "      <td>0</td>\n",
       "      <td>1</td>\n",
       "      <td>316.0</td>\n",
       "      <td>1</td>\n",
       "    </tr>\n",
       "    <tr>\n",
       "      <th>2</th>\n",
       "      <td>3</td>\n",
       "      <td>2013-03-19 23:14:52</td>\n",
       "      <td>ORG_INVITE</td>\n",
       "      <td>1.363735e+09</td>\n",
       "      <td>0</td>\n",
       "      <td>0</td>\n",
       "      <td>94</td>\n",
       "      <td>1525.0</td>\n",
       "      <td>0</td>\n",
       "    </tr>\n",
       "    <tr>\n",
       "      <th>3</th>\n",
       "      <td>4</td>\n",
       "      <td>2013-05-21 08:09:28</td>\n",
       "      <td>GUEST_INVITE</td>\n",
       "      <td>1.369210e+09</td>\n",
       "      <td>0</td>\n",
       "      <td>0</td>\n",
       "      <td>1</td>\n",
       "      <td>5151.0</td>\n",
       "      <td>0</td>\n",
       "    </tr>\n",
       "    <tr>\n",
       "      <th>4</th>\n",
       "      <td>5</td>\n",
       "      <td>2013-01-17 10:14:20</td>\n",
       "      <td>GUEST_INVITE</td>\n",
       "      <td>1.358850e+09</td>\n",
       "      <td>0</td>\n",
       "      <td>0</td>\n",
       "      <td>193</td>\n",
       "      <td>5240.0</td>\n",
       "      <td>0</td>\n",
       "    </tr>\n",
       "  </tbody>\n",
       "</table>\n",
       "</div>"
      ],
      "text/plain": [
       "  object_id        creation_time creation_source  last_session_creation_time  \\\n",
       "0         1  2014-04-22 03:53:30    GUEST_INVITE                1.398139e+09   \n",
       "1         2  2013-11-15 03:45:04      ORG_INVITE                1.396238e+09   \n",
       "2         3  2013-03-19 23:14:52      ORG_INVITE                1.363735e+09   \n",
       "3         4  2013-05-21 08:09:28    GUEST_INVITE                1.369210e+09   \n",
       "4         5  2013-01-17 10:14:20    GUEST_INVITE                1.358850e+09   \n",
       "\n",
       "   opted_in_to_mailing_list  enabled_for_marketing_drip  org_id  \\\n",
       "0                         1                           0      11   \n",
       "1                         0                           0       1   \n",
       "2                         0                           0      94   \n",
       "3                         0                           0       1   \n",
       "4                         0                           0     193   \n",
       "\n",
       "   invited_by_user_id  adopted  \n",
       "0             10803.0        0  \n",
       "1               316.0        1  \n",
       "2              1525.0        0  \n",
       "3              5151.0        0  \n",
       "4              5240.0        0  "
      ]
     },
     "execution_count": 61,
     "metadata": {},
     "output_type": "execute_result"
    }
   ],
   "source": [
    "adopted.head()"
   ]
  },
  {
   "cell_type": "markdown",
   "metadata": {},
   "source": [
    "<b>Basic Comparisons</b><br>\n",
    "Let's compare the two classes."
   ]
  },
  {
   "cell_type": "code",
   "execution_count": 62,
   "metadata": {},
   "outputs": [
    {
     "name": "stdout",
     "output_type": "stream",
     "text": [
      "Percentage of adopted users is 13.35%\n"
     ]
    }
   ],
   "source": [
    "percent_adopt = (len(adopted[adopted.adopted == 1]) / len(adopted)) * 100\n",
    "print('Percentage of adopted users is {:.2f}%'. format(percent_adopt))"
   ]
  },
  {
   "cell_type": "code",
   "execution_count": 45,
   "metadata": {},
   "outputs": [
    {
     "data": {
      "image/png": "[encoded data removed]",
      "text/plain": [
       "<Figure size 1152x432 with 2 Axes>"
      ]
     },
     "metadata": {
      "needs_background": "light"
     },
     "output_type": "display_data"
    }
   ],
   "source": [
    "fig = plt.figure(figsize=(16,6))\n",
    "\n",
    "ax1 = plt.subplot(1,2,1)\n",
    "_ = sns.countplot(x='creation_source', data=adopted[adopted.adopted==1])\n",
    "_ = plt.xlabel('Source', fontsize=14)\n",
    "_ = plt.ylabel('Count', fontsize=14)\n",
    "_ = plt.title('Creation source counts for adopted users', fontsize=16)\n",
    "_ = plt.xticks(rotation=20)\n",
    "\n",
    "ax1 = plt.subplot(1,2,2)\n",
    "_ = sns.countplot(x='creation_source', data=adopted[adopted.adopted==0])\n",
    "_ = plt.xlabel('Source', fontsize=14)\n",
    "_ = plt.ylabel('Count', fontsize=14)\n",
    "_ = plt.title('Creation source counts for non_adopted users', fontsize=16)\n",
    "_ = plt.xticks(rotation=20)"
   ]
  },
  {
   "cell_type": "markdown",
   "metadata": {},
   "source": [
    "The label ordering of the two plots is a little confusing, but it looks as though signups and guest invites play a slightly stronger role for those users who adopted."
   ]
  },
  {
   "cell_type": "code",
   "execution_count": 50,
   "metadata": {},
   "outputs": [
    {
     "data": {
      "image/png": "[encoded data removed]",
      "text/plain": [
       "<Figure size 1152x432 with 2 Axes>"
      ]
     },
     "metadata": {
      "needs_background": "light"
     },
     "output_type": "display_data"
    }
   ],
   "source": [
    "fig = plt.figure(figsize=(16,6))\n",
    "\n",
    "ax1 = plt.subplot(1,2,1)\n",
    "_ = sns.countplot(x='opted_in_to_mailing_list', data=adopted[adopted.adopted==1])\n",
    "_ = plt.xlabel('', fontsize=14)\n",
    "_ = plt.ylabel('Count', fontsize=14)\n",
    "_ = plt.title('Adopted users who joined mailing list', fontsize=16)\n",
    "\n",
    "ax1 = plt.subplot(1,2,2)\n",
    "_ = sns.countplot(x='opted_in_to_mailing_list', data=adopted[adopted.adopted==0])\n",
    "_ = plt.xlabel('', fontsize=14)\n",
    "_ = plt.ylabel('Count', fontsize=14)\n",
    "_ = plt.title('Non-dopted users who joined mailing list', fontsize=16)"
   ]
  },
  {
   "cell_type": "markdown",
   "metadata": {},
   "source": [
    "As for percentage of users that opted in to the mailing list, these plots are essentially identical meaning it doesn't offer much information when it comes to determining whether a user adopted or not."
   ]
  },
  {
   "cell_type": "markdown",
   "metadata": {},
   "source": [
    "<b>Setting up a model</b>"
   ]
  },
  {
   "cell_type": "markdown",
   "metadata": {},
   "source": [
    "The `adopted` table needs to be set up for machine learning, creating dummy labels for any discrete variables and handling null values."
   ]
  },
  {
   "cell_type": "code",
   "execution_count": 63,
   "metadata": {},
   "outputs": [
    {
     "data": {
      "text/plain": [
       "object_id                     False\n",
       "creation_time                 False\n",
       "creation_source               False\n",
       "last_session_creation_time     True\n",
       "opted_in_to_mailing_list      False\n",
       "enabled_for_marketing_drip    False\n",
       "org_id                        False\n",
       "invited_by_user_id             True\n",
       "adopted                       False\n",
       "dtype: bool"
      ]
     },
     "execution_count": 63,
     "metadata": {},
     "output_type": "execute_result"
    }
   ],
   "source": [
    "adopted.isna().any()"
   ]
  },
  {
   "cell_type": "code",
   "execution_count": 88,
   "metadata": {},
   "outputs": [],
   "source": [
    "alt_adopt = adopted.drop(['object_id', 'org_id'], axis=1)"
   ]
  },
  {
   "cell_type": "code",
   "execution_count": 89,
   "metadata": {},
   "outputs": [
    {
     "data": {
      "text/html": [
       "<div>\n",
       "<style scoped>\n",
       "    .dataframe tbody tr th:only-of-type {\n",
       "        vertical-align: middle;\n",
       "    }\n",
       "\n",
       "    .dataframe tbody tr th {\n",
       "        vertical-align: top;\n",
       "    }\n",
       "\n",
       "    .dataframe thead th {\n",
       "        text-align: right;\n",
       "    }\n",
       "</style>\n",
       "<table border=\"1\" class=\"dataframe\">\n",
       "  <thead>\n",
       "    <tr style=\"text-align: right;\">\n",
       "      <th></th>\n",
       "      <th>creation_time</th>\n",
       "      <th>creation_source</th>\n",
       "      <th>last_session_creation_time</th>\n",
       "      <th>opted_in_to_mailing_list</th>\n",
       "      <th>enabled_for_marketing_drip</th>\n",
       "      <th>invited_by_user_id</th>\n",
       "      <th>adopted</th>\n",
       "    </tr>\n",
       "  </thead>\n",
       "  <tbody>\n",
       "    <tr>\n",
       "      <th>0</th>\n",
       "      <td>2014</td>\n",
       "      <td>GUEST_INVITE</td>\n",
       "      <td>1.398139e+09</td>\n",
       "      <td>1</td>\n",
       "      <td>0</td>\n",
       "      <td>10803.0</td>\n",
       "      <td>0</td>\n",
       "    </tr>\n",
       "    <tr>\n",
       "      <th>1</th>\n",
       "      <td>2013</td>\n",
       "      <td>ORG_INVITE</td>\n",
       "      <td>1.396238e+09</td>\n",
       "      <td>0</td>\n",
       "      <td>0</td>\n",
       "      <td>316.0</td>\n",
       "      <td>1</td>\n",
       "    </tr>\n",
       "  </tbody>\n",
       "</table>\n",
       "</div>"
      ],
      "text/plain": [
       "  creation_time creation_source  last_session_creation_time  \\\n",
       "0          2014    GUEST_INVITE                1.398139e+09   \n",
       "1          2013      ORG_INVITE                1.396238e+09   \n",
       "\n",
       "   opted_in_to_mailing_list  enabled_for_marketing_drip  invited_by_user_id  \\\n",
       "0                         1                           0             10803.0   \n",
       "1                         0                           0               316.0   \n",
       "\n",
       "   adopted  \n",
       "0        0  \n",
       "1        1  "
      ]
     },
     "execution_count": 89,
     "metadata": {},
     "output_type": "execute_result"
    }
   ],
   "source": [
    "# Breakdown creation time by year to make it a simple discrete variable\n",
    "\n",
    "alt_adopt['creation_time'] = pd.to_datetime(alt_adopt['creation_time'])\n",
    "\n",
    "alt_adopt['creation_time'] = alt_adopt['creation_time'].dt.year\n",
    "\n",
    "alt_adopt['creation_time'] = alt_adopt['creation_time'].astype('object')\n",
    "        \n",
    "alt_adopt.head(2)"
   ]
  },
  {
   "cell_type": "code",
   "execution_count": 90,
   "metadata": {},
   "outputs": [
    {
     "data": {
      "text/html": [
       "<div>\n",
       "<style scoped>\n",
       "    .dataframe tbody tr th:only-of-type {\n",
       "        vertical-align: middle;\n",
       "    }\n",
       "\n",
       "    .dataframe tbody tr th {\n",
       "        vertical-align: top;\n",
       "    }\n",
       "\n",
       "    .dataframe thead th {\n",
       "        text-align: right;\n",
       "    }\n",
       "</style>\n",
       "<table border=\"1\" class=\"dataframe\">\n",
       "  <thead>\n",
       "    <tr style=\"text-align: right;\">\n",
       "      <th></th>\n",
       "      <th>creation_time</th>\n",
       "      <th>creation_source</th>\n",
       "      <th>last_session_creation_time</th>\n",
       "      <th>opted_in_to_mailing_list</th>\n",
       "      <th>enabled_for_marketing_drip</th>\n",
       "      <th>invited_by_user_id</th>\n",
       "      <th>adopted</th>\n",
       "    </tr>\n",
       "  </thead>\n",
       "  <tbody>\n",
       "    <tr>\n",
       "      <th>5</th>\n",
       "      <td>2013</td>\n",
       "      <td>GUEST_INVITE</td>\n",
       "      <td>1.387424e+09</td>\n",
       "      <td>0</td>\n",
       "      <td>0</td>\n",
       "      <td>1.0</td>\n",
       "      <td>0</td>\n",
       "    </tr>\n",
       "    <tr>\n",
       "      <th>6</th>\n",
       "      <td>2012</td>\n",
       "      <td>SIGNUP</td>\n",
       "      <td>1.356010e+09</td>\n",
       "      <td>0</td>\n",
       "      <td>1</td>\n",
       "      <td>0.0</td>\n",
       "      <td>0</td>\n",
       "    </tr>\n",
       "  </tbody>\n",
       "</table>\n",
       "</div>"
      ],
      "text/plain": [
       "  creation_time creation_source  last_session_creation_time  \\\n",
       "5          2013    GUEST_INVITE                1.387424e+09   \n",
       "6          2012          SIGNUP                1.356010e+09   \n",
       "\n",
       "   opted_in_to_mailing_list  enabled_for_marketing_drip  invited_by_user_id  \\\n",
       "5                         0                           0                 1.0   \n",
       "6                         0                           1                 0.0   \n",
       "\n",
       "   adopted  \n",
       "5        0  \n",
       "6        0  "
      ]
     },
     "execution_count": 90,
     "metadata": {},
     "output_type": "execute_result"
    }
   ],
   "source": [
    "# update 'invited' column to binary to remove NaN values\n",
    "# also will cut down number of dummy variables needed\n",
    "\n",
    "for i, row in alt_adopt.iterrows():\n",
    "    if alt_adopt.loc[i, 'invited_by_user_id'] > 0:\n",
    "        alt_adopt.loc[i, 'invited_by_user_id'] = 1\n",
    "    else:\n",
    "        alt_adopt.loc[i, 'invited_by_user_id'] = 0\n",
    "        \n",
    "alt_adopt.iloc[5:7]"
   ]
  },
  {
   "cell_type": "code",
   "execution_count": 91,
   "metadata": {},
   "outputs": [],
   "source": [
    "# for 'session_time' NaN values will just be changed to zero.\n",
    "# This column can be treated as a continuous variable\n",
    "\n",
    "alt_adopt = alt_adopt.fillna(0)"
   ]
  },
  {
   "cell_type": "code",
   "execution_count": 92,
   "metadata": {},
   "outputs": [
    {
     "data": {
      "text/plain": [
       "creation_time                 False\n",
       "creation_source               False\n",
       "last_session_creation_time    False\n",
       "opted_in_to_mailing_list      False\n",
       "enabled_for_marketing_drip    False\n",
       "invited_by_user_id            False\n",
       "adopted                       False\n",
       "dtype: bool"
      ]
     },
     "execution_count": 92,
     "metadata": {},
     "output_type": "execute_result"
    }
   ],
   "source": [
    "alt_adopt.isna().any()"
   ]
  },
  {
   "cell_type": "code",
   "execution_count": 93,
   "metadata": {},
   "outputs": [],
   "source": [
    "alt_adopt = pd.get_dummies(alt_adopt, columns=['creation_source', 'creation_time'], drop_first=True)"
   ]
  },
  {
   "cell_type": "markdown",
   "metadata": {},
   "source": [
    "Now that the data set has been adjusted, we can create our X and y variables and proceed."
   ]
  },
  {
   "cell_type": "code",
   "execution_count": 94,
   "metadata": {},
   "outputs": [],
   "source": [
    "from sklearn.model_selection import train_test_split\n",
    "\n",
    "X = alt_adopt.loc[:, alt_adopt.columns != 'adopted']\n",
    "y = alt_adopt.adopted\n",
    "\n",
    "state = 4\n",
    "\n",
    "X_train, X_test, y_train, y_test = train_test_split(X, y, test_size=0.28, stratify=y, random_state=state)"
   ]
  },
  {
   "cell_type": "code",
   "execution_count": 101,
   "metadata": {},
   "outputs": [
    {
     "name": "stdout",
     "output_type": "stream",
     "text": [
      "Best C:  LogisticRegression(C=1e-07, class_weight=None, dual=False, fit_intercept=True,\n",
      "                   intercept_scaling=1, l1_ratio=None, max_iter=100,\n",
      "                   multi_class='warn', n_jobs=None, penalty='l2',\n",
      "                   random_state=None, solver='lbfgs', tol=0.0001, verbose=0,\n",
      "                   warm_start=False)\n",
      "Best score:  0.8665354786433614\n"
     ]
    }
   ],
   "source": [
    "from sklearn.linear_model import LogisticRegression\n",
    "from sklearn.model_selection import GridSearchCV\n",
    "\n",
    "log_r = LogisticRegression(solver='lbfgs')\n",
    "\n",
    "params = {'C': [0.0000001, 0.001, 0.01, 0.1]}\n",
    "\n",
    "log_grid = GridSearchCV(log_r, params, cv=6)\n",
    "\n",
    "log_grid.fit(X_train, y_train)\n",
    "\n",
    "print('Best C: ', log_grid.best_estimator_)\n",
    "print('Best score: ', log_grid.best_score_)"
   ]
  },
  {
   "cell_type": "code",
   "execution_count": 106,
   "metadata": {},
   "outputs": [
    {
     "name": "stdout",
     "output_type": "stream",
     "text": [
      "0.8664088069027075\n"
     ]
    }
   ],
   "source": [
    "from sklearn.metrics import accuracy_score\n",
    "\n",
    "log_val = LogisticRegression(solver='lbfgs', C=0.0000001)\n",
    "\n",
    "log_val.fit(X_train, y_train)\n",
    "\n",
    "pred = log_val.predict(X_test)\n",
    "\n",
    "print(accuracy_score(y_test, pred))"
   ]
  },
  {
   "cell_type": "markdown",
   "metadata": {},
   "source": [
    "The accuracy is higher than I expected, and the model seems to generalize well on unseen data. The data is unbalanced, but we stratified the test set to try and account for that.<br>\n",
    "<br>\n",
    "Let's see which variables had the most impact. All the coefficients are negative, but we are interested in the positive class so we want the coefficients that are least negative."
   ]
  },
  {
   "cell_type": "code",
   "execution_count": 121,
   "metadata": {},
   "outputs": [
    {
     "data": {
      "text/plain": [
       "array([[-1.07972864e-09, -1.30001477e-18, -7.31102045e-19,\n",
       "        -2.69209582e-18, -1.91407180e-18, -1.96666249e-18,\n",
       "        -6.52620226e-19, -1.28823506e-19, -2.30891029e-18,\n",
       "        -2.08233605e-18]])"
      ]
     },
     "execution_count": 121,
     "metadata": {},
     "output_type": "execute_result"
    }
   ],
   "source": [
    "log_val.coef_"
   ]
  },
  {
   "cell_type": "code",
   "execution_count": 122,
   "metadata": {},
   "outputs": [
    {
     "name": "stdout",
     "output_type": "stream",
     "text": [
      "Index(['creation_source_ORG_INVITE', 'opted_in_to_mailing_list',\n",
      "       'enabled_for_marketing_drip', 'creation_source_SIGNUP',\n",
      "       'creation_source_SIGNUP_GOOGLE_AUTH'],\n",
      "      dtype='object')\n"
     ]
    }
   ],
   "source": [
    "coefs = log_val.coef_[0]\n",
    "top_coefs = np.argpartition(coefs, -5)[-5:]\n",
    "top_sorted = top_coefs[np.argsort(coefs[top_coefs])]\n",
    "print(X_test.columns[top_sorted])"
   ]
  },
  {
   "cell_type": "markdown",
   "metadata": {},
   "source": [
    "We can also try a decistion tree based model to get feature importances."
   ]
  },
  {
   "cell_type": "code",
   "execution_count": 123,
   "metadata": {},
   "outputs": [
    {
     "name": "stdout",
     "output_type": "stream",
     "text": [
      "0.9307790253501562\n"
     ]
    }
   ],
   "source": [
    "from sklearn.ensemble import RandomForestClassifier\n",
    "\n",
    "rf = RandomForestClassifier(n_estimators=100,\\\n",
    "                            oob_score=True,\\\n",
    "                            random_state=4,\\\n",
    "                            n_jobs=-1)\n",
    "\n",
    "rf.fit(X_train, y_train)\n",
    "print(rf.oob_score_)"
   ]
  },
  {
   "cell_type": "code",
   "execution_count": 124,
   "metadata": {},
   "outputs": [
    {
     "data": {
      "text/plain": [
       "0.9345432906872955"
      ]
     },
     "execution_count": 124,
     "metadata": {},
     "output_type": "execute_result"
    }
   ],
   "source": [
    "rf_pred = rf.predict(X_test)\n",
    "accuracy_score(y_test, rf_pred)"
   ]
  },
  {
   "cell_type": "markdown",
   "metadata": {},
   "source": [
    "Again, the results are good, and the model doesn't seem to overfit."
   ]
  },
  {
   "cell_type": "code",
   "execution_count": 125,
   "metadata": {},
   "outputs": [
    {
     "data": {
      "image/png": "[encoded data removed]",
      "text/plain": [
       "<Figure size 720x432 with 1 Axes>"
      ]
     },
     "metadata": {
      "needs_background": "light"
     },
     "output_type": "display_data"
    }
   ],
   "source": [
    "important = pd.Series(data=rf.feature_importances_, index=X_train.columns).sort_values()\n",
    "\n",
    "fig = plt.subplots(figsize=(10,6))\n",
    "_ = important.plot(kind='barh')\n",
    "_ = plt.title('RF feature importances', fontsize=14)"
   ]
  },
  {
   "cell_type": "markdown",
   "metadata": {},
   "source": [
    "Whereas logistic regression tended to favor the method of signup, random forest clearly values the most recent activity. This seems to indicate that activity matters."
   ]
  }
 ],
 "metadata": {
  "kernelspec": {
   "display_name": "Python 3",
   "language": "python",
   "name": "python3"
  },
  "language_info": {
   "codemirror_mode": {
    "name": "ipython",
    "version": 3
   },
   "file_extension": ".py",
   "mimetype": "text/x-python",
   "name": "python",
   "nbconvert_exporter": "python",
   "pygments_lexer": "ipython3",
   "version": "3.7.1"
  }
 },
 "nbformat": 4,
 "nbformat_minor": 2
}
