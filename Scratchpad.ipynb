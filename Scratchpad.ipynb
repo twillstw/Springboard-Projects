{
 "cells": [
  {
   "cell_type": "code",
   "execution_count": 1,
   "metadata": {},
   "outputs": [],
   "source": [
    "import pandas as pd\n",
    "import numpy as np\n",
    "import matplotlib.pyplot as plt\n",
    "%matplotlib inline"
   ]
  },
  {
   "cell_type": "markdown",
   "metadata": {},
   "source": [
    "Read in the file here"
   ]
  },
  {
   "cell_type": "code",
   "execution_count": 2,
   "metadata": {},
   "outputs": [
    {
     "data": {
      "text/html": [
       "<div>\n",
       "<style scoped>\n",
       "    .dataframe tbody tr th:only-of-type {\n",
       "        vertical-align: middle;\n",
       "    }\n",
       "\n",
       "    .dataframe tbody tr th {\n",
       "        vertical-align: top;\n",
       "    }\n",
       "\n",
       "    .dataframe thead th {\n",
       "        text-align: right;\n",
       "    }\n",
       "</style>\n",
       "<table border=\"1\" class=\"dataframe\">\n",
       "  <thead>\n",
       "    <tr style=\"text-align: right;\">\n",
       "      <th></th>\n",
       "      <th>artist_name</th>\n",
       "      <th>track_id</th>\n",
       "      <th>track_name</th>\n",
       "      <th>acousticness</th>\n",
       "      <th>danceability</th>\n",
       "      <th>duration_ms</th>\n",
       "      <th>energy</th>\n",
       "      <th>instrumentalness</th>\n",
       "      <th>key</th>\n",
       "      <th>liveness</th>\n",
       "      <th>loudness</th>\n",
       "      <th>mode</th>\n",
       "      <th>speechiness</th>\n",
       "      <th>tempo</th>\n",
       "      <th>time_signature</th>\n",
       "      <th>valence</th>\n",
       "      <th>popularity</th>\n",
       "    </tr>\n",
       "  </thead>\n",
       "  <tbody>\n",
       "    <tr>\n",
       "      <th>0</th>\n",
       "      <td>YG</td>\n",
       "      <td>2RM4jf1Xa9zPgMGRDiht8O</td>\n",
       "      <td>Big Bank feat. 2 Chainz, Big Sean, Nicki Minaj</td>\n",
       "      <td>0.00582</td>\n",
       "      <td>0.743</td>\n",
       "      <td>238373</td>\n",
       "      <td>0.339</td>\n",
       "      <td>0.0</td>\n",
       "      <td>1</td>\n",
       "      <td>0.0812</td>\n",
       "      <td>-7.678</td>\n",
       "      <td>1</td>\n",
       "      <td>0.409</td>\n",
       "      <td>203.927</td>\n",
       "      <td>4</td>\n",
       "      <td>0.118</td>\n",
       "      <td>15</td>\n",
       "    </tr>\n",
       "    <tr>\n",
       "      <th>1</th>\n",
       "      <td>YG</td>\n",
       "      <td>1tHDG53xJNGsItRA3vfVgs</td>\n",
       "      <td>BAND DRUM (feat. A$AP Rocky)</td>\n",
       "      <td>0.02440</td>\n",
       "      <td>0.846</td>\n",
       "      <td>214800</td>\n",
       "      <td>0.557</td>\n",
       "      <td>0.0</td>\n",
       "      <td>8</td>\n",
       "      <td>0.2860</td>\n",
       "      <td>-7.259</td>\n",
       "      <td>1</td>\n",
       "      <td>0.457</td>\n",
       "      <td>159.009</td>\n",
       "      <td>4</td>\n",
       "      <td>0.371</td>\n",
       "      <td>0</td>\n",
       "    </tr>\n",
       "  </tbody>\n",
       "</table>\n",
       "</div>"
      ],
      "text/plain": [
       "  artist_name                track_id  \\\n",
       "0          YG  2RM4jf1Xa9zPgMGRDiht8O   \n",
       "1          YG  1tHDG53xJNGsItRA3vfVgs   \n",
       "\n",
       "                                       track_name  acousticness  danceability  \\\n",
       "0  Big Bank feat. 2 Chainz, Big Sean, Nicki Minaj       0.00582         0.743   \n",
       "1                    BAND DRUM (feat. A$AP Rocky)       0.02440         0.846   \n",
       "\n",
       "   duration_ms  energy  instrumentalness  key  liveness  loudness  mode  \\\n",
       "0       238373   0.339               0.0    1    0.0812    -7.678     1   \n",
       "1       214800   0.557               0.0    8    0.2860    -7.259     1   \n",
       "\n",
       "   speechiness    tempo  time_signature  valence  popularity  \n",
       "0        0.409  203.927               4    0.118          15  \n",
       "1        0.457  159.009               4    0.371           0  "
      ]
     },
     "execution_count": 2,
     "metadata": {},
     "output_type": "execute_result"
    }
   ],
   "source": [
    "spotify = pd.read_csv('Data/SpotifyFeatures0419.csv')\n",
    "\n",
    "spotify.head(2)"
   ]
  },
  {
   "cell_type": "code",
   "execution_count": 4,
   "metadata": {},
   "outputs": [],
   "source": [
    "#spotify.info()"
   ]
  },
  {
   "cell_type": "markdown",
   "metadata": {},
   "source": [
    "#### Restructuring the data"
   ]
  },
  {
   "cell_type": "code",
   "execution_count": 3,
   "metadata": {},
   "outputs": [
    {
     "data": {
      "text/html": [
       "<div>\n",
       "<style scoped>\n",
       "    .dataframe tbody tr th:only-of-type {\n",
       "        vertical-align: middle;\n",
       "    }\n",
       "\n",
       "    .dataframe tbody tr th {\n",
       "        vertical-align: top;\n",
       "    }\n",
       "\n",
       "    .dataframe thead th {\n",
       "        text-align: right;\n",
       "    }\n",
       "</style>\n",
       "<table border=\"1\" class=\"dataframe\">\n",
       "  <thead>\n",
       "    <tr style=\"text-align: right;\">\n",
       "      <th></th>\n",
       "      <th>artist_name</th>\n",
       "      <th>track_name</th>\n",
       "      <th>acousticness</th>\n",
       "      <th>danceability</th>\n",
       "      <th>duration_ms</th>\n",
       "      <th>energy</th>\n",
       "      <th>instrumentalness</th>\n",
       "      <th>key</th>\n",
       "      <th>liveness</th>\n",
       "      <th>loudness</th>\n",
       "      <th>mode</th>\n",
       "      <th>speechiness</th>\n",
       "      <th>tempo</th>\n",
       "      <th>time_signature</th>\n",
       "      <th>valence</th>\n",
       "      <th>popularity</th>\n",
       "    </tr>\n",
       "  </thead>\n",
       "  <tbody>\n",
       "    <tr>\n",
       "      <th>111770</th>\n",
       "      <td>Nikonem</td>\n",
       "      <td>Lighter House</td>\n",
       "      <td>0.079</td>\n",
       "      <td>0.764</td>\n",
       "      <td>124672</td>\n",
       "      <td>0.1950</td>\n",
       "      <td>0.898000</td>\n",
       "      <td>5</td>\n",
       "      <td>0.1210</td>\n",
       "      <td>-19.130</td>\n",
       "      <td>0</td>\n",
       "      <td>0.0842</td>\n",
       "      <td>119.990</td>\n",
       "      <td>4</td>\n",
       "      <td>0.7590</td>\n",
       "      <td>1</td>\n",
       "    </tr>\n",
       "    <tr>\n",
       "      <th>111771</th>\n",
       "      <td>Preet Thind</td>\n",
       "      <td>Punjab Singh</td>\n",
       "      <td>0.250</td>\n",
       "      <td>0.713</td>\n",
       "      <td>271000</td>\n",
       "      <td>0.9140</td>\n",
       "      <td>0.000311</td>\n",
       "      <td>11</td>\n",
       "      <td>0.9430</td>\n",
       "      <td>-2.462</td>\n",
       "      <td>0</td>\n",
       "      <td>0.2200</td>\n",
       "      <td>168.011</td>\n",
       "      <td>4</td>\n",
       "      <td>0.8960</td>\n",
       "      <td>1</td>\n",
       "    </tr>\n",
       "    <tr>\n",
       "      <th>111772</th>\n",
       "      <td>Jesper Kyd</td>\n",
       "      <td>Vermintide 2 Main Theme - Chaos Version</td>\n",
       "      <td>0.126</td>\n",
       "      <td>0.424</td>\n",
       "      <td>237817</td>\n",
       "      <td>0.4070</td>\n",
       "      <td>0.902000</td>\n",
       "      <td>5</td>\n",
       "      <td>0.0941</td>\n",
       "      <td>-13.841</td>\n",
       "      <td>1</td>\n",
       "      <td>0.0646</td>\n",
       "      <td>144.027</td>\n",
       "      <td>3</td>\n",
       "      <td>0.1820</td>\n",
       "      <td>1</td>\n",
       "    </tr>\n",
       "    <tr>\n",
       "      <th>111773</th>\n",
       "      <td>Onkarswaroop</td>\n",
       "      <td>Godi Madhachi(Sapan Bhurr Zhal)</td>\n",
       "      <td>0.408</td>\n",
       "      <td>0.662</td>\n",
       "      <td>289216</td>\n",
       "      <td>0.4920</td>\n",
       "      <td>0.014800</td>\n",
       "      <td>8</td>\n",
       "      <td>0.1040</td>\n",
       "      <td>-9.850</td>\n",
       "      <td>0</td>\n",
       "      <td>0.1140</td>\n",
       "      <td>131.906</td>\n",
       "      <td>3</td>\n",
       "      <td>0.3660</td>\n",
       "      <td>1</td>\n",
       "    </tr>\n",
       "    <tr>\n",
       "      <th>111774</th>\n",
       "      <td>Toy Rock</td>\n",
       "      <td>The End</td>\n",
       "      <td>0.987</td>\n",
       "      <td>0.421</td>\n",
       "      <td>102545</td>\n",
       "      <td>0.0318</td>\n",
       "      <td>0.807000</td>\n",
       "      <td>0</td>\n",
       "      <td>0.1130</td>\n",
       "      <td>-36.149</td>\n",
       "      <td>1</td>\n",
       "      <td>0.0478</td>\n",
       "      <td>102.798</td>\n",
       "      <td>3</td>\n",
       "      <td>0.0391</td>\n",
       "      <td>1</td>\n",
       "    </tr>\n",
       "  </tbody>\n",
       "</table>\n",
       "</div>"
      ],
      "text/plain": [
       "         artist_name                               track_name  acousticness  \\\n",
       "111770       Nikonem                            Lighter House         0.079   \n",
       "111771   Preet Thind                             Punjab Singh         0.250   \n",
       "111772    Jesper Kyd  Vermintide 2 Main Theme - Chaos Version         0.126   \n",
       "111773  Onkarswaroop          Godi Madhachi(Sapan Bhurr Zhal)         0.408   \n",
       "111774      Toy Rock                                  The End         0.987   \n",
       "\n",
       "        danceability  duration_ms  energy  instrumentalness  key  liveness  \\\n",
       "111770         0.764       124672  0.1950          0.898000    5    0.1210   \n",
       "111771         0.713       271000  0.9140          0.000311   11    0.9430   \n",
       "111772         0.424       237817  0.4070          0.902000    5    0.0941   \n",
       "111773         0.662       289216  0.4920          0.014800    8    0.1040   \n",
       "111774         0.421       102545  0.0318          0.807000    0    0.1130   \n",
       "\n",
       "        loudness  mode  speechiness    tempo  time_signature  valence  \\\n",
       "111770   -19.130     0       0.0842  119.990               4   0.7590   \n",
       "111771    -2.462     0       0.2200  168.011               4   0.8960   \n",
       "111772   -13.841     1       0.0646  144.027               3   0.1820   \n",
       "111773    -9.850     0       0.1140  131.906               3   0.3660   \n",
       "111774   -36.149     1       0.0478  102.798               3   0.0391   \n",
       "\n",
       "        popularity  \n",
       "111770           1  \n",
       "111771           1  \n",
       "111772           1  \n",
       "111773           1  \n",
       "111774           1  "
      ]
     },
     "execution_count": 3,
     "metadata": {},
     "output_type": "execute_result"
    }
   ],
   "source": [
    "#order the data by the target column; drop the track_id and superfluous index column\n",
    "spotify_ordered = spotify.sort_values('popularity', ascending=False).reset_index()\n",
    "so = spotify_ordered.drop(['index', 'track_id'], axis=1)\n",
    "\n",
    "#start index at 1 to accurately see where popularities rank\n",
    "so.index = so.index + 1\n",
    "\n",
    "#drop songs with popularity of zero as they create noise\n",
    "so = so[so.popularity > 0]\n",
    "so.tail()"
   ]
  },
  {
   "cell_type": "code",
   "execution_count": 4,
   "metadata": {},
   "outputs": [],
   "source": [
    "#convert certain columns to categorical as they shouldn't \n",
    "#be treated numerically or ordinally\n",
    "so[['mode', 'key', 'time_signature']] = so[['mode', 'key', 'time_signature']].astype('category')"
   ]
  },
  {
   "cell_type": "code",
   "execution_count": 5,
   "metadata": {},
   "outputs": [
    {
     "data": {
      "text/html": [
       "<div>\n",
       "<style scoped>\n",
       "    .dataframe tbody tr th:only-of-type {\n",
       "        vertical-align: middle;\n",
       "    }\n",
       "\n",
       "    .dataframe tbody tr th {\n",
       "        vertical-align: top;\n",
       "    }\n",
       "\n",
       "    .dataframe thead th {\n",
       "        text-align: right;\n",
       "    }\n",
       "</style>\n",
       "<table border=\"1\" class=\"dataframe\">\n",
       "  <thead>\n",
       "    <tr style=\"text-align: right;\">\n",
       "      <th></th>\n",
       "      <th>artist_name</th>\n",
       "      <th>track_name</th>\n",
       "      <th>acousticness</th>\n",
       "      <th>danceability</th>\n",
       "      <th>duration_ms</th>\n",
       "      <th>energy</th>\n",
       "      <th>instrumentalness</th>\n",
       "      <th>key</th>\n",
       "      <th>liveness</th>\n",
       "      <th>loudness</th>\n",
       "      <th>mode</th>\n",
       "      <th>speechiness</th>\n",
       "      <th>tempo</th>\n",
       "      <th>time_signature</th>\n",
       "      <th>valence</th>\n",
       "      <th>popularity</th>\n",
       "    </tr>\n",
       "  </thead>\n",
       "  <tbody>\n",
       "    <tr>\n",
       "      <th>1</th>\n",
       "      <td>Daddy Yankee</td>\n",
       "      <td>Con Calma</td>\n",
       "      <td>0.1100</td>\n",
       "      <td>0.737</td>\n",
       "      <td>193227</td>\n",
       "      <td>0.860</td>\n",
       "      <td>0.000002</td>\n",
       "      <td>8</td>\n",
       "      <td>0.0574</td>\n",
       "      <td>-2.652</td>\n",
       "      <td>0</td>\n",
       "      <td>0.0593</td>\n",
       "      <td>93.989</td>\n",
       "      <td>4</td>\n",
       "      <td>0.656</td>\n",
       "      <td>100</td>\n",
       "    </tr>\n",
       "    <tr>\n",
       "      <th>2</th>\n",
       "      <td>Post Malone</td>\n",
       "      <td>Wow.</td>\n",
       "      <td>0.1630</td>\n",
       "      <td>0.833</td>\n",
       "      <td>149520</td>\n",
       "      <td>0.539</td>\n",
       "      <td>0.000002</td>\n",
       "      <td>11</td>\n",
       "      <td>0.1010</td>\n",
       "      <td>-7.399</td>\n",
       "      <td>0</td>\n",
       "      <td>0.1780</td>\n",
       "      <td>99.947</td>\n",
       "      <td>4</td>\n",
       "      <td>0.385</td>\n",
       "      <td>98</td>\n",
       "    </tr>\n",
       "    <tr>\n",
       "      <th>3</th>\n",
       "      <td>Billie Eilish</td>\n",
       "      <td>bad guy</td>\n",
       "      <td>0.3080</td>\n",
       "      <td>0.708</td>\n",
       "      <td>194088</td>\n",
       "      <td>0.418</td>\n",
       "      <td>0.093000</td>\n",
       "      <td>0</td>\n",
       "      <td>0.1000</td>\n",
       "      <td>-10.998</td>\n",
       "      <td>1</td>\n",
       "      <td>0.3680</td>\n",
       "      <td>131.926</td>\n",
       "      <td>4</td>\n",
       "      <td>0.578</td>\n",
       "      <td>98</td>\n",
       "    </tr>\n",
       "    <tr>\n",
       "      <th>4</th>\n",
       "      <td>Post Malone</td>\n",
       "      <td>Sunflower - Spider-Man: Into the Spider-Verse</td>\n",
       "      <td>0.5200</td>\n",
       "      <td>0.744</td>\n",
       "      <td>158040</td>\n",
       "      <td>0.494</td>\n",
       "      <td>0.000000</td>\n",
       "      <td>2</td>\n",
       "      <td>0.0716</td>\n",
       "      <td>-5.563</td>\n",
       "      <td>1</td>\n",
       "      <td>0.0699</td>\n",
       "      <td>89.972</td>\n",
       "      <td>4</td>\n",
       "      <td>0.927</td>\n",
       "      <td>98</td>\n",
       "    </tr>\n",
       "    <tr>\n",
       "      <th>5</th>\n",
       "      <td>Jonas Brothers</td>\n",
       "      <td>Sucker</td>\n",
       "      <td>0.0427</td>\n",
       "      <td>0.842</td>\n",
       "      <td>181040</td>\n",
       "      <td>0.734</td>\n",
       "      <td>0.000000</td>\n",
       "      <td>1</td>\n",
       "      <td>0.1060</td>\n",
       "      <td>-5.065</td>\n",
       "      <td>0</td>\n",
       "      <td>0.0588</td>\n",
       "      <td>137.958</td>\n",
       "      <td>4</td>\n",
       "      <td>0.952</td>\n",
       "      <td>98</td>\n",
       "    </tr>\n",
       "  </tbody>\n",
       "</table>\n",
       "</div>"
      ],
      "text/plain": [
       "      artist_name                                     track_name  \\\n",
       "1    Daddy Yankee                                      Con Calma   \n",
       "2     Post Malone                                           Wow.   \n",
       "3   Billie Eilish                                        bad guy   \n",
       "4     Post Malone  Sunflower - Spider-Man: Into the Spider-Verse   \n",
       "5  Jonas Brothers                                         Sucker   \n",
       "\n",
       "   acousticness  danceability  duration_ms  energy  instrumentalness key  \\\n",
       "1        0.1100         0.737       193227   0.860          0.000002   8   \n",
       "2        0.1630         0.833       149520   0.539          0.000002  11   \n",
       "3        0.3080         0.708       194088   0.418          0.093000   0   \n",
       "4        0.5200         0.744       158040   0.494          0.000000   2   \n",
       "5        0.0427         0.842       181040   0.734          0.000000   1   \n",
       "\n",
       "   liveness  loudness mode  speechiness    tempo time_signature  valence  \\\n",
       "1    0.0574    -2.652    0       0.0593   93.989              4    0.656   \n",
       "2    0.1010    -7.399    0       0.1780   99.947              4    0.385   \n",
       "3    0.1000   -10.998    1       0.3680  131.926              4    0.578   \n",
       "4    0.0716    -5.563    1       0.0699   89.972              4    0.927   \n",
       "5    0.1060    -5.065    0       0.0588  137.958              4    0.952   \n",
       "\n",
       "   popularity  \n",
       "1         100  \n",
       "2          98  \n",
       "3          98  \n",
       "4          98  \n",
       "5          98  "
      ]
     },
     "execution_count": 5,
     "metadata": {},
     "output_type": "execute_result"
    }
   ],
   "source": [
    "so.head()"
   ]
  },
  {
   "cell_type": "code",
   "execution_count": 24,
   "metadata": {},
   "outputs": [],
   "source": [
    "#print(so.dtypes)"
   ]
  },
  {
   "cell_type": "code",
   "execution_count": 6,
   "metadata": {},
   "outputs": [
    {
     "data": {
      "text/html": [
       "<div>\n",
       "<style scoped>\n",
       "    .dataframe tbody tr th:only-of-type {\n",
       "        vertical-align: middle;\n",
       "    }\n",
       "\n",
       "    .dataframe tbody tr th {\n",
       "        vertical-align: top;\n",
       "    }\n",
       "\n",
       "    .dataframe thead th {\n",
       "        text-align: right;\n",
       "    }\n",
       "</style>\n",
       "<table border=\"1\" class=\"dataframe\">\n",
       "  <thead>\n",
       "    <tr style=\"text-align: right;\">\n",
       "      <th></th>\n",
       "      <th>artist_name</th>\n",
       "      <th>track_name</th>\n",
       "      <th>acousticness</th>\n",
       "      <th>danceability</th>\n",
       "      <th>duration_ms</th>\n",
       "      <th>energy</th>\n",
       "      <th>instrumentalness</th>\n",
       "      <th>key</th>\n",
       "      <th>liveness</th>\n",
       "      <th>loudness</th>\n",
       "      <th>mode</th>\n",
       "      <th>speechiness</th>\n",
       "      <th>tempo</th>\n",
       "      <th>time_signature</th>\n",
       "      <th>valence</th>\n",
       "      <th>popularity</th>\n",
       "      <th>pop_rating</th>\n",
       "    </tr>\n",
       "  </thead>\n",
       "  <tbody>\n",
       "    <tr>\n",
       "      <th>1</th>\n",
       "      <td>Daddy Yankee</td>\n",
       "      <td>Con Calma</td>\n",
       "      <td>0.1100</td>\n",
       "      <td>0.737</td>\n",
       "      <td>193227</td>\n",
       "      <td>0.860</td>\n",
       "      <td>0.000002</td>\n",
       "      <td>8</td>\n",
       "      <td>0.0574</td>\n",
       "      <td>-2.652</td>\n",
       "      <td>0</td>\n",
       "      <td>0.0593</td>\n",
       "      <td>93.989</td>\n",
       "      <td>4</td>\n",
       "      <td>0.656</td>\n",
       "      <td>100</td>\n",
       "      <td>popular</td>\n",
       "    </tr>\n",
       "    <tr>\n",
       "      <th>2</th>\n",
       "      <td>Post Malone</td>\n",
       "      <td>Wow.</td>\n",
       "      <td>0.1630</td>\n",
       "      <td>0.833</td>\n",
       "      <td>149520</td>\n",
       "      <td>0.539</td>\n",
       "      <td>0.000002</td>\n",
       "      <td>11</td>\n",
       "      <td>0.1010</td>\n",
       "      <td>-7.399</td>\n",
       "      <td>0</td>\n",
       "      <td>0.1780</td>\n",
       "      <td>99.947</td>\n",
       "      <td>4</td>\n",
       "      <td>0.385</td>\n",
       "      <td>98</td>\n",
       "      <td>popular</td>\n",
       "    </tr>\n",
       "    <tr>\n",
       "      <th>3</th>\n",
       "      <td>Billie Eilish</td>\n",
       "      <td>bad guy</td>\n",
       "      <td>0.3080</td>\n",
       "      <td>0.708</td>\n",
       "      <td>194088</td>\n",
       "      <td>0.418</td>\n",
       "      <td>0.093000</td>\n",
       "      <td>0</td>\n",
       "      <td>0.1000</td>\n",
       "      <td>-10.998</td>\n",
       "      <td>1</td>\n",
       "      <td>0.3680</td>\n",
       "      <td>131.926</td>\n",
       "      <td>4</td>\n",
       "      <td>0.578</td>\n",
       "      <td>98</td>\n",
       "      <td>popular</td>\n",
       "    </tr>\n",
       "    <tr>\n",
       "      <th>4</th>\n",
       "      <td>Post Malone</td>\n",
       "      <td>Sunflower - Spider-Man: Into the Spider-Verse</td>\n",
       "      <td>0.5200</td>\n",
       "      <td>0.744</td>\n",
       "      <td>158040</td>\n",
       "      <td>0.494</td>\n",
       "      <td>0.000000</td>\n",
       "      <td>2</td>\n",
       "      <td>0.0716</td>\n",
       "      <td>-5.563</td>\n",
       "      <td>1</td>\n",
       "      <td>0.0699</td>\n",
       "      <td>89.972</td>\n",
       "      <td>4</td>\n",
       "      <td>0.927</td>\n",
       "      <td>98</td>\n",
       "      <td>popular</td>\n",
       "    </tr>\n",
       "    <tr>\n",
       "      <th>5</th>\n",
       "      <td>Jonas Brothers</td>\n",
       "      <td>Sucker</td>\n",
       "      <td>0.0427</td>\n",
       "      <td>0.842</td>\n",
       "      <td>181040</td>\n",
       "      <td>0.734</td>\n",
       "      <td>0.000000</td>\n",
       "      <td>1</td>\n",
       "      <td>0.1060</td>\n",
       "      <td>-5.065</td>\n",
       "      <td>0</td>\n",
       "      <td>0.0588</td>\n",
       "      <td>137.958</td>\n",
       "      <td>4</td>\n",
       "      <td>0.952</td>\n",
       "      <td>98</td>\n",
       "      <td>popular</td>\n",
       "    </tr>\n",
       "  </tbody>\n",
       "</table>\n",
       "</div>"
      ],
      "text/plain": [
       "      artist_name                                     track_name  \\\n",
       "1    Daddy Yankee                                      Con Calma   \n",
       "2     Post Malone                                           Wow.   \n",
       "3   Billie Eilish                                        bad guy   \n",
       "4     Post Malone  Sunflower - Spider-Man: Into the Spider-Verse   \n",
       "5  Jonas Brothers                                         Sucker   \n",
       "\n",
       "   acousticness  danceability  duration_ms  energy  instrumentalness key  \\\n",
       "1        0.1100         0.737       193227   0.860          0.000002   8   \n",
       "2        0.1630         0.833       149520   0.539          0.000002  11   \n",
       "3        0.3080         0.708       194088   0.418          0.093000   0   \n",
       "4        0.5200         0.744       158040   0.494          0.000000   2   \n",
       "5        0.0427         0.842       181040   0.734          0.000000   1   \n",
       "\n",
       "   liveness  loudness mode  speechiness    tempo time_signature  valence  \\\n",
       "1    0.0574    -2.652    0       0.0593   93.989              4    0.656   \n",
       "2    0.1010    -7.399    0       0.1780   99.947              4    0.385   \n",
       "3    0.1000   -10.998    1       0.3680  131.926              4    0.578   \n",
       "4    0.0716    -5.563    1       0.0699   89.972              4    0.927   \n",
       "5    0.1060    -5.065    0       0.0588  137.958              4    0.952   \n",
       "\n",
       "   popularity pop_rating  \n",
       "1         100    popular  \n",
       "2          98    popular  \n",
       "3          98    popular  \n",
       "4          98    popular  \n",
       "5          98    popular  "
      ]
     },
     "execution_count": 6,
     "metadata": {},
     "output_type": "execute_result"
    }
   ],
   "source": [
    "#Create new table with a column classifying popularity ratings\n",
    "classified = so.copy()\n",
    "classified['pop_rating'] = ''\n",
    "\n",
    "for i, row in classified.iterrows():\n",
    "    score = 'unpopular'\n",
    "    if (row.popularity > 50) & (row.popularity < 75):\n",
    "        score = 'medium'\n",
    "    elif row.popularity >= 75:\n",
    "        score = 'popular'\n",
    "    classified.at[i, 'pop_rating'] = score\n",
    "    \n",
    "classified.head()"
   ]
  },
  {
   "cell_type": "code",
   "execution_count": 7,
   "metadata": {},
   "outputs": [],
   "source": [
    "#Set up the data for encoding: 'track_name' is categorical but is not useful so it will be dropped\n",
    "encoded = so.drop('track_name', axis=1)\n",
    "\n",
    "encoded = pd.get_dummies(encoded)"
   ]
  },
  {
   "cell_type": "code",
   "execution_count": 8,
   "metadata": {},
   "outputs": [
    {
     "data": {
      "text/plain": [
       "(111774, 29833)"
      ]
     },
     "execution_count": 8,
     "metadata": {},
     "output_type": "execute_result"
    }
   ],
   "source": [
    "encoded.shape"
   ]
  },
  {
   "cell_type": "markdown",
   "metadata": {},
   "source": [
    "Now there are three separate dataframes to experiment with:<br>\n",
    "so: The basic data ordered by popularity<br>\n",
    "classified: The data with an added classifier target variable<br>\n",
    "encoded: Dataframe where the catagorical variables have been transformed"
   ]
  },
  {
   "cell_type": "code",
   "execution_count": 9,
   "metadata": {},
   "outputs": [
    {
     "data": {
      "text/plain": [
       "array(['unpopular', 'unpopular', 'unpopular', 'medium', 'medium'],\n",
       "      dtype=object)"
      ]
     },
     "execution_count": 9,
     "metadata": {},
     "output_type": "execute_result"
    }
   ],
   "source": [
    "#experiment with a basic decision tree on the classified data\n",
    "\n",
    "from sklearn.tree import DecisionTreeClassifier\n",
    "from sklearn.model_selection import train_test_split\n",
    "from sklearn.metrics import accuracy_score\n",
    "\n",
    "#drop all non-numeric columns, also the target variable\n",
    "X_tree = classified.drop\\\n",
    "(['artist_name', 'track_name', 'key', 'mode', 'time_signature', 'popularity', 'pop_rating'], axis=1)\n",
    "y_tree = classified.pop_rating\n",
    "\n",
    "dt = DecisionTreeClassifier(max_depth=20, random_state=7)\n",
    "\n",
    "X_tr, X_tst, y_tr, y_tst = train_test_split(X_tree, y_tree, test_size=0.3, random_state=5)\n",
    "\n",
    "dt.fit(X_tr, y_tr)\n",
    "\n",
    "y_pred = dt.predict(X_tst)\n",
    "y_pred[:5]"
   ]
  },
  {
   "cell_type": "code",
   "execution_count": 10,
   "metadata": {},
   "outputs": [
    {
     "data": {
      "text/plain": [
       "0.7874034533146452"
      ]
     },
     "execution_count": 10,
     "metadata": {},
     "output_type": "execute_result"
    }
   ],
   "source": [
    "accuracy_score(y_pred, y_tst)"
   ]
  },
  {
   "cell_type": "code",
   "execution_count": 11,
   "metadata": {},
   "outputs": [
    {
     "data": {
      "text/plain": [
       "array([18., 48.,  9.])"
      ]
     },
     "execution_count": 11,
     "metadata": {},
     "output_type": "execute_result"
    }
   ],
   "source": [
    "#Try a regressor tree\n",
    "\n",
    "from sklearn.tree import DecisionTreeRegressor\n",
    "\n",
    "X_rg = so.drop\\\n",
    "(['artist_name', 'track_name', 'key', 'mode', 'time_signature', 'popularity'], axis=1)\n",
    "y_rg = so.popularity\n",
    "\n",
    "X_train, X_test, y_train, y_test = train_test_split(X_rg, y_rg, test_size=0.3, random_state=12)\n",
    "\n",
    "dt_reg = DecisionTreeRegressor() #try unrestrained\n",
    "\n",
    "dt_reg.fit(X_train, y_train)\n",
    "\n",
    "rg_pred = dt_reg.predict(X_test)\n",
    "rg_pred[:3]"
   ]
  },
  {
   "cell_type": "code",
   "execution_count": 12,
   "metadata": {},
   "outputs": [
    {
     "data": {
      "text/plain": [
       "-0.7075933761580357"
      ]
     },
     "execution_count": 12,
     "metadata": {},
     "output_type": "execute_result"
    }
   ],
   "source": [
    "dt_reg.score(X_test, y_test)"
   ]
  },
  {
   "cell_type": "markdown",
   "metadata": {},
   "source": [
    "##### Bagging"
   ]
  },
  {
   "cell_type": "code",
   "execution_count": 13,
   "metadata": {},
   "outputs": [
    {
     "data": {
      "text/plain": [
       "0.8583783138997405"
      ]
     },
     "execution_count": 13,
     "metadata": {},
     "output_type": "execute_result"
    }
   ],
   "source": [
    "from sklearn.ensemble import BaggingClassifier\n",
    "\n",
    "#splt from previous classifier\n",
    "dt = DecisionTreeClassifier(max_depth=20, random_state=18)\n",
    "bc = BaggingClassifier(base_estimator=dt, n_estimators=100, random_state=1)\n",
    "\n",
    "bc.fit(X_tr, y_tr)\n",
    "\n",
    "bc_pred = bc.predict(X_tst)\n",
    "\n",
    "accuracy_score(bc_pred, y_tst)"
   ]
  },
  {
   "cell_type": "markdown",
   "metadata": {},
   "source": [
    "##### Random Forest"
   ]
  },
  {
   "cell_type": "code",
   "execution_count": 14,
   "metadata": {},
   "outputs": [
    {
     "data": {
      "text/plain": [
       "0.8593922404795277"
      ]
     },
     "execution_count": 14,
     "metadata": {},
     "output_type": "execute_result"
    }
   ],
   "source": [
    "from sklearn.ensemble import RandomForestClassifier\n",
    "\n",
    "rf = RandomForestClassifier(n_estimators=100, random_state=1)\n",
    "\n",
    "rf.fit(X_tr, y_tr)\n",
    "\n",
    "rf_pred = rf.predict(X_tst)\n",
    "\n",
    "accuracy_score(rf_pred, y_tst)"
   ]
  },
  {
   "cell_type": "code",
   "execution_count": 15,
   "metadata": {},
   "outputs": [
    {
     "data": {
      "image/png": "[encoded data removed]",
      "text/plain": [
       "<Figure size 432x288 with 1 Axes>"
      ]
     },
     "metadata": {
      "needs_background": "light"
     },
     "output_type": "display_data"
    }
   ],
   "source": [
    "important = pd.Series(data=rf.feature_importances_, index=X_tr.columns).sort_values()\n",
    "\n",
    "_ = important.plot(kind='barh')\n",
    "_ = plt.title('RF feature importances')"
   ]
  },
  {
   "cell_type": "markdown",
   "metadata": {},
   "source": [
    "It seems surprising at first that duration is such an impactful feature but, after thinking about it, it kind of makes sense. Popular songs do tend to consistently measure around the 3 to 4 minute mark. A 10 minute song isn't exactly 'radio-friendly', and shorter songs are likely easier for the casual listener to digest.<br>\n",
    "<br>\n",
    "But, on the whole, there isn't a huge differentiation between features."
   ]
  },
  {
   "cell_type": "code",
   "execution_count": null,
   "metadata": {},
   "outputs": [],
   "source": []
  },
  {
   "cell_type": "code",
   "execution_count": null,
   "metadata": {},
   "outputs": [],
   "source": []
  },
  {
   "cell_type": "code",
   "execution_count": null,
   "metadata": {},
   "outputs": [],
   "source": []
  },
  {
   "cell_type": "code",
   "execution_count": null,
   "metadata": {},
   "outputs": [],
   "source": []
  },
  {
   "cell_type": "code",
   "execution_count": null,
   "metadata": {},
   "outputs": [],
   "source": []
  },
  {
   "cell_type": "markdown",
   "metadata": {},
   "source": [
    "###### sklearn knn test\n",
    "<br>\n",
    "This was just something I tried in order to practice new material. I now know that this is a classification model, and not suited for what I was trying to accomplish."
   ]
  },
  {
   "cell_type": "code",
   "execution_count": 5,
   "metadata": {},
   "outputs": [
    {
     "data": {
      "text/plain": [
       "\"from sklearn.neighbors import KNeighborsClassifier\\n\\nX = spotify[['acousticness', 'danceability', 'energy', 'speechiness']].head()\\ny = spotify.popularity.head()\\n\\nX_new = spotify[['acousticness', 'danceability', 'energy', 'speechiness']].iloc[6:11, :]\\n\\nknn = KNeighborsClassifier(n_neighbors=5)\\nknn.fit(X,y)\\n\""
      ]
     },
     "execution_count": 5,
     "metadata": {},
     "output_type": "execute_result"
    }
   ],
   "source": [
    "'''from sklearn.neighbors import KNeighborsClassifier\n",
    "\n",
    "X = spotify[['acousticness', 'danceability', 'energy', 'speechiness']].head()\n",
    "y = spotify.popularity.head()\n",
    "\n",
    "X_new = spotify[['acousticness', 'danceability', 'energy', 'speechiness']].iloc[6:11, :]\n",
    "\n",
    "knn = KNeighborsClassifier(n_neighbors=5)\n",
    "knn.fit(X,y)\n",
    "'''"
   ]
  },
  {
   "cell_type": "code",
   "execution_count": 6,
   "metadata": {},
   "outputs": [],
   "source": [
    "#knn.predict(X_new)"
   ]
  },
  {
   "cell_type": "markdown",
   "metadata": {},
   "source": [
    "<b>Investigating correlations in the spotify data</b>"
   ]
  },
  {
   "cell_type": "code",
   "execution_count": null,
   "metadata": {},
   "outputs": [],
   "source": [
    "#spotify.corr()"
   ]
  },
  {
   "cell_type": "code",
   "execution_count": 7,
   "metadata": {},
   "outputs": [],
   "source": [
    "import seaborn as sns\n",
    "\n",
    "#sns.heatmap(spotify.corr(), square=True, cmap='RdYlGn')"
   ]
  },
  {
   "cell_type": "markdown",
   "metadata": {},
   "source": [
    "Here's a rudimentary attempt at a linear regression model. This is just for practice and includes a few arbitrary columns."
   ]
  },
  {
   "cell_type": "code",
   "execution_count": 5,
   "metadata": {},
   "outputs": [
    {
     "data": {
      "text/plain": [
       "array([29.37066237, 26.99189831])"
      ]
     },
     "execution_count": 5,
     "metadata": {},
     "output_type": "execute_result"
    }
   ],
   "source": [
    "from sklearn.linear_model import LinearRegression, Ridge\n",
    "from sklearn.model_selection import cross_val_score, train_test_split\n",
    "\n",
    "#pick a few independent variables, and set the dependent variable\n",
    "X = spotify[['acousticness', 'danceability', 'energy', 'liveness', 'loudness', 'speechiness']]\n",
    "y = spotify.popularity\n",
    "\n",
    "#fit and predict the model\n",
    "lm = LinearRegression()\n",
    "lm.fit(X,y)\n",
    "lm.predict(X)[:2]"
   ]
  },
  {
   "cell_type": "code",
   "execution_count": 5,
   "metadata": {},
   "outputs": [
    {
     "data": {
      "text/plain": [
       "0.07074781553598763"
      ]
     },
     "execution_count": 5,
     "metadata": {},
     "output_type": "execute_result"
    }
   ],
   "source": [
    "lm.score(X,y)"
   ]
  },
  {
   "cell_type": "markdown",
   "metadata": {},
   "source": [
    "The score for this model is pretty poor. Let's adjust the data and try again."
   ]
  },
  {
   "cell_type": "code",
   "execution_count": 37,
   "metadata": {},
   "outputs": [
    {
     "data": {
      "text/plain": [
       "array([33.97605744, 31.54745617])"
      ]
     },
     "execution_count": 37,
     "metadata": {},
     "output_type": "execute_result"
    }
   ],
   "source": [
    "#re-run model for songs with pop greater than 0\n",
    "over_zero = spotify[spotify['popularity'] > 0]\n",
    "X = over_zero[['acousticness', 'danceability', 'energy', 'liveness', 'loudness', 'speechiness']]\n",
    "y = over_zero.popularity\n",
    "\n",
    "#fit and predict the model\n",
    "lm = LinearRegression()\n",
    "lm.fit(X,y)\n",
    "prediction = lm.predict(X)\n",
    "prediction[:2]"
   ]
  },
  {
   "cell_type": "code",
   "execution_count": 7,
   "metadata": {},
   "outputs": [
    {
     "data": {
      "text/plain": [
       "[(15, 33.97605743948594), (56, 31.547456165179973), (28, 34.11614314699749)]"
      ]
     },
     "execution_count": 7,
     "metadata": {},
     "output_type": "execute_result"
    }
   ],
   "source": [
    "actual_pop = zip(y, prediction)\n",
    "actual_100 = list(actual_pop)[:100]\n",
    "actual_100[:3]"
   ]
  },
  {
   "cell_type": "code",
   "execution_count": 9,
   "metadata": {},
   "outputs": [
    {
     "data": {
      "text/plain": [
       "{'Under 5': 14, '5 and 10': 34, 'Over ten': 52}"
      ]
     },
     "execution_count": 9,
     "metadata": {},
     "output_type": "execute_result"
    }
   ],
   "source": [
    "diffs = {'Under 5': 0, '5 and 10': 0, 'Over ten': 0}\n",
    "for pair in actual_100:\n",
    "    if abs(pair[0] - pair[1]) < 5:\n",
    "        diffs['Under 5'] += 1\n",
    "    elif 5 <= abs(pair[0] - pair[1]) < 10:\n",
    "        diffs['5 and 10'] += 1\n",
    "    else:\n",
    "        diffs['Over ten'] += 1\n",
    "            \n",
    "diffs"
   ]
  },
  {
   "cell_type": "markdown",
   "metadata": {},
   "source": [
    "The score is slightly improved"
   ]
  },
  {
   "cell_type": "code",
   "execution_count": 38,
   "metadata": {},
   "outputs": [
    {
     "data": {
      "text/plain": [
       "0.09051830632081626"
      ]
     },
     "execution_count": 38,
     "metadata": {},
     "output_type": "execute_result"
    }
   ],
   "source": [
    "lm.score(X,y)"
   ]
  },
  {
   "cell_type": "markdown",
   "metadata": {},
   "source": [
    "### <b>pd.get_dummies</b>\n",
    "<br>\n",
    "Restructuring the model to account for categorical data."
   ]
  },
  {
   "cell_type": "code",
   "execution_count": 22,
   "metadata": {},
   "outputs": [],
   "source": [
    "#Set up the data for encoding: 'track_name' is categorical but is not useful so it will be dropped\n",
    "encoded = so.drop('track_name', axis=1)\n",
    "\n",
    "#Now, drop songs with popularity of zero as they create noise\n",
    "encoded = encoded[encoded['popularity'] > 0]\n",
    "\n",
    "encoded = pd.get_dummies(encoded)"
   ]
  },
  {
   "cell_type": "code",
   "execution_count": 10,
   "metadata": {},
   "outputs": [
    {
     "data": {
      "text/plain": [
       "(111774, 29817)"
      ]
     },
     "execution_count": 10,
     "metadata": {},
     "output_type": "execute_result"
    }
   ],
   "source": [
    "encoded.shape"
   ]
  },
  {
   "cell_type": "code",
   "execution_count": 57,
   "metadata": {},
   "outputs": [
    {
     "name": "stdout",
     "output_type": "stream",
     "text": [
      "Wall time: 16min 13s\n"
     ]
    }
   ],
   "source": [
    "%%time\n",
    "encoded_samp = encoded.sample(n=20000, replace=True)\n",
    "\n",
    "X = encoded_samp.drop('popularity', axis=1)\n",
    "y = encoded_samp.popularity\n",
    "\n",
    "X_train, X_test, y_train, y_test = train_test_split(X, y, test_size=0.3, random_state=42)\n",
    "\n",
    "lm = LinearRegression()\n",
    "lm.fit(X_train,y_train)"
   ]
  },
  {
   "cell_type": "code",
   "execution_count": 35,
   "metadata": {},
   "outputs": [
    {
     "ename": "ValueError",
     "evalue": "shapes (33533,11) and (6,) not aligned: 11 (dim 1) != 6 (dim 0)",
     "output_type": "error",
     "traceback": [
      "\u001b[1;31m---------------------------------------------------------------------------\u001b[0m",
      "\u001b[1;31mValueError\u001b[0m                                Traceback (most recent call last)",
      "\u001b[1;32m<ipython-input-35-7dd5a046bd7f>\u001b[0m in \u001b[0;36m<module>\u001b[1;34m\u001b[0m\n\u001b[1;32m----> 1\u001b[1;33m \u001b[0mlm\u001b[0m\u001b[1;33m.\u001b[0m\u001b[0mscore\u001b[0m\u001b[1;33m(\u001b[0m\u001b[0mX_test\u001b[0m\u001b[1;33m,\u001b[0m \u001b[0my_test\u001b[0m\u001b[1;33m)\u001b[0m\u001b[1;33m\u001b[0m\u001b[1;33m\u001b[0m\u001b[0m\n\u001b[0m",
      "\u001b[1;32mC:\\Users\\Code_apps\\Anaconda3\\lib\\site-packages\\sklearn\\base.py\u001b[0m in \u001b[0;36mscore\u001b[1;34m(self, X, y, sample_weight)\u001b[0m\n\u001b[0;32m    326\u001b[0m \u001b[1;33m\u001b[0m\u001b[0m\n\u001b[0;32m    327\u001b[0m         \u001b[1;32mfrom\u001b[0m \u001b[1;33m.\u001b[0m\u001b[0mmetrics\u001b[0m \u001b[1;32mimport\u001b[0m \u001b[0mr2_score\u001b[0m\u001b[1;33m\u001b[0m\u001b[1;33m\u001b[0m\u001b[0m\n\u001b[1;32m--> 328\u001b[1;33m         return r2_score(y, self.predict(X), sample_weight=sample_weight,\n\u001b[0m\u001b[0;32m    329\u001b[0m                         multioutput='variance_weighted')\n\u001b[0;32m    330\u001b[0m \u001b[1;33m\u001b[0m\u001b[0m\n",
      "\u001b[1;32mC:\\Users\\Code_apps\\Anaconda3\\lib\\site-packages\\sklearn\\linear_model\\base.py\u001b[0m in \u001b[0;36mpredict\u001b[1;34m(self, X)\u001b[0m\n\u001b[0;32m    211\u001b[0m             \u001b[0mReturns\u001b[0m \u001b[0mpredicted\u001b[0m \u001b[0mvalues\u001b[0m\u001b[1;33m.\u001b[0m\u001b[1;33m\u001b[0m\u001b[1;33m\u001b[0m\u001b[0m\n\u001b[0;32m    212\u001b[0m         \"\"\"\n\u001b[1;32m--> 213\u001b[1;33m         \u001b[1;32mreturn\u001b[0m \u001b[0mself\u001b[0m\u001b[1;33m.\u001b[0m\u001b[0m_decision_function\u001b[0m\u001b[1;33m(\u001b[0m\u001b[0mX\u001b[0m\u001b[1;33m)\u001b[0m\u001b[1;33m\u001b[0m\u001b[1;33m\u001b[0m\u001b[0m\n\u001b[0m\u001b[0;32m    214\u001b[0m \u001b[1;33m\u001b[0m\u001b[0m\n\u001b[0;32m    215\u001b[0m     \u001b[0m_preprocess_data\u001b[0m \u001b[1;33m=\u001b[0m \u001b[0mstaticmethod\u001b[0m\u001b[1;33m(\u001b[0m\u001b[0m_preprocess_data\u001b[0m\u001b[1;33m)\u001b[0m\u001b[1;33m\u001b[0m\u001b[1;33m\u001b[0m\u001b[0m\n",
      "\u001b[1;32mC:\\Users\\Code_apps\\Anaconda3\\lib\\site-packages\\sklearn\\linear_model\\base.py\u001b[0m in \u001b[0;36m_decision_function\u001b[1;34m(self, X)\u001b[0m\n\u001b[0;32m    196\u001b[0m         \u001b[0mX\u001b[0m \u001b[1;33m=\u001b[0m \u001b[0mcheck_array\u001b[0m\u001b[1;33m(\u001b[0m\u001b[0mX\u001b[0m\u001b[1;33m,\u001b[0m \u001b[0maccept_sparse\u001b[0m\u001b[1;33m=\u001b[0m\u001b[1;33m[\u001b[0m\u001b[1;34m'csr'\u001b[0m\u001b[1;33m,\u001b[0m \u001b[1;34m'csc'\u001b[0m\u001b[1;33m,\u001b[0m \u001b[1;34m'coo'\u001b[0m\u001b[1;33m]\u001b[0m\u001b[1;33m)\u001b[0m\u001b[1;33m\u001b[0m\u001b[1;33m\u001b[0m\u001b[0m\n\u001b[0;32m    197\u001b[0m         return safe_sparse_dot(X, self.coef_.T,\n\u001b[1;32m--> 198\u001b[1;33m                                dense_output=True) + self.intercept_\n\u001b[0m\u001b[0;32m    199\u001b[0m \u001b[1;33m\u001b[0m\u001b[0m\n\u001b[0;32m    200\u001b[0m     \u001b[1;32mdef\u001b[0m \u001b[0mpredict\u001b[0m\u001b[1;33m(\u001b[0m\u001b[0mself\u001b[0m\u001b[1;33m,\u001b[0m \u001b[0mX\u001b[0m\u001b[1;33m)\u001b[0m\u001b[1;33m:\u001b[0m\u001b[1;33m\u001b[0m\u001b[1;33m\u001b[0m\u001b[0m\n",
      "\u001b[1;32mC:\\Users\\Code_apps\\Anaconda3\\lib\\site-packages\\sklearn\\utils\\extmath.py\u001b[0m in \u001b[0;36msafe_sparse_dot\u001b[1;34m(a, b, dense_output)\u001b[0m\n\u001b[0;32m    171\u001b[0m         \u001b[1;32mreturn\u001b[0m \u001b[0mret\u001b[0m\u001b[1;33m\u001b[0m\u001b[1;33m\u001b[0m\u001b[0m\n\u001b[0;32m    172\u001b[0m     \u001b[1;32melse\u001b[0m\u001b[1;33m:\u001b[0m\u001b[1;33m\u001b[0m\u001b[1;33m\u001b[0m\u001b[0m\n\u001b[1;32m--> 173\u001b[1;33m         \u001b[1;32mreturn\u001b[0m \u001b[0mnp\u001b[0m\u001b[1;33m.\u001b[0m\u001b[0mdot\u001b[0m\u001b[1;33m(\u001b[0m\u001b[0ma\u001b[0m\u001b[1;33m,\u001b[0m \u001b[0mb\u001b[0m\u001b[1;33m)\u001b[0m\u001b[1;33m\u001b[0m\u001b[1;33m\u001b[0m\u001b[0m\n\u001b[0m\u001b[0;32m    174\u001b[0m \u001b[1;33m\u001b[0m\u001b[0m\n\u001b[0;32m    175\u001b[0m \u001b[1;33m\u001b[0m\u001b[0m\n",
      "\u001b[1;31mValueError\u001b[0m: shapes (33533,11) and (6,) not aligned: 11 (dim 1) != 6 (dim 0)"
     ]
    }
   ],
   "source": [
    "lm.score(X_test, y_test)"
   ]
  },
  {
   "cell_type": "markdown",
   "metadata": {},
   "source": [
    "Predict over 10,000 rows and create custom measurement to assess model:"
   ]
  },
  {
   "cell_type": "code",
   "execution_count": 55,
   "metadata": {},
   "outputs": [
    {
     "data": {
      "text/plain": [
       "LinearRegression(copy_X=True, fit_intercept=True, n_jobs=None,\n",
       "         normalize=False)"
      ]
     },
     "execution_count": 55,
     "metadata": {},
     "output_type": "execute_result"
    }
   ],
   "source": [
    "encoded_samp = encoded.sample(n=10000, replace=True)\n",
    "\n",
    "X = encoded_samp.drop('popularity', axis=1)\n",
    "y = encoded_samp.popularity\n",
    "\n",
    "X_train, X_test, y_train, y_test = train_test_split(X, y, test_size=0.3, random_state=42)\n",
    "\n",
    "lin = LinearRegression()\n",
    "lin.fit(X_train,y_train)"
   ]
  },
  {
   "cell_type": "code",
   "execution_count": 56,
   "metadata": {},
   "outputs": [
    {
     "data": {
      "text/plain": [
       "-2408713961.623535"
      ]
     },
     "execution_count": 56,
     "metadata": {},
     "output_type": "execute_result"
    }
   ],
   "source": [
    "lin.score(X_test, y_test)"
   ]
  },
  {
   "cell_type": "code",
   "execution_count": 57,
   "metadata": {},
   "outputs": [],
   "source": [
    "prd = lin.predict(X_test)"
   ]
  },
  {
   "cell_type": "code",
   "execution_count": 58,
   "metadata": {},
   "outputs": [
    {
     "name": "stdout",
     "output_type": "stream",
     "text": [
      "{'Under 5': 743, '5 and 10': 348, 'Over ten': 1909}\n"
     ]
    }
   ],
   "source": [
    "def custom_loss(prediction, actual):\n",
    "    paired = zip(prediction, actual)\n",
    "    listed = list(paired)\n",
    "    diffs = {'Under 5': 0, '5 and 10': 0, 'Over ten': 0}\n",
    "\n",
    "    for pair in listed:\n",
    "        if abs(pair[0] - pair[1]) < 5:\n",
    "            diffs['Under 5'] += 1\n",
    "        elif 5 <= abs(pair[0] - pair[1]) < 10:\n",
    "            diffs['5 and 10'] += 1\n",
    "        else:\n",
    "            diffs['Over ten'] += 1\n",
    "     \n",
    "    return diffs\n",
    "\n",
    "print(custom_loss(prd, y_test))"
   ]
  },
  {
   "cell_type": "code",
   "execution_count": 60,
   "metadata": {},
   "outputs": [
    {
     "name": "stdout",
     "output_type": "stream",
     "text": [
      "3000 3000\n"
     ]
    }
   ],
   "source": [
    "print(len(prd), len(y_test))"
   ]
  },
  {
   "cell_type": "code",
   "execution_count": 62,
   "metadata": {},
   "outputs": [
    {
     "data": {
      "text/plain": [
       "0.3636666666666667"
      ]
     },
     "execution_count": 62,
     "metadata": {},
     "output_type": "execute_result"
    }
   ],
   "source": [
    "#percentages of encoded \"successes\"\n",
    "x = (743 + 348) / 3000\n",
    "\n",
    "x"
   ]
  },
  {
   "cell_type": "code",
   "execution_count": 81,
   "metadata": {},
   "outputs": [
    {
     "name": "stdout",
     "output_type": "stream",
     "text": [
      "{'Under 5': 7044, '5 and 10': 6567, 'Over ten': 19922}\n"
     ]
    }
   ],
   "source": [
    "'''Retry model without the encoded categoricals'''\n",
    "X = over_zero.drop(['artist_name', 'track_id', 'track_name', 'key', 'mode', 'time_signature', 'popularity'], axis=1)\n",
    "y = over_zero.popularity\n",
    "\n",
    "X_train, X_test, y_train, y_test = train_test_split(X, y, test_size=0.3, random_state=42)\n",
    "\n",
    "lreg = LinearRegression()\n",
    "lreg.fit(X_train,y_train)\n",
    "pred = lreg.predict(X_test)\n",
    "\n",
    "print(custom_loss(pred, y_test))"
   ]
  },
  {
   "cell_type": "code",
   "execution_count": 82,
   "metadata": {},
   "outputs": [],
   "source": [
    "#X_test.columns"
   ]
  },
  {
   "cell_type": "code",
   "execution_count": 83,
   "metadata": {},
   "outputs": [
    {
     "name": "stdout",
     "output_type": "stream",
     "text": [
      "0.10150833268129189\n"
     ]
    }
   ],
   "source": [
    "print(lreg.score(X_test, y_test))"
   ]
  },
  {
   "cell_type": "markdown",
   "metadata": {},
   "source": [
    "This model has a perfect score? That doesn't seem right.\n",
    "<br>\n",
    "Okay, nevermind. Once I removed the popularity info from the X variable, the results are more as expected. However, the results are improved over the large dataset with the encoded categorical data. Perhaps that's because the error is less amplified."
   ]
  },
  {
   "cell_type": "code",
   "execution_count": 113,
   "metadata": {},
   "outputs": [
    {
     "data": {
      "text/html": [
       "<div>\n",
       "<style scoped>\n",
       "    .dataframe tbody tr th:only-of-type {\n",
       "        vertical-align: middle;\n",
       "    }\n",
       "\n",
       "    .dataframe tbody tr th {\n",
       "        vertical-align: top;\n",
       "    }\n",
       "\n",
       "    .dataframe thead th {\n",
       "        text-align: right;\n",
       "    }\n",
       "</style>\n",
       "<table border=\"1\" class=\"dataframe\">\n",
       "  <thead>\n",
       "    <tr style=\"text-align: right;\">\n",
       "      <th></th>\n",
       "      <th>Feature</th>\n",
       "      <th>Value</th>\n",
       "    </tr>\n",
       "  </thead>\n",
       "  <tbody>\n",
       "    <tr>\n",
       "      <th>0</th>\n",
       "      <td>artist_name_10cellphones</td>\n",
       "      <td>1.314179e+07</td>\n",
       "    </tr>\n",
       "    <tr>\n",
       "      <th>1</th>\n",
       "      <td>artist_name_1991</td>\n",
       "      <td>1.265387e+07</td>\n",
       "    </tr>\n",
       "    <tr>\n",
       "      <th>2</th>\n",
       "      <td>artist_name_.Sinh</td>\n",
       "      <td>1.255652e+07</td>\n",
       "    </tr>\n",
       "    <tr>\n",
       "      <th>3</th>\n",
       "      <td>artist_name_169</td>\n",
       "      <td>1.220318e+07</td>\n",
       "    </tr>\n",
       "    <tr>\n",
       "      <th>4</th>\n",
       "      <td>artist_name_10시 45분</td>\n",
       "      <td>1.212567e+07</td>\n",
       "    </tr>\n",
       "  </tbody>\n",
       "</table>\n",
       "</div>"
      ],
      "text/plain": [
       "                    Feature         Value\n",
       "0  artist_name_10cellphones  1.314179e+07\n",
       "1          artist_name_1991  1.265387e+07\n",
       "2         artist_name_.Sinh  1.255652e+07\n",
       "3           artist_name_169  1.220318e+07\n",
       "4       artist_name_10시 45분  1.212567e+07"
      ]
     },
     "execution_count": 113,
     "metadata": {},
     "output_type": "execute_result"
    }
   ],
   "source": [
    "#Check which coefficients are best\n",
    "coeffs = pd.concat([pd.DataFrame(X.columns), pd.DataFrame(lin.coef_)], axis=1)\n",
    "coeffs.columns = ['Feature', 'Value']\n",
    "coeffs = coeffs.sort_values('Value', ascending=False)\n",
    "coeffs.reset_index(inplace=True)\n",
    "coeffs.drop('index', axis=1).head()"
   ]
  },
  {
   "cell_type": "markdown",
   "metadata": {},
   "source": [
    "Fit linear model over batches:"
   ]
  },
  {
   "cell_type": "code",
   "execution_count": 13,
   "metadata": {},
   "outputs": [
    {
     "name": "stdout",
     "output_type": "stream",
     "text": [
      "-13227041927.4118\n"
     ]
    }
   ],
   "source": [
    "#batching\n",
    "def batch_score(dt, size):\n",
    "    scores = []\n",
    "    for i in range(10):\n",
    "        sample = dt.sample(n=size, replace=True)\n",
    "    \n",
    "        X = sample.drop('popularity', axis=1)\n",
    "        y = sample.popularity\n",
    "    \n",
    "        X_train, X_test, y_train, y_test = train_test_split(X, y, test_size=0.3, random_state=42)\n",
    "    \n",
    "        reg = LinearRegression()\n",
    "        reg.fit(X_train, y_train)\n",
    "    \n",
    "        scores.append(reg.score(X_test, y_test))\n",
    "    return scores\n",
    "\n",
    "print(np.median(batch_score(encoded, 10000)))"
   ]
  },
  {
   "cell_type": "markdown",
   "metadata": {},
   "source": [
    "<b>A basic ridge model without hyperparameter tuning:</b>"
   ]
  },
  {
   "cell_type": "code",
   "execution_count": 84,
   "metadata": {},
   "outputs": [
    {
     "data": {
      "text/plain": [
       "0.37031368610273585"
      ]
     },
     "execution_count": 84,
     "metadata": {},
     "output_type": "execute_result"
    }
   ],
   "source": [
    "from sklearn.linear_model import Ridge\n",
    "from sklearn.model_selection import train_test_split\n",
    "\n",
    "X_r = encoded_samp.drop(['key', 'mode', 'time_signature', 'popularity'], axis=1)\n",
    "y_r = encoded_samp.popularity\n",
    "\n",
    "X_tr, X_ts, y_tr, y_ts = train_test_split(X_r, y_r, test_size=0.3, random_state=5)\n",
    "\n",
    "ridge = Ridge(alpha = 0.5, normalize=True)\n",
    "ridge.fit(X_tr, y_tr)\n",
    "\n",
    "ridge.score(X_ts, y_ts)"
   ]
  },
  {
   "cell_type": "code",
   "execution_count": 85,
   "metadata": {},
   "outputs": [
    {
     "name": "stdout",
     "output_type": "stream",
     "text": [
      "{'Under 5': 857, '5 and 10': 766, 'Over ten': 1377}\n"
     ]
    }
   ],
   "source": [
    "#Custom loss function results\n",
    "pred_rdg = ridge.predict(X_ts)\n",
    "\n",
    "print(custom_loss(pred_rdg, y_ts))"
   ]
  },
  {
   "cell_type": "markdown",
   "metadata": {},
   "source": [
    "The ridge model above is definitely an imporvement over the basic linear model using the encoded data."
   ]
  },
  {
   "cell_type": "code",
   "execution_count": 86,
   "metadata": {},
   "outputs": [
    {
     "data": {
      "text/plain": [
       "array([0.33664579, 0.37208867, 0.36208081, 0.37075286, 0.3600336 ])"
      ]
     },
     "execution_count": 86,
     "metadata": {},
     "output_type": "execute_result"
    }
   ],
   "source": [
    "from sklearn.model_selection import cross_val_score\n",
    "\n",
    "cv_res = cross_val_score(ridge, X_r, y_r, cv=5)\n",
    "cv_res"
   ]
  },
  {
   "cell_type": "code",
   "execution_count": 87,
   "metadata": {},
   "outputs": [
    {
     "name": "stdout",
     "output_type": "stream",
     "text": [
      "[('danceability', 3.674463814521797), ('duration_ms', -5.283404880110184e-06), ('energy', -5.274845775246764), ('instrumentalness', -2.7622622706569127), ('liveness', -0.31321412831521195), ('loudness', 0.7647827269606422), ('tempo', 0.0005529130737982571), ('valence', -3.0495937539124607), ('artist_name_Armin van Buuren', -4.953100136536324), ('artist_name_Johann Sebastian Bach', -6.754373020036663), ('artist_name_Wolfgang Amadeus Mozart', -2.6045918012716758)]\n"
     ]
    }
   ],
   "source": [
    "from sklearn.linear_model import Lasso\n",
    "\n",
    "names = encoded_samp.drop(['key', 'mode', 'time_signature', 'popularity'], axis=1).columns\n",
    "\n",
    "lasso = Lasso(alpha=0.1)\n",
    "\n",
    "lasso_coefs = lasso.fit(X_r, y_r).coef_\n",
    "\n",
    "coef_vals = list(zip(names, (list(lasso_coefs))))\n",
    "\n",
    "print([pair for pair in coef_vals if abs(pair[1]) > 0])"
   ]
  },
  {
   "cell_type": "code",
   "execution_count": 88,
   "metadata": {},
   "outputs": [
    {
     "data": {
      "text/plain": [
       "0.10004708870208734"
      ]
     },
     "execution_count": 88,
     "metadata": {},
     "output_type": "execute_result"
    }
   ],
   "source": [
    "Xl_train, Xl_test, yl_train, yl_test = train_test_split(X_r, y_r, test_size=0.3, random_state=21)\n",
    "\n",
    "lasso.fit(Xl_train, yl_train)\n",
    "lasso.score(Xl_test, yl_test)"
   ]
  },
  {
   "cell_type": "code",
   "execution_count": 89,
   "metadata": {},
   "outputs": [
    {
     "name": "stdout",
     "output_type": "stream",
     "text": [
      "{'Under 5': 625, '5 and 10': 586, 'Over ten': 1789}\n"
     ]
    }
   ],
   "source": [
    "lasso_pred = lasso.predict(Xl_test)\n",
    "print(custom_loss(lasso_pred, yl_test))"
   ]
  },
  {
   "cell_type": "markdown",
   "metadata": {},
   "source": [
    "The ridge regression model seems to perform better than the others."
   ]
  },
  {
   "cell_type": "markdown",
   "metadata": {},
   "source": [
    "## Popular songs to total songs ratio"
   ]
  },
  {
   "cell_type": "markdown",
   "metadata": {},
   "source": [
    "Using a histogram and playing around with the binning parameter, I came across an interesting feature of the data: the frequency of song popularities seem to spike in intervals of 25. This is a curious characteristic worth exploring later, but for now I want to focus on the last spike around the 75 mark. I can use this group to explore what is popular, in this case anything with a score of at least 75, and find all artists with at least one song that fits that criteria."
   ]
  },
  {
   "cell_type": "code",
   "execution_count": 15,
   "metadata": {},
   "outputs": [
    {
     "data": {
      "image/png": "[encoded data removed]",
      "text/plain": [
       "<Figure size 432x288 with 1 Axes>"
      ]
     },
     "metadata": {
      "needs_background": "light"
     },
     "output_type": "display_data"
    }
   ],
   "source": [
    "over_0 = so[so['popularity'] > 0]\n",
    "\n",
    "_ = over_0['popularity'].plot(kind='hist', bins=95)"
   ]
  },
  {
   "cell_type": "code",
   "execution_count": 16,
   "metadata": {},
   "outputs": [
    {
     "data": {
      "text/html": [
       "<div>\n",
       "<style scoped>\n",
       "    .dataframe tbody tr th:only-of-type {\n",
       "        vertical-align: middle;\n",
       "    }\n",
       "\n",
       "    .dataframe tbody tr th {\n",
       "        vertical-align: top;\n",
       "    }\n",
       "\n",
       "    .dataframe thead th {\n",
       "        text-align: right;\n",
       "    }\n",
       "</style>\n",
       "<table border=\"1\" class=\"dataframe\">\n",
       "  <thead>\n",
       "    <tr style=\"text-align: right;\">\n",
       "      <th></th>\n",
       "      <th>total_pop_tracks</th>\n",
       "    </tr>\n",
       "    <tr>\n",
       "      <th>artist_name</th>\n",
       "      <th></th>\n",
       "    </tr>\n",
       "  </thead>\n",
       "  <tbody>\n",
       "    <tr>\n",
       "      <th>(G)I-DLE</th>\n",
       "      <td>1</td>\n",
       "    </tr>\n",
       "    <tr>\n",
       "      <th>2 Chainz</th>\n",
       "      <td>3</td>\n",
       "    </tr>\n",
       "    <tr>\n",
       "      <th>21 Savage</th>\n",
       "      <td>4</td>\n",
       "    </tr>\n",
       "  </tbody>\n",
       "</table>\n",
       "</div>"
      ],
      "text/plain": [
       "             total_pop_tracks\n",
       "artist_name                  \n",
       "(G)I-DLE                    1\n",
       "2 Chainz                    3\n",
       "21 Savage                   4"
      ]
     },
     "execution_count": 16,
     "metadata": {},
     "output_type": "execute_result"
    }
   ],
   "source": [
    "#Subset the data for only songs with popularity over 75 and count the number of tracks each artist had\n",
    "#fitting this criteria. This will give a total count of 'popular' songs for each artist.\n",
    "pop_artists = so[so['popularity'] > 75].groupby('artist_name').count().sort_values('track_name', ascending=False)\n",
    "pop_artists = pop_artists.iloc[:,:1].sort_index()\n",
    "pop_artists.columns = ['total_pop_tracks']\n",
    "pop_artists.head(3)"
   ]
  },
  {
   "cell_type": "markdown",
   "metadata": {},
   "source": [
    "Now, create a new dataframe with all the songs, not just the popular songs, from all the artists that have at least one popular song. This will allow us to compare the number of popular songs to the total number of songs."
   ]
  },
  {
   "cell_type": "code",
   "execution_count": 17,
   "metadata": {},
   "outputs": [
    {
     "data": {
      "text/html": [
       "<div>\n",
       "<style scoped>\n",
       "    .dataframe tbody tr th:only-of-type {\n",
       "        vertical-align: middle;\n",
       "    }\n",
       "\n",
       "    .dataframe tbody tr th {\n",
       "        vertical-align: top;\n",
       "    }\n",
       "\n",
       "    .dataframe thead th {\n",
       "        text-align: right;\n",
       "    }\n",
       "</style>\n",
       "<table border=\"1\" class=\"dataframe\">\n",
       "  <thead>\n",
       "    <tr style=\"text-align: right;\">\n",
       "      <th></th>\n",
       "      <th>artist_name</th>\n",
       "      <th>track_name</th>\n",
       "      <th>acousticness</th>\n",
       "      <th>danceability</th>\n",
       "      <th>duration_ms</th>\n",
       "      <th>energy</th>\n",
       "      <th>instrumentalness</th>\n",
       "      <th>key</th>\n",
       "      <th>liveness</th>\n",
       "      <th>loudness</th>\n",
       "      <th>mode</th>\n",
       "      <th>speechiness</th>\n",
       "      <th>tempo</th>\n",
       "      <th>time_signature</th>\n",
       "      <th>valence</th>\n",
       "      <th>popularity</th>\n",
       "    </tr>\n",
       "  </thead>\n",
       "  <tbody>\n",
       "    <tr>\n",
       "      <th>580</th>\n",
       "      <td>(G)I-DLE</td>\n",
       "      <td>Senorita</td>\n",
       "      <td>0.01590</td>\n",
       "      <td>0.782</td>\n",
       "      <td>197616</td>\n",
       "      <td>0.808</td>\n",
       "      <td>0.000042</td>\n",
       "      <td>0</td>\n",
       "      <td>0.331</td>\n",
       "      <td>-3.139</td>\n",
       "      <td>1</td>\n",
       "      <td>0.0362</td>\n",
       "      <td>120.021</td>\n",
       "      <td>4</td>\n",
       "      <td>0.420</td>\n",
       "      <td>78</td>\n",
       "    </tr>\n",
       "    <tr>\n",
       "      <th>1285</th>\n",
       "      <td>(G)I-DLE</td>\n",
       "      <td>LATATA</td>\n",
       "      <td>0.00427</td>\n",
       "      <td>0.774</td>\n",
       "      <td>202773</td>\n",
       "      <td>0.792</td>\n",
       "      <td>0.000001</td>\n",
       "      <td>9</td>\n",
       "      <td>0.283</td>\n",
       "      <td>-4.019</td>\n",
       "      <td>0</td>\n",
       "      <td>0.2240</td>\n",
       "      <td>98.100</td>\n",
       "      <td>4</td>\n",
       "      <td>0.505</td>\n",
       "      <td>73</td>\n",
       "    </tr>\n",
       "    <tr>\n",
       "      <th>1493</th>\n",
       "      <td>(G)I-DLE</td>\n",
       "      <td>HANN (Alone)</td>\n",
       "      <td>0.05900</td>\n",
       "      <td>0.709</td>\n",
       "      <td>205820</td>\n",
       "      <td>0.718</td>\n",
       "      <td>0.000000</td>\n",
       "      <td>6</td>\n",
       "      <td>0.167</td>\n",
       "      <td>-3.315</td>\n",
       "      <td>0</td>\n",
       "      <td>0.0312</td>\n",
       "      <td>104.971</td>\n",
       "      <td>4</td>\n",
       "      <td>0.240</td>\n",
       "      <td>72</td>\n",
       "    </tr>\n",
       "  </tbody>\n",
       "</table>\n",
       "</div>"
      ],
      "text/plain": [
       "     artist_name    track_name  acousticness  danceability  duration_ms  \\\n",
       "580     (G)I-DLE      Senorita       0.01590         0.782       197616   \n",
       "1285    (G)I-DLE        LATATA       0.00427         0.774       202773   \n",
       "1493    (G)I-DLE  HANN (Alone)       0.05900         0.709       205820   \n",
       "\n",
       "      energy  instrumentalness  key  liveness  loudness  mode  speechiness  \\\n",
       "580    0.808          0.000042    0     0.331    -3.139     1       0.0362   \n",
       "1285   0.792          0.000001    9     0.283    -4.019     0       0.2240   \n",
       "1493   0.718          0.000000    6     0.167    -3.315     0       0.0312   \n",
       "\n",
       "        tempo  time_signature  valence  popularity  \n",
       "580   120.021               4    0.420          78  \n",
       "1285   98.100               4    0.505          73  \n",
       "1493  104.971               4    0.240          72  "
      ]
     },
     "execution_count": 17,
     "metadata": {},
     "output_type": "execute_result"
    }
   ],
   "source": [
    "x = list(pop_artists.index)\n",
    "\n",
    "pop_full_catalog = pd.DataFrame()\n",
    "for name in x:\n",
    "    pop_full_catalog = pop_full_catalog.append(so[so['artist_name'] == name])\n",
    "    \n",
    "pop_full_catalog.head(3)"
   ]
  },
  {
   "cell_type": "markdown",
   "metadata": {},
   "source": [
    "Count the total number of tracks for each popular artist."
   ]
  },
  {
   "cell_type": "code",
   "execution_count": 18,
   "metadata": {},
   "outputs": [
    {
     "data": {
      "text/html": [
       "<div>\n",
       "<style scoped>\n",
       "    .dataframe tbody tr th:only-of-type {\n",
       "        vertical-align: middle;\n",
       "    }\n",
       "\n",
       "    .dataframe tbody tr th {\n",
       "        vertical-align: top;\n",
       "    }\n",
       "\n",
       "    .dataframe thead th {\n",
       "        text-align: right;\n",
       "    }\n",
       "</style>\n",
       "<table border=\"1\" class=\"dataframe\">\n",
       "  <thead>\n",
       "    <tr style=\"text-align: right;\">\n",
       "      <th></th>\n",
       "      <th>total_tracks</th>\n",
       "    </tr>\n",
       "    <tr>\n",
       "      <th>artist_name</th>\n",
       "      <th></th>\n",
       "    </tr>\n",
       "  </thead>\n",
       "  <tbody>\n",
       "    <tr>\n",
       "      <th>(G)I-DLE</th>\n",
       "      <td>12</td>\n",
       "    </tr>\n",
       "    <tr>\n",
       "      <th>2 Chainz</th>\n",
       "      <td>23</td>\n",
       "    </tr>\n",
       "    <tr>\n",
       "      <th>21 Savage</th>\n",
       "      <td>16</td>\n",
       "    </tr>\n",
       "  </tbody>\n",
       "</table>\n",
       "</div>"
      ],
      "text/plain": [
       "             total_tracks\n",
       "artist_name              \n",
       "(G)I-DLE               12\n",
       "2 Chainz               23\n",
       "21 Savage              16"
      ]
     },
     "execution_count": 18,
     "metadata": {},
     "output_type": "execute_result"
    }
   ],
   "source": [
    "pop_total_count = pop_full_catalog.groupby('artist_name').count().sort_values('track_name', ascending=False)\n",
    "pop_total_count = pop_total_count.iloc[:,:1].sort_index()\n",
    "pop_total_count.columns = ['total_tracks']\n",
    "pop_total_count.head(3)"
   ]
  },
  {
   "cell_type": "markdown",
   "metadata": {},
   "source": [
    "Compute the ratio for popular tracks compared to total tracks. Create a new dataframe to show this info."
   ]
  },
  {
   "cell_type": "code",
   "execution_count": 19,
   "metadata": {},
   "outputs": [
    {
     "data": {
      "text/html": [
       "<div>\n",
       "<style scoped>\n",
       "    .dataframe tbody tr th:only-of-type {\n",
       "        vertical-align: middle;\n",
       "    }\n",
       "\n",
       "    .dataframe tbody tr th {\n",
       "        vertical-align: top;\n",
       "    }\n",
       "\n",
       "    .dataframe thead th {\n",
       "        text-align: right;\n",
       "    }\n",
       "</style>\n",
       "<table border=\"1\" class=\"dataframe\">\n",
       "  <thead>\n",
       "    <tr style=\"text-align: right;\">\n",
       "      <th></th>\n",
       "      <th>total_pop_tracks</th>\n",
       "      <th>total_tracks</th>\n",
       "      <th>popular_ratio</th>\n",
       "    </tr>\n",
       "    <tr>\n",
       "      <th>artist_name</th>\n",
       "      <th></th>\n",
       "      <th></th>\n",
       "      <th></th>\n",
       "    </tr>\n",
       "  </thead>\n",
       "  <tbody>\n",
       "    <tr>\n",
       "      <th>Khalid</th>\n",
       "      <td>24</td>\n",
       "      <td>38</td>\n",
       "      <td>0.631579</td>\n",
       "    </tr>\n",
       "    <tr>\n",
       "      <th>Juice WRLD</th>\n",
       "      <td>23</td>\n",
       "      <td>44</td>\n",
       "      <td>0.522727</td>\n",
       "    </tr>\n",
       "    <tr>\n",
       "      <th>Ariana Grande</th>\n",
       "      <td>19</td>\n",
       "      <td>34</td>\n",
       "      <td>0.558824</td>\n",
       "    </tr>\n",
       "    <tr>\n",
       "      <th>Post Malone</th>\n",
       "      <td>18</td>\n",
       "      <td>30</td>\n",
       "      <td>0.600000</td>\n",
       "    </tr>\n",
       "    <tr>\n",
       "      <th>Billie Eilish</th>\n",
       "      <td>17</td>\n",
       "      <td>22</td>\n",
       "      <td>0.772727</td>\n",
       "    </tr>\n",
       "    <tr>\n",
       "      <th>Bad Bunny</th>\n",
       "      <td>14</td>\n",
       "      <td>23</td>\n",
       "      <td>0.608696</td>\n",
       "    </tr>\n",
       "    <tr>\n",
       "      <th>Ozuna</th>\n",
       "      <td>12</td>\n",
       "      <td>30</td>\n",
       "      <td>0.400000</td>\n",
       "    </tr>\n",
       "    <tr>\n",
       "      <th>6ix9ine</th>\n",
       "      <td>11</td>\n",
       "      <td>32</td>\n",
       "      <td>0.343750</td>\n",
       "    </tr>\n",
       "    <tr>\n",
       "      <th>XXXTENTACION</th>\n",
       "      <td>10</td>\n",
       "      <td>35</td>\n",
       "      <td>0.285714</td>\n",
       "    </tr>\n",
       "    <tr>\n",
       "      <th>Travis Scott</th>\n",
       "      <td>8</td>\n",
       "      <td>19</td>\n",
       "      <td>0.421053</td>\n",
       "    </tr>\n",
       "  </tbody>\n",
       "</table>\n",
       "</div>"
      ],
      "text/plain": [
       "               total_pop_tracks  total_tracks  popular_ratio\n",
       "artist_name                                                 \n",
       "Khalid                       24            38       0.631579\n",
       "Juice WRLD                   23            44       0.522727\n",
       "Ariana Grande                19            34       0.558824\n",
       "Post Malone                  18            30       0.600000\n",
       "Billie Eilish                17            22       0.772727\n",
       "Bad Bunny                    14            23       0.608696\n",
       "Ozuna                        12            30       0.400000\n",
       "6ix9ine                      11            32       0.343750\n",
       "XXXTENTACION                 10            35       0.285714\n",
       "Travis Scott                  8            19       0.421053"
      ]
     },
     "execution_count": 19,
     "metadata": {},
     "output_type": "execute_result"
    }
   ],
   "source": [
    "compare = pd.concat([pop_artists, pop_total_count], axis=1)\n",
    "compare['popular_ratio'] = compare.total_pop_tracks / compare.total_tracks\n",
    "compare = compare.sort_values('total_pop_tracks', ascending=False)\n",
    "compare.head(10)"
   ]
  },
  {
   "cell_type": "code",
   "execution_count": 20,
   "metadata": {},
   "outputs": [
    {
     "data": {
      "text/html": [
       "<div>\n",
       "<style scoped>\n",
       "    .dataframe tbody tr th:only-of-type {\n",
       "        vertical-align: middle;\n",
       "    }\n",
       "\n",
       "    .dataframe tbody tr th {\n",
       "        vertical-align: top;\n",
       "    }\n",
       "\n",
       "    .dataframe thead th {\n",
       "        text-align: right;\n",
       "    }\n",
       "</style>\n",
       "<table border=\"1\" class=\"dataframe\">\n",
       "  <thead>\n",
       "    <tr style=\"text-align: right;\">\n",
       "      <th></th>\n",
       "      <th>total_pop_tracks</th>\n",
       "      <th>total_tracks</th>\n",
       "      <th>popular_ratio</th>\n",
       "    </tr>\n",
       "  </thead>\n",
       "  <tbody>\n",
       "    <tr>\n",
       "      <th>count</th>\n",
       "      <td>375.000000</td>\n",
       "      <td>375.000000</td>\n",
       "      <td>375.000000</td>\n",
       "    </tr>\n",
       "    <tr>\n",
       "      <th>mean</th>\n",
       "      <td>2.285333</td>\n",
       "      <td>14.997333</td>\n",
       "      <td>0.281543</td>\n",
       "    </tr>\n",
       "    <tr>\n",
       "      <th>std</th>\n",
       "      <td>2.757813</td>\n",
       "      <td>12.868628</td>\n",
       "      <td>0.277016</td>\n",
       "    </tr>\n",
       "    <tr>\n",
       "      <th>min</th>\n",
       "      <td>1.000000</td>\n",
       "      <td>1.000000</td>\n",
       "      <td>0.017857</td>\n",
       "    </tr>\n",
       "    <tr>\n",
       "      <th>25%</th>\n",
       "      <td>1.000000</td>\n",
       "      <td>4.000000</td>\n",
       "      <td>0.085145</td>\n",
       "    </tr>\n",
       "    <tr>\n",
       "      <th>50%</th>\n",
       "      <td>1.000000</td>\n",
       "      <td>12.000000</td>\n",
       "      <td>0.172414</td>\n",
       "    </tr>\n",
       "    <tr>\n",
       "      <th>75%</th>\n",
       "      <td>3.000000</td>\n",
       "      <td>22.000000</td>\n",
       "      <td>0.338542</td>\n",
       "    </tr>\n",
       "    <tr>\n",
       "      <th>max</th>\n",
       "      <td>24.000000</td>\n",
       "      <td>75.000000</td>\n",
       "      <td>1.000000</td>\n",
       "    </tr>\n",
       "  </tbody>\n",
       "</table>\n",
       "</div>"
      ],
      "text/plain": [
       "       total_pop_tracks  total_tracks  popular_ratio\n",
       "count        375.000000    375.000000     375.000000\n",
       "mean           2.285333     14.997333       0.281543\n",
       "std            2.757813     12.868628       0.277016\n",
       "min            1.000000      1.000000       0.017857\n",
       "25%            1.000000      4.000000       0.085145\n",
       "50%            1.000000     12.000000       0.172414\n",
       "75%            3.000000     22.000000       0.338542\n",
       "max           24.000000     75.000000       1.000000"
      ]
     },
     "execution_count": 20,
     "metadata": {},
     "output_type": "execute_result"
    }
   ],
   "source": [
    "compare.describe()"
   ]
  },
  {
   "cell_type": "code",
   "execution_count": 21,
   "metadata": {},
   "outputs": [
    {
     "data": {
      "text/html": [
       "<div>\n",
       "<style scoped>\n",
       "    .dataframe tbody tr th:only-of-type {\n",
       "        vertical-align: middle;\n",
       "    }\n",
       "\n",
       "    .dataframe tbody tr th {\n",
       "        vertical-align: top;\n",
       "    }\n",
       "\n",
       "    .dataframe thead th {\n",
       "        text-align: right;\n",
       "    }\n",
       "</style>\n",
       "<table border=\"1\" class=\"dataframe\">\n",
       "  <thead>\n",
       "    <tr style=\"text-align: right;\">\n",
       "      <th></th>\n",
       "      <th>total_pop_tracks</th>\n",
       "      <th>total_tracks</th>\n",
       "      <th>popular_ratio</th>\n",
       "    </tr>\n",
       "    <tr>\n",
       "      <th>artist_name</th>\n",
       "      <th></th>\n",
       "      <th></th>\n",
       "      <th></th>\n",
       "    </tr>\n",
       "  </thead>\n",
       "  <tbody>\n",
       "    <tr>\n",
       "      <th>Mike Posner</th>\n",
       "      <td>1</td>\n",
       "      <td>56</td>\n",
       "      <td>0.017857</td>\n",
       "    </tr>\n",
       "    <tr>\n",
       "      <th>R3HAB</th>\n",
       "      <td>1</td>\n",
       "      <td>54</td>\n",
       "      <td>0.018519</td>\n",
       "    </tr>\n",
       "    <tr>\n",
       "      <th>EXO</th>\n",
       "      <td>1</td>\n",
       "      <td>43</td>\n",
       "      <td>0.023256</td>\n",
       "    </tr>\n",
       "    <tr>\n",
       "      <th>Wiz Khalifa</th>\n",
       "      <td>1</td>\n",
       "      <td>41</td>\n",
       "      <td>0.024390</td>\n",
       "    </tr>\n",
       "    <tr>\n",
       "      <th>TWICE</th>\n",
       "      <td>1</td>\n",
       "      <td>41</td>\n",
       "      <td>0.024390</td>\n",
       "    </tr>\n",
       "    <tr>\n",
       "      <th>Shoreline Mafia</th>\n",
       "      <td>1</td>\n",
       "      <td>40</td>\n",
       "      <td>0.025000</td>\n",
       "    </tr>\n",
       "    <tr>\n",
       "      <th>Gunna</th>\n",
       "      <td>1</td>\n",
       "      <td>40</td>\n",
       "      <td>0.025000</td>\n",
       "    </tr>\n",
       "    <tr>\n",
       "      <th>iKON</th>\n",
       "      <td>1</td>\n",
       "      <td>38</td>\n",
       "      <td>0.026316</td>\n",
       "    </tr>\n",
       "    <tr>\n",
       "      <th>Tyler, The Creator</th>\n",
       "      <td>1</td>\n",
       "      <td>38</td>\n",
       "      <td>0.026316</td>\n",
       "    </tr>\n",
       "    <tr>\n",
       "      <th>Comethazine</th>\n",
       "      <td>1</td>\n",
       "      <td>35</td>\n",
       "      <td>0.028571</td>\n",
       "    </tr>\n",
       "    <tr>\n",
       "      <th>Stray Kids</th>\n",
       "      <td>1</td>\n",
       "      <td>34</td>\n",
       "      <td>0.029412</td>\n",
       "    </tr>\n",
       "    <tr>\n",
       "      <th>Russ</th>\n",
       "      <td>1</td>\n",
       "      <td>33</td>\n",
       "      <td>0.030303</td>\n",
       "    </tr>\n",
       "    <tr>\n",
       "      <th>Alessia Cara</th>\n",
       "      <td>1</td>\n",
       "      <td>32</td>\n",
       "      <td>0.031250</td>\n",
       "    </tr>\n",
       "    <tr>\n",
       "      <th>Tiësto</th>\n",
       "      <td>1</td>\n",
       "      <td>32</td>\n",
       "      <td>0.031250</td>\n",
       "    </tr>\n",
       "    <tr>\n",
       "      <th>Rudimental</th>\n",
       "      <td>1</td>\n",
       "      <td>32</td>\n",
       "      <td>0.031250</td>\n",
       "    </tr>\n",
       "    <tr>\n",
       "      <th>John Legend</th>\n",
       "      <td>1</td>\n",
       "      <td>30</td>\n",
       "      <td>0.033333</td>\n",
       "    </tr>\n",
       "    <tr>\n",
       "      <th>BlocBoy JB</th>\n",
       "      <td>1</td>\n",
       "      <td>30</td>\n",
       "      <td>0.033333</td>\n",
       "    </tr>\n",
       "    <tr>\n",
       "      <th>Lil Xan</th>\n",
       "      <td>1</td>\n",
       "      <td>29</td>\n",
       "      <td>0.034483</td>\n",
       "    </tr>\n",
       "    <tr>\n",
       "      <th>Jon Z</th>\n",
       "      <td>1</td>\n",
       "      <td>29</td>\n",
       "      <td>0.034483</td>\n",
       "    </tr>\n",
       "    <tr>\n",
       "      <th>Years &amp; Years</th>\n",
       "      <td>1</td>\n",
       "      <td>29</td>\n",
       "      <td>0.034483</td>\n",
       "    </tr>\n",
       "    <tr>\n",
       "      <th>Galantis</th>\n",
       "      <td>1</td>\n",
       "      <td>28</td>\n",
       "      <td>0.035714</td>\n",
       "    </tr>\n",
       "    <tr>\n",
       "      <th>YUNGBLUD</th>\n",
       "      <td>1</td>\n",
       "      <td>27</td>\n",
       "      <td>0.037037</td>\n",
       "    </tr>\n",
       "    <tr>\n",
       "      <th>ZAYN</th>\n",
       "      <td>1</td>\n",
       "      <td>27</td>\n",
       "      <td>0.037037</td>\n",
       "    </tr>\n",
       "    <tr>\n",
       "      <th>Thomas Rhett</th>\n",
       "      <td>1</td>\n",
       "      <td>26</td>\n",
       "      <td>0.038462</td>\n",
       "    </tr>\n",
       "    <tr>\n",
       "      <th>James Bay</th>\n",
       "      <td>1</td>\n",
       "      <td>25</td>\n",
       "      <td>0.040000</td>\n",
       "    </tr>\n",
       "    <tr>\n",
       "      <th>Famous Dex</th>\n",
       "      <td>1</td>\n",
       "      <td>24</td>\n",
       "      <td>0.041667</td>\n",
       "    </tr>\n",
       "    <tr>\n",
       "      <th>KYLE</th>\n",
       "      <td>1</td>\n",
       "      <td>24</td>\n",
       "      <td>0.041667</td>\n",
       "    </tr>\n",
       "    <tr>\n",
       "      <th>Meek Mill</th>\n",
       "      <td>1</td>\n",
       "      <td>22</td>\n",
       "      <td>0.045455</td>\n",
       "    </tr>\n",
       "    <tr>\n",
       "      <th>Gucci Mane</th>\n",
       "      <td>1</td>\n",
       "      <td>21</td>\n",
       "      <td>0.047619</td>\n",
       "    </tr>\n",
       "    <tr>\n",
       "      <th>Brett Young</th>\n",
       "      <td>1</td>\n",
       "      <td>20</td>\n",
       "      <td>0.050000</td>\n",
       "    </tr>\n",
       "    <tr>\n",
       "      <th>...</th>\n",
       "      <td>...</td>\n",
       "      <td>...</td>\n",
       "      <td>...</td>\n",
       "    </tr>\n",
       "    <tr>\n",
       "      <th>Shakira</th>\n",
       "      <td>1</td>\n",
       "      <td>2</td>\n",
       "      <td>0.500000</td>\n",
       "    </tr>\n",
       "    <tr>\n",
       "      <th>Lil Uzi Vert</th>\n",
       "      <td>1</td>\n",
       "      <td>2</td>\n",
       "      <td>0.500000</td>\n",
       "    </tr>\n",
       "    <tr>\n",
       "      <th>Rombai</th>\n",
       "      <td>1</td>\n",
       "      <td>1</td>\n",
       "      <td>1.000000</td>\n",
       "    </tr>\n",
       "    <tr>\n",
       "      <th>MC L da Vinte</th>\n",
       "      <td>1</td>\n",
       "      <td>1</td>\n",
       "      <td>1.000000</td>\n",
       "    </tr>\n",
       "    <tr>\n",
       "      <th>XO Cupid</th>\n",
       "      <td>1</td>\n",
       "      <td>1</td>\n",
       "      <td>1.000000</td>\n",
       "    </tr>\n",
       "    <tr>\n",
       "      <th>Yo Gotti</th>\n",
       "      <td>1</td>\n",
       "      <td>1</td>\n",
       "      <td>1.000000</td>\n",
       "    </tr>\n",
       "    <tr>\n",
       "      <th>Nightcall</th>\n",
       "      <td>1</td>\n",
       "      <td>1</td>\n",
       "      <td>1.000000</td>\n",
       "    </tr>\n",
       "    <tr>\n",
       "      <th>Jubel</th>\n",
       "      <td>1</td>\n",
       "      <td>1</td>\n",
       "      <td>1.000000</td>\n",
       "    </tr>\n",
       "    <tr>\n",
       "      <th>Jubël</th>\n",
       "      <td>1</td>\n",
       "      <td>1</td>\n",
       "      <td>1.000000</td>\n",
       "    </tr>\n",
       "    <tr>\n",
       "      <th>K/DA</th>\n",
       "      <td>1</td>\n",
       "      <td>1</td>\n",
       "      <td>1.000000</td>\n",
       "    </tr>\n",
       "    <tr>\n",
       "      <th>KIAN</th>\n",
       "      <td>1</td>\n",
       "      <td>1</td>\n",
       "      <td>1.000000</td>\n",
       "    </tr>\n",
       "    <tr>\n",
       "      <th>PDL</th>\n",
       "      <td>1</td>\n",
       "      <td>1</td>\n",
       "      <td>1.000000</td>\n",
       "    </tr>\n",
       "    <tr>\n",
       "      <th>Hwa Sa</th>\n",
       "      <td>1</td>\n",
       "      <td>1</td>\n",
       "      <td>1.000000</td>\n",
       "    </tr>\n",
       "    <tr>\n",
       "      <th>The Black Keys</th>\n",
       "      <td>1</td>\n",
       "      <td>1</td>\n",
       "      <td>1.000000</td>\n",
       "    </tr>\n",
       "    <tr>\n",
       "      <th>EVERGLOW</th>\n",
       "      <td>1</td>\n",
       "      <td>1</td>\n",
       "      <td>1.000000</td>\n",
       "    </tr>\n",
       "    <tr>\n",
       "      <th>Lil Dicky</th>\n",
       "      <td>1</td>\n",
       "      <td>1</td>\n",
       "      <td>1.000000</td>\n",
       "    </tr>\n",
       "    <tr>\n",
       "      <th>Melim</th>\n",
       "      <td>1</td>\n",
       "      <td>1</td>\n",
       "      <td>1.000000</td>\n",
       "    </tr>\n",
       "    <tr>\n",
       "      <th>Ansel Elgort</th>\n",
       "      <td>1</td>\n",
       "      <td>1</td>\n",
       "      <td>1.000000</td>\n",
       "    </tr>\n",
       "    <tr>\n",
       "      <th>Andy Grammer</th>\n",
       "      <td>1</td>\n",
       "      <td>1</td>\n",
       "      <td>1.000000</td>\n",
       "    </tr>\n",
       "    <tr>\n",
       "      <th>Westlife</th>\n",
       "      <td>1</td>\n",
       "      <td>1</td>\n",
       "      <td>1.000000</td>\n",
       "    </tr>\n",
       "    <tr>\n",
       "      <th>Giant Rooks</th>\n",
       "      <td>1</td>\n",
       "      <td>1</td>\n",
       "      <td>1.000000</td>\n",
       "    </tr>\n",
       "    <tr>\n",
       "      <th>Guaynaa</th>\n",
       "      <td>1</td>\n",
       "      <td>1</td>\n",
       "      <td>1.000000</td>\n",
       "    </tr>\n",
       "    <tr>\n",
       "      <th>Tame Impala</th>\n",
       "      <td>1</td>\n",
       "      <td>1</td>\n",
       "      <td>1.000000</td>\n",
       "    </tr>\n",
       "    <tr>\n",
       "      <th>Don Patricio</th>\n",
       "      <td>1</td>\n",
       "      <td>1</td>\n",
       "      <td>1.000000</td>\n",
       "    </tr>\n",
       "    <tr>\n",
       "      <th>David Rees</th>\n",
       "      <td>1</td>\n",
       "      <td>1</td>\n",
       "      <td>1.000000</td>\n",
       "    </tr>\n",
       "    <tr>\n",
       "      <th>Louis Tomlinson</th>\n",
       "      <td>1</td>\n",
       "      <td>1</td>\n",
       "      <td>1.000000</td>\n",
       "    </tr>\n",
       "    <tr>\n",
       "      <th>I Belong to the Zoo</th>\n",
       "      <td>1</td>\n",
       "      <td>1</td>\n",
       "      <td>1.000000</td>\n",
       "    </tr>\n",
       "    <tr>\n",
       "      <th>Daniel Caesar</th>\n",
       "      <td>1</td>\n",
       "      <td>1</td>\n",
       "      <td>1.000000</td>\n",
       "    </tr>\n",
       "    <tr>\n",
       "      <th>Rammstein</th>\n",
       "      <td>1</td>\n",
       "      <td>1</td>\n",
       "      <td>1.000000</td>\n",
       "    </tr>\n",
       "    <tr>\n",
       "      <th>juan karlos</th>\n",
       "      <td>1</td>\n",
       "      <td>1</td>\n",
       "      <td>1.000000</td>\n",
       "    </tr>\n",
       "  </tbody>\n",
       "</table>\n",
       "<p>212 rows × 3 columns</p>\n",
       "</div>"
      ],
      "text/plain": [
       "                     total_pop_tracks  total_tracks  popular_ratio\n",
       "artist_name                                                       \n",
       "Mike Posner                         1            56       0.017857\n",
       "R3HAB                               1            54       0.018519\n",
       "EXO                                 1            43       0.023256\n",
       "Wiz Khalifa                         1            41       0.024390\n",
       "TWICE                               1            41       0.024390\n",
       "Shoreline Mafia                     1            40       0.025000\n",
       "Gunna                               1            40       0.025000\n",
       "iKON                                1            38       0.026316\n",
       "Tyler, The Creator                  1            38       0.026316\n",
       "Comethazine                         1            35       0.028571\n",
       "Stray Kids                          1            34       0.029412\n",
       "Russ                                1            33       0.030303\n",
       "Alessia Cara                        1            32       0.031250\n",
       "Tiësto                              1            32       0.031250\n",
       "Rudimental                          1            32       0.031250\n",
       "John Legend                         1            30       0.033333\n",
       "BlocBoy JB                          1            30       0.033333\n",
       "Lil Xan                             1            29       0.034483\n",
       "Jon Z                               1            29       0.034483\n",
       "Years & Years                       1            29       0.034483\n",
       "Galantis                            1            28       0.035714\n",
       "YUNGBLUD                            1            27       0.037037\n",
       "ZAYN                                1            27       0.037037\n",
       "Thomas Rhett                        1            26       0.038462\n",
       "James Bay                           1            25       0.040000\n",
       "Famous Dex                          1            24       0.041667\n",
       "KYLE                                1            24       0.041667\n",
       "Meek Mill                           1            22       0.045455\n",
       "Gucci Mane                          1            21       0.047619\n",
       "Brett Young                         1            20       0.050000\n",
       "...                               ...           ...            ...\n",
       "Shakira                             1             2       0.500000\n",
       "Lil Uzi Vert                        1             2       0.500000\n",
       "Rombai                              1             1       1.000000\n",
       "MC L da Vinte                       1             1       1.000000\n",
       "XO Cupid                            1             1       1.000000\n",
       "Yo Gotti                            1             1       1.000000\n",
       "Nightcall                           1             1       1.000000\n",
       "Jubel                               1             1       1.000000\n",
       "Jubël                               1             1       1.000000\n",
       "K/DA                                1             1       1.000000\n",
       "KIAN                                1             1       1.000000\n",
       "PDL                                 1             1       1.000000\n",
       "Hwa Sa                              1             1       1.000000\n",
       "The Black Keys                      1             1       1.000000\n",
       "EVERGLOW                            1             1       1.000000\n",
       "Lil Dicky                           1             1       1.000000\n",
       "Melim                               1             1       1.000000\n",
       "Ansel Elgort                        1             1       1.000000\n",
       "Andy Grammer                        1             1       1.000000\n",
       "Westlife                            1             1       1.000000\n",
       "Giant Rooks                         1             1       1.000000\n",
       "Guaynaa                             1             1       1.000000\n",
       "Tame Impala                         1             1       1.000000\n",
       "Don Patricio                        1             1       1.000000\n",
       "David Rees                          1             1       1.000000\n",
       "Louis Tomlinson                     1             1       1.000000\n",
       "I Belong to the Zoo                 1             1       1.000000\n",
       "Daniel Caesar                       1             1       1.000000\n",
       "Rammstein                           1             1       1.000000\n",
       "juan karlos                         1             1       1.000000\n",
       "\n",
       "[212 rows x 3 columns]"
      ]
     },
     "execution_count": 21,
     "metadata": {},
     "output_type": "execute_result"
    }
   ],
   "source": [
    "compare[compare['total_pop_tracks'] == 1].sort_values('total_tracks', ascending=False)"
   ]
  },
  {
   "cell_type": "markdown",
   "metadata": {},
   "source": [
    "<b>Observations:</b>\n",
    "<br>\n",
    "-Looking at the previous few cells, there seems to be a good bit of variability among total tracks for popular artists, ranging between 1 and 75. The ratio of popular tracks to total tracks also varies widely. <br>\n",
    "-There are quite a few artists with a ratio of 100%. <br>\n",
    "-The artist with the most popular tracks tend to have fairly high ratios, perhaps reinforcing the idea that the best indicator of creating a new hit song is to already have an old hit song."
   ]
  },
  {
   "cell_type": "markdown",
   "metadata": {},
   "source": [
    "<b>Plot the data to look for correlations.</b>"
   ]
  },
  {
   "cell_type": "code",
   "execution_count": 22,
   "metadata": {},
   "outputs": [
    {
     "data": {
      "image/png": "[encoded data removed]",
      "text/plain": [
       "<Figure size 432x288 with 1 Axes>"
      ]
     },
     "metadata": {
      "needs_background": "light"
     },
     "output_type": "display_data"
    }
   ],
   "source": [
    "_ = plt.hist(compare.total_pop_tracks, bins=20)"
   ]
  },
  {
   "cell_type": "code",
   "execution_count": 23,
   "metadata": {},
   "outputs": [
    {
     "data": {
      "text/plain": [
       "Text(0, 0.5, 'Popular ratio')"
      ]
     },
     "execution_count": 23,
     "metadata": {},
     "output_type": "execute_result"
    },
    {
     "data": {
      "image/png": "[encoded data removed]",
      "text/plain": [
       "<Figure size 432x288 with 1 Axes>"
      ]
     },
     "metadata": {
      "needs_background": "light"
     },
     "output_type": "display_data"
    }
   ],
   "source": [
    "x = compare.total_pop_tracks\n",
    "y = compare.popular_ratio\n",
    "\n",
    "plt.plot(x, y, 'go--')\n",
    "plt.title('Total Popular Tracks Compared to Ratio')\n",
    "plt.xlabel('Total popular tracks')\n",
    "plt.ylabel('Popular ratio')"
   ]
  },
  {
   "cell_type": "code",
   "execution_count": 28,
   "metadata": {},
   "outputs": [
    {
     "data": {
      "text/plain": [
       "Text(0, 0.5, 'Popular ratio')"
      ]
     },
     "execution_count": 28,
     "metadata": {},
     "output_type": "execute_result"
    },
    {
     "data": {
      "image/png": "[encoded data removed]",
      "text/plain": [
       "<Figure size 432x288 with 1 Axes>"
      ]
     },
     "metadata": {},
     "output_type": "display_data"
    }
   ],
   "source": [
    "re_compare = compare.sort_values('total_tracks', ascending=False)\n",
    "xx = re_compare.total_tracks\n",
    "yy = re_compare.popular_ratio\n",
    "\n",
    "plt.plot(xx, yy, 'bo--')\n",
    "plt.title('Total Tracks Compared to Ratio')\n",
    "plt.xlabel('Total tracks')\n",
    "plt.ylabel('Popular ratio')"
   ]
  },
  {
   "cell_type": "markdown",
   "metadata": {},
   "source": [
    "Comparing the charts above, having more total tracks tends to lead to a lower popular ratio, while those artists with more total popular songs tend to have a higher popular ratio despite having to put out more total tracks in order to score more 'hits'."
   ]
  },
  {
   "cell_type": "code",
   "execution_count": 29,
   "metadata": {},
   "outputs": [
    {
     "data": {
      "image/png": "[encoded data removed]",
      "text/plain": [
       "<Figure size 360x360 with 1 Axes>"
      ]
     },
     "metadata": {},
     "output_type": "display_data"
    }
   ],
   "source": [
    "sns.set()\n",
    "_ = sns.lmplot(x='total_tracks', y='total_pop_tracks', data=compare, scatter_kws={\"s\": 10})\n",
    "_ = plt.xlabel('Total tracks', fontsize=14)\n",
    "_ = plt.ylabel('Total popular tracks', fontsize=14)"
   ]
  },
  {
   "cell_type": "markdown",
   "metadata": {},
   "source": [
    "### K-Means"
   ]
  },
  {
   "cell_type": "code",
   "execution_count": 45,
   "metadata": {},
   "outputs": [
    {
     "data": {
      "image/png": "[encoded data removed]",
      "text/plain": [
       "<Figure size 432x288 with 1 Axes>"
      ]
     },
     "metadata": {},
     "output_type": "display_data"
    }
   ],
   "source": [
    "from sklearn.cluster import KMeans\n",
    "\n",
    "X = np.array([[5,3],  \n",
    "     [10,15],\n",
    "     [15,12],\n",
    "     [24,10],\n",
    "     [30,45],\n",
    "     [85,70],\n",
    "     [71,80],\n",
    "     [60,78],\n",
    "     [55,52],\n",
    "     [80,91],])\n",
    "\n",
    "_ = plt.scatter(X[:,0],X[:,1], label='True Position')  "
   ]
  },
  {
   "cell_type": "code",
   "execution_count": 46,
   "metadata": {},
   "outputs": [
    {
     "name": "stdout",
     "output_type": "stream",
     "text": [
      "[[70.2 74.2]\n",
      " [16.8 17. ]]\n"
     ]
    }
   ],
   "source": [
    "kmeans = KMeans(n_clusters=2)\n",
    "kmeans.fit(X)\n",
    "print(kmeans.cluster_centers_)"
   ]
  },
  {
   "cell_type": "code",
   "execution_count": 47,
   "metadata": {},
   "outputs": [
    {
     "data": {
      "text/plain": [
       "array([1, 1, 1, 1, 1, 0, 0, 0, 0, 0])"
      ]
     },
     "execution_count": 47,
     "metadata": {},
     "output_type": "execute_result"
    }
   ],
   "source": [
    "kmeans.labels_"
   ]
  },
  {
   "cell_type": "code",
   "execution_count": 55,
   "metadata": {},
   "outputs": [
    {
     "data": {
      "text/plain": [
       "<matplotlib.collections.PathCollection at 0x27895575d68>"
      ]
     },
     "execution_count": 55,
     "metadata": {},
     "output_type": "execute_result"
    },
    {
     "data": {
      "image/png": "[encoded data removed]",
      "text/plain": [
       "<Figure size 432x288 with 1 Axes>"
      ]
     },
     "metadata": {},
     "output_type": "display_data"
    }
   ],
   "source": [
    "plt.scatter(X[:,0], X[:,1], c=kmeans.labels_, cmap='Accent')"
   ]
  },
  {
   "cell_type": "markdown",
   "metadata": {},
   "source": [
    "Now try it with the popularity target variable with songs that have popularity over zero. Start with three clusters."
   ]
  },
  {
   "cell_type": "code",
   "execution_count": 34,
   "metadata": {},
   "outputs": [
    {
     "data": {
      "text/plain": [
       "array([[11.12525362],\n",
       "       [55.72517549],\n",
       "       [31.40629944]])"
      ]
     },
     "execution_count": 34,
     "metadata": {},
     "output_type": "execute_result"
    }
   ],
   "source": [
    "X = np.array(over_zero.popularity).reshape(-1,1)\n",
    "\n",
    "kmeans = KMeans(n_clusters=3)\n",
    "kmeans.fit(X)\n",
    "\n",
    "kmeans.cluster_centers_"
   ]
  },
  {
   "cell_type": "code",
   "execution_count": 35,
   "metadata": {},
   "outputs": [
    {
     "data": {
      "text/plain": [
       "<matplotlib.collections.PathCollection at 0x278947e50f0>"
      ]
     },
     "execution_count": 35,
     "metadata": {},
     "output_type": "execute_result"
    },
    {
     "data": {
      "image/png": "[encoded data removed]",
      "text/plain": [
       "<Figure size 432x288 with 1 Axes>"
      ]
     },
     "metadata": {},
     "output_type": "display_data"
    }
   ],
   "source": [
    "plt.scatter(X, over_zero.loudness, c=kmeans.labels_, s=12)"
   ]
  },
  {
   "cell_type": "code",
   "execution_count": 36,
   "metadata": {},
   "outputs": [
    {
     "data": {
      "text/plain": [
       "<matplotlib.collections.PathCollection at 0x27894a3c2b0>"
      ]
     },
     "execution_count": 36,
     "metadata": {},
     "output_type": "execute_result"
    },
    {
     "data": {
      "image/png": "[encoded data removed]",
      "text/plain": [
       "<Figure size 432x288 with 1 Axes>"
      ]
     },
     "metadata": {},
     "output_type": "display_data"
    }
   ],
   "source": [
    "plt.scatter(X, over_zero.instrumentalness, c=kmeans.labels_, s=12)"
   ]
  },
  {
   "cell_type": "markdown",
   "metadata": {},
   "source": [
    "Increasing the interations doesn't change anything."
   ]
  },
  {
   "cell_type": "code",
   "execution_count": 39,
   "metadata": {},
   "outputs": [
    {
     "data": {
      "text/plain": [
       "array([[55.72517549],\n",
       "       [11.12525362],\n",
       "       [31.40629944]])"
      ]
     },
     "execution_count": 39,
     "metadata": {},
     "output_type": "execute_result"
    }
   ],
   "source": [
    "X = np.array(over_zero.popularity).reshape(-1,1)\n",
    "\n",
    "kmeans = KMeans(n_clusters=3, max_iter=600)\n",
    "kmeans.fit(X)\n",
    "\n",
    "kmeans.cluster_centers_"
   ]
  },
  {
   "cell_type": "markdown",
   "metadata": {},
   "source": [
    "Now try with more clusters to raise the bar for what qualifies as popular."
   ]
  },
  {
   "cell_type": "code",
   "execution_count": 38,
   "metadata": {},
   "outputs": [
    {
     "data": {
      "text/plain": [
       "array([[65.59952284],\n",
       "       [19.06437498],\n",
       "       [48.43151798],\n",
       "       [ 6.20507582],\n",
       "       [32.50901796]])"
      ]
     },
     "execution_count": 38,
     "metadata": {},
     "output_type": "execute_result"
    }
   ],
   "source": [
    "X = np.array(over_zero.popularity).reshape(-1,1)\n",
    "\n",
    "kmeans = KMeans(n_clusters=5)\n",
    "kmeans.fit(X)\n",
    "\n",
    "kmeans.cluster_centers_"
   ]
  },
  {
   "cell_type": "code",
   "execution_count": null,
   "metadata": {},
   "outputs": [],
   "source": []
  },
  {
   "cell_type": "code",
   "execution_count": null,
   "metadata": {},
   "outputs": [],
   "source": []
  },
  {
   "cell_type": "code",
   "execution_count": null,
   "metadata": {},
   "outputs": [],
   "source": []
  },
  {
   "cell_type": "markdown",
   "metadata": {},
   "source": [
    "#### Explore the target column: popularity"
   ]
  },
  {
   "cell_type": "code",
   "execution_count": null,
   "metadata": {},
   "outputs": [],
   "source": [
    "spotify['popularity'].describe()"
   ]
  },
  {
   "cell_type": "code",
   "execution_count": 21,
   "metadata": {},
   "outputs": [
    {
     "data": {
      "text/html": [
       "<div>\n",
       "<style scoped>\n",
       "    .dataframe tbody tr th:only-of-type {\n",
       "        vertical-align: middle;\n",
       "    }\n",
       "\n",
       "    .dataframe tbody tr th {\n",
       "        vertical-align: top;\n",
       "    }\n",
       "\n",
       "    .dataframe thead th {\n",
       "        text-align: right;\n",
       "    }\n",
       "</style>\n",
       "<table border=\"1\" class=\"dataframe\">\n",
       "  <thead>\n",
       "    <tr style=\"text-align: right;\">\n",
       "      <th></th>\n",
       "      <th>artist_name</th>\n",
       "      <th>track_name</th>\n",
       "      <th>acousticness</th>\n",
       "      <th>danceability</th>\n",
       "      <th>duration_ms</th>\n",
       "      <th>energy</th>\n",
       "      <th>instrumentalness</th>\n",
       "      <th>key</th>\n",
       "      <th>liveness</th>\n",
       "      <th>loudness</th>\n",
       "      <th>mode</th>\n",
       "      <th>speechiness</th>\n",
       "      <th>tempo</th>\n",
       "      <th>time_signature</th>\n",
       "      <th>valence</th>\n",
       "      <th>popularity</th>\n",
       "    </tr>\n",
       "  </thead>\n",
       "  <tbody>\n",
       "    <tr>\n",
       "      <th>1</th>\n",
       "      <td>Daddy Yankee</td>\n",
       "      <td>Con Calma</td>\n",
       "      <td>0.1100</td>\n",
       "      <td>0.737</td>\n",
       "      <td>193227</td>\n",
       "      <td>0.860</td>\n",
       "      <td>0.000002</td>\n",
       "      <td>8</td>\n",
       "      <td>0.0574</td>\n",
       "      <td>-2.652</td>\n",
       "      <td>0</td>\n",
       "      <td>0.0593</td>\n",
       "      <td>93.989</td>\n",
       "      <td>4</td>\n",
       "      <td>0.656</td>\n",
       "      <td>100</td>\n",
       "    </tr>\n",
       "    <tr>\n",
       "      <th>2</th>\n",
       "      <td>Post Malone</td>\n",
       "      <td>Wow.</td>\n",
       "      <td>0.1630</td>\n",
       "      <td>0.833</td>\n",
       "      <td>149520</td>\n",
       "      <td>0.539</td>\n",
       "      <td>0.000002</td>\n",
       "      <td>11</td>\n",
       "      <td>0.1010</td>\n",
       "      <td>-7.399</td>\n",
       "      <td>0</td>\n",
       "      <td>0.1780</td>\n",
       "      <td>99.947</td>\n",
       "      <td>4</td>\n",
       "      <td>0.385</td>\n",
       "      <td>98</td>\n",
       "    </tr>\n",
       "    <tr>\n",
       "      <th>3</th>\n",
       "      <td>Billie Eilish</td>\n",
       "      <td>bad guy</td>\n",
       "      <td>0.3080</td>\n",
       "      <td>0.708</td>\n",
       "      <td>194088</td>\n",
       "      <td>0.418</td>\n",
       "      <td>0.093000</td>\n",
       "      <td>0</td>\n",
       "      <td>0.1000</td>\n",
       "      <td>-10.998</td>\n",
       "      <td>1</td>\n",
       "      <td>0.3680</td>\n",
       "      <td>131.926</td>\n",
       "      <td>4</td>\n",
       "      <td>0.578</td>\n",
       "      <td>98</td>\n",
       "    </tr>\n",
       "    <tr>\n",
       "      <th>4</th>\n",
       "      <td>Post Malone</td>\n",
       "      <td>Sunflower - Spider-Man: Into the Spider-Verse</td>\n",
       "      <td>0.5200</td>\n",
       "      <td>0.744</td>\n",
       "      <td>158040</td>\n",
       "      <td>0.494</td>\n",
       "      <td>0.000000</td>\n",
       "      <td>2</td>\n",
       "      <td>0.0716</td>\n",
       "      <td>-5.563</td>\n",
       "      <td>1</td>\n",
       "      <td>0.0699</td>\n",
       "      <td>89.972</td>\n",
       "      <td>4</td>\n",
       "      <td>0.927</td>\n",
       "      <td>98</td>\n",
       "    </tr>\n",
       "    <tr>\n",
       "      <th>5</th>\n",
       "      <td>Jonas Brothers</td>\n",
       "      <td>Sucker</td>\n",
       "      <td>0.0427</td>\n",
       "      <td>0.842</td>\n",
       "      <td>181040</td>\n",
       "      <td>0.734</td>\n",
       "      <td>0.000000</td>\n",
       "      <td>1</td>\n",
       "      <td>0.1060</td>\n",
       "      <td>-5.065</td>\n",
       "      <td>0</td>\n",
       "      <td>0.0588</td>\n",
       "      <td>137.958</td>\n",
       "      <td>4</td>\n",
       "      <td>0.952</td>\n",
       "      <td>98</td>\n",
       "    </tr>\n",
       "    <tr>\n",
       "      <th>6</th>\n",
       "      <td>Ariana Grande</td>\n",
       "      <td>break up with your girlfriend, i'm bored</td>\n",
       "      <td>0.0421</td>\n",
       "      <td>0.726</td>\n",
       "      <td>190440</td>\n",
       "      <td>0.554</td>\n",
       "      <td>0.000000</td>\n",
       "      <td>5</td>\n",
       "      <td>0.1060</td>\n",
       "      <td>-5.290</td>\n",
       "      <td>0</td>\n",
       "      <td>0.0917</td>\n",
       "      <td>169.999</td>\n",
       "      <td>4</td>\n",
       "      <td>0.335</td>\n",
       "      <td>97</td>\n",
       "    </tr>\n",
       "    <tr>\n",
       "      <th>7</th>\n",
       "      <td>Sam Smith</td>\n",
       "      <td>Dancing With A Stranger (with Normani)</td>\n",
       "      <td>0.4500</td>\n",
       "      <td>0.741</td>\n",
       "      <td>171030</td>\n",
       "      <td>0.520</td>\n",
       "      <td>0.000002</td>\n",
       "      <td>8</td>\n",
       "      <td>0.2220</td>\n",
       "      <td>-7.513</td>\n",
       "      <td>1</td>\n",
       "      <td>0.0656</td>\n",
       "      <td>102.998</td>\n",
       "      <td>4</td>\n",
       "      <td>0.347</td>\n",
       "      <td>96</td>\n",
       "    </tr>\n",
       "    <tr>\n",
       "      <th>8</th>\n",
       "      <td>Lady Gaga</td>\n",
       "      <td>Shallow</td>\n",
       "      <td>0.3710</td>\n",
       "      <td>0.572</td>\n",
       "      <td>215733</td>\n",
       "      <td>0.385</td>\n",
       "      <td>0.000000</td>\n",
       "      <td>7</td>\n",
       "      <td>0.2310</td>\n",
       "      <td>-6.362</td>\n",
       "      <td>1</td>\n",
       "      <td>0.0308</td>\n",
       "      <td>95.799</td>\n",
       "      <td>4</td>\n",
       "      <td>0.323</td>\n",
       "      <td>96</td>\n",
       "    </tr>\n",
       "    <tr>\n",
       "      <th>9</th>\n",
       "      <td>Ariana Grande</td>\n",
       "      <td>7 rings</td>\n",
       "      <td>0.5780</td>\n",
       "      <td>0.725</td>\n",
       "      <td>178640</td>\n",
       "      <td>0.321</td>\n",
       "      <td>0.000000</td>\n",
       "      <td>1</td>\n",
       "      <td>0.0884</td>\n",
       "      <td>-10.744</td>\n",
       "      <td>0</td>\n",
       "      <td>0.3230</td>\n",
       "      <td>70.142</td>\n",
       "      <td>4</td>\n",
       "      <td>0.319</td>\n",
       "      <td>96</td>\n",
       "    </tr>\n",
       "  </tbody>\n",
       "</table>\n",
       "</div>"
      ],
      "text/plain": [
       "      artist_name                                     track_name  \\\n",
       "1    Daddy Yankee                                      Con Calma   \n",
       "2     Post Malone                                           Wow.   \n",
       "3   Billie Eilish                                        bad guy   \n",
       "4     Post Malone  Sunflower - Spider-Man: Into the Spider-Verse   \n",
       "5  Jonas Brothers                                         Sucker   \n",
       "6   Ariana Grande       break up with your girlfriend, i'm bored   \n",
       "7       Sam Smith         Dancing With A Stranger (with Normani)   \n",
       "8       Lady Gaga                                        Shallow   \n",
       "9   Ariana Grande                                        7 rings   \n",
       "\n",
       "   acousticness  danceability  duration_ms  energy  instrumentalness  key  \\\n",
       "1        0.1100         0.737       193227   0.860          0.000002    8   \n",
       "2        0.1630         0.833       149520   0.539          0.000002   11   \n",
       "3        0.3080         0.708       194088   0.418          0.093000    0   \n",
       "4        0.5200         0.744       158040   0.494          0.000000    2   \n",
       "5        0.0427         0.842       181040   0.734          0.000000    1   \n",
       "6        0.0421         0.726       190440   0.554          0.000000    5   \n",
       "7        0.4500         0.741       171030   0.520          0.000002    8   \n",
       "8        0.3710         0.572       215733   0.385          0.000000    7   \n",
       "9        0.5780         0.725       178640   0.321          0.000000    1   \n",
       "\n",
       "   liveness  loudness  mode  speechiness    tempo  time_signature  valence  \\\n",
       "1    0.0574    -2.652     0       0.0593   93.989               4    0.656   \n",
       "2    0.1010    -7.399     0       0.1780   99.947               4    0.385   \n",
       "3    0.1000   -10.998     1       0.3680  131.926               4    0.578   \n",
       "4    0.0716    -5.563     1       0.0699   89.972               4    0.927   \n",
       "5    0.1060    -5.065     0       0.0588  137.958               4    0.952   \n",
       "6    0.1060    -5.290     0       0.0917  169.999               4    0.335   \n",
       "7    0.2220    -7.513     1       0.0656  102.998               4    0.347   \n",
       "8    0.2310    -6.362     1       0.0308   95.799               4    0.323   \n",
       "9    0.0884   -10.744     0       0.3230   70.142               4    0.319   \n",
       "\n",
       "   popularity  \n",
       "1         100  \n",
       "2          98  \n",
       "3          98  \n",
       "4          98  \n",
       "5          98  \n",
       "6          97  \n",
       "7          96  \n",
       "8          96  \n",
       "9          96  "
      ]
     },
     "execution_count": 21,
     "metadata": {},
     "output_type": "execute_result"
    }
   ],
   "source": [
    "#order the data by the target column; drop the track_id and superfluous index column\n",
    "spotify_ordered = spotify.sort_values('popularity', ascending=False).reset_index()\n",
    "so = spotify_ordered.drop(['index', 'track_id'], axis=1)\n",
    "\n",
    "#start index at 1 to accurately see where popularities rank\n",
    "so.index = so.index + 1\n",
    "so.head(9)"
   ]
  },
  {
   "cell_type": "markdown",
   "metadata": {},
   "source": [
    "We know that the median popularity score is 38. Let's see where other popularities fall on the scale."
   ]
  },
  {
   "cell_type": "code",
   "execution_count": null,
   "metadata": {},
   "outputs": [],
   "source": [
    "#how many songs equal the median popularity?\n",
    "len(so[so['popularity'] == 38])\n",
    "\n",
    "#What does this mean"
   ]
  },
  {
   "cell_type": "markdown",
   "metadata": {},
   "source": [
    "What is the most frequent popularity score?"
   ]
  },
  {
   "cell_type": "code",
   "execution_count": null,
   "metadata": {},
   "outputs": [],
   "source": [
    "so[['popularity']].mode()"
   ]
  },
  {
   "cell_type": "code",
   "execution_count": null,
   "metadata": {},
   "outputs": [],
   "source": [
    "len(so[so['popularity'] == 0])"
   ]
  },
  {
   "cell_type": "code",
   "execution_count": null,
   "metadata": {},
   "outputs": [],
   "source": [
    "#Where do songs with a 'middle' popularity score of 50 fall on the scale?\n",
    "#There appears to be about 16k songs rated higher than 50\n",
    "so[so['popularity'] == 50]"
   ]
  },
  {
   "cell_type": "code",
   "execution_count": null,
   "metadata": {},
   "outputs": [],
   "source": [
    "so[so['popularity'] >= 90]"
   ]
  },
  {
   "cell_type": "code",
   "execution_count": null,
   "metadata": {},
   "outputs": [],
   "source": [
    "so['popularity'].plot(kind='hist', bins=50)"
   ]
  },
  {
   "cell_type": "code",
   "execution_count": null,
   "metadata": {},
   "outputs": [],
   "source": [
    "#find z-score for high popularity\n",
    "pop = so['popularity']\n",
    "\n",
    "z_of_90 = (90 - pop.mean()) / pop.std()\n",
    "z_of_90"
   ]
  },
  {
   "cell_type": "code",
   "execution_count": null,
   "metadata": {},
   "outputs": [],
   "source": [
    "low_pop = so[so['popularity'] <= 10]\n",
    "len(low_pop)"
   ]
  },
  {
   "cell_type": "code",
   "execution_count": null,
   "metadata": {},
   "outputs": [],
   "source": [
    "#percentage of songs with popularity at or below 10\n",
    "(len(low_pop) / len(so)) * 100"
   ]
  },
  {
   "cell_type": "markdown",
   "metadata": {},
   "source": [
    "The last few outputs demonstrate how rare songs are with high popularity ratings, and that a large portion of songs -- over 30% -- are virtually irrelevant. In fact, a score of 0 is by far the most frequent. \n",
    "\n",
    "This illustrates the problem that popularity may not have a formula. I need to find a way to come to terms with the fact that a large part of the equation comes down to marketing and cultural factors. It might be beneficial to drop all rows with a popularity rating of 0 because, even if they have the exact same characteristics as popular songs, they may simply not be popular due to factors outside the scope of this analysis."
   ]
  },
  {
   "cell_type": "markdown",
   "metadata": {},
   "source": [
    "#### Exploring and visualizing correlations"
   ]
  },
  {
   "cell_type": "code",
   "execution_count": null,
   "metadata": {},
   "outputs": [],
   "source": [
    "#which artists occur the most?\n",
    "so[['track_name', 'artist_name']].groupby('artist_name').count().sort_values('track_name', ascending=False)"
   ]
  },
  {
   "cell_type": "markdown",
   "metadata": {},
   "source": [
    "Just some plot experiments below:"
   ]
  },
  {
   "cell_type": "code",
   "execution_count": null,
   "metadata": {},
   "outputs": [],
   "source": [
    "so[so['popularity'] > 25].plot(kind='scatter', x='danceability', y='popularity', ylim=[15,100])\n",
    "\n",
    "plt.show()"
   ]
  },
  {
   "cell_type": "code",
   "execution_count": null,
   "metadata": {},
   "outputs": [],
   "source": [
    "so[so['popularity'] > 50].plot(kind='scatter', x='energy', y='popularity', ylim=[40,100], s=2)\n",
    "\n",
    "plt.show()"
   ]
  },
  {
   "cell_type": "code",
   "execution_count": null,
   "metadata": {},
   "outputs": [],
   "source": [
    "import seaborn as sns\n",
    "\n",
    "sns.lmplot(x='energy', y='popularity', hue='mode', palette=\"Accent\", scatter_kws={\"s\": 1}, data=so)\n",
    "plt.show()"
   ]
  },
  {
   "cell_type": "code",
   "execution_count": null,
   "metadata": {},
   "outputs": [],
   "source": [
    "above_70 = so[so['popularity'] > 70]\n",
    "\n",
    "#compare with instrumentalness\n",
    "sns.lmplot(x='instrumentalness', y='popularity', data=above_70, scatter_kws={\"s\": 10})"
   ]
  },
  {
   "cell_type": "code",
   "execution_count": null,
   "metadata": {},
   "outputs": [],
   "source": [
    "#compare with liveness\n",
    "sns.lmplot(x='liveness', y='popularity', data=above_70, scatter_kws={\"s\": 10})"
   ]
  },
  {
   "cell_type": "code",
   "execution_count": null,
   "metadata": {},
   "outputs": [],
   "source": [
    "#compare with speechiness\n",
    "sns.lmplot(x='speechiness', y='popularity', data=so, scatter_kws={\"s\": 1})"
   ]
  },
  {
   "cell_type": "code",
   "execution_count": null,
   "metadata": {},
   "outputs": [],
   "source": [
    "#Attempt to make subplots: tempo vs. danceability\n",
    "fig, axs = plt.subplots(ncols=2, sharex=False)\n",
    "sns.regplot(x='tempo', y='popularity', data=above_70, scatter_kws={\"s\": 5}, ax=axs[0])\n",
    "x = sns.regplot(x='danceability', y='popularity', data=above_70, scatter_kws={\"s\": 5}, ax=axs[1])\n",
    "x.set(xlim=(0,1), ylim=(69,102))"
   ]
  },
  {
   "cell_type": "markdown",
   "metadata": {},
   "source": [
    "Attemp at feature selection:"
   ]
  },
  {
   "cell_type": "code",
   "execution_count": null,
   "metadata": {},
   "outputs": [],
   "source": [
    "from sklearn.feature_selection import SelectKBest, chi2\n",
    "    \n",
    "X_reg = so.iloc[:, [2,3,4,5,6,11,12]]\n",
    "y_reg = so.loc[:, 'popularity']\n",
    "X_new = SelectKBest(chi2, k=5).fit_transform(X_reg, y_reg)\n",
    "\n",
    "pd.DataFrame(X_new)"
   ]
  },
  {
   "cell_type": "markdown",
   "metadata": {},
   "source": [
    "#### Missing values"
   ]
  },
  {
   "cell_type": "code",
   "execution_count": null,
   "metadata": {},
   "outputs": [],
   "source": [
    "so.info()"
   ]
  },
  {
   "cell_type": "markdown",
   "metadata": {},
   "source": [
    "There appears to no null values, but for the sake of practice a few more tests are below:"
   ]
  },
  {
   "cell_type": "code",
   "execution_count": null,
   "metadata": {},
   "outputs": [],
   "source": [
    "so.all()"
   ]
  },
  {
   "cell_type": "code",
   "execution_count": null,
   "metadata": {},
   "outputs": [],
   "source": [
    "so.any()"
   ]
  },
  {
   "cell_type": "code",
   "execution_count": null,
   "metadata": {},
   "outputs": [],
   "source": [
    "so[so.isnull()].count()"
   ]
  },
  {
   "cell_type": "code",
   "execution_count": null,
   "metadata": {},
   "outputs": [],
   "source": []
  },
  {
   "cell_type": "code",
   "execution_count": null,
   "metadata": {},
   "outputs": [],
   "source": []
  },
  {
   "cell_type": "code",
   "execution_count": null,
   "metadata": {},
   "outputs": [],
   "source": []
  },
  {
   "cell_type": "code",
   "execution_count": null,
   "metadata": {},
   "outputs": [],
   "source": []
  },
  {
   "cell_type": "markdown",
   "metadata": {},
   "source": [
    "Now let's do some basic exploration of the dataset"
   ]
  },
  {
   "cell_type": "code",
   "execution_count": null,
   "metadata": {},
   "outputs": [],
   "source": [
    "#What is the shape?\n",
    "spotify.shape"
   ]
  },
  {
   "cell_type": "code",
   "execution_count": null,
   "metadata": {},
   "outputs": [],
   "source": [
    "#Examine the first few rows\n",
    "spotify.head()"
   ]
  },
  {
   "cell_type": "code",
   "execution_count": null,
   "metadata": {},
   "outputs": [],
   "source": [
    "#Examine the tail\n",
    "spotify.tail()"
   ]
  },
  {
   "cell_type": "code",
   "execution_count": null,
   "metadata": {},
   "outputs": [],
   "source": [
    "#gather some basic statistical info\n",
    "spotify.describe()"
   ]
  },
  {
   "cell_type": "code",
   "execution_count": null,
   "metadata": {},
   "outputs": [],
   "source": [
    "#Narrow the focus to a couple key columns\n",
    "spotify[['danceability', 'popularity']].describe()"
   ]
  },
  {
   "cell_type": "markdown",
   "metadata": {},
   "source": [
    "We can see from above that, based on the mean and upper quartile range, the large majority of songs listed in the dataset have a low popularity rating. Considering that popular songs are often characterized as \"Top 40\" or \"Billboard 100\", this shouldn't really be a surprise.\n"
   ]
  },
  {
   "cell_type": "markdown",
   "metadata": {},
   "source": [
    "Now let's a look at the metadata"
   ]
  },
  {
   "cell_type": "code",
   "execution_count": null,
   "metadata": {},
   "outputs": [],
   "source": [
    "spotify.info()"
   ]
  },
  {
   "cell_type": "markdown",
   "metadata": {},
   "source": [
    "Now we can sort the columns into two lists"
   ]
  },
  {
   "cell_type": "code",
   "execution_count": 36,
   "metadata": {},
   "outputs": [],
   "source": [
    "#Define a sorting function\n",
    "def col_types(df):\n",
    "    \"\"\"A function to sort columns into two lists based on whether they are\n",
    "    numeric or non-numeric\"\"\"\n",
    "    num=[]\n",
    "    non_num=[]\n",
    "    for col in df:\n",
    "        if np.dtype(df[col]) in (['int32', 'int64', 'float32', 'float64', 'complex64', 'long']):\n",
    "            num.append(df.loc[:, col].name)\n",
    "        else:\n",
    "            non_num.append(df.loc[:, col].name)\n",
    "    print('These columns are numeric: ' + str(num)) \n",
    "    print( '\\nThese columns are non-numeric: ' + str(non_num))"
   ]
  },
  {
   "cell_type": "code",
   "execution_count": 37,
   "metadata": {},
   "outputs": [
    {
     "name": "stdout",
     "output_type": "stream",
     "text": [
      "These columns are numeric: ['acousticness', 'danceability', 'duration_ms', 'energy', 'instrumentalness', 'key', 'liveness', 'loudness', 'mode', 'speechiness', 'tempo', 'time_signature', 'valence', 'popularity']\n",
      "\n",
      "These columns are non-numeric: ['artist_name', 'track_id', 'track_name']\n"
     ]
    }
   ],
   "source": [
    "#run the function on the dataset\n",
    "col_types(spotify)"
   ]
  },
  {
   "cell_type": "markdown",
   "metadata": {},
   "source": [
    "## <b>json exercise playpen</b>"
   ]
  },
  {
   "cell_type": "code",
   "execution_count": 8,
   "metadata": {
    "scrolled": true
   },
   "outputs": [
    {
     "data": {
      "text/plain": [
       "Index(['_id', 'approvalfy', 'board_approval_month', 'boardapprovaldate',\n",
       "       'borrower', 'closingdate', 'country_namecode', 'countrycode',\n",
       "       'countryname', 'countryshortname', 'docty', 'envassesmentcategorycode',\n",
       "       'grantamt', 'ibrdcommamt', 'id', 'idacommamt', 'impagency',\n",
       "       'lendinginstr', 'lendinginstrtype', 'lendprojectcost',\n",
       "       'majorsector_percent', 'mjsector_namecode', 'mjtheme',\n",
       "       'mjtheme_namecode', 'mjthemecode', 'prodline', 'prodlinetext',\n",
       "       'productlinetype', 'project_abstract', 'project_name', 'projectdocs',\n",
       "       'projectfinancialtype', 'projectstatusdisplay', 'regionname', 'sector',\n",
       "       'sector1', 'sector2', 'sector3', 'sector4', 'sector_namecode',\n",
       "       'sectorcode', 'source', 'status', 'supplementprojectflg', 'theme1',\n",
       "       'theme_namecode', 'themecode', 'totalamt', 'totalcommamt', 'url'],\n",
       "      dtype='object')"
      ]
     },
     "execution_count": 8,
     "metadata": {},
     "output_type": "execute_result"
    }
   ],
   "source": [
    "projects = pd.read_json('data/world_bank_projects.json')\n",
    "\n",
    "projects.columns"
   ]
  },
  {
   "cell_type": "code",
   "execution_count": 9,
   "metadata": {},
   "outputs": [
    {
     "data": {
      "text/plain": [
       "(500, 9)"
      ]
     },
     "execution_count": 9,
     "metadata": {},
     "output_type": "execute_result"
    }
   ],
   "source": [
    "projects = projects[['_id', 'approvalfy', 'country_namecode', 'countrycode', 'countryname', 'countryshortname', 'mjtheme', 'mjtheme_namecode', 'project_name']]\n",
    "\n",
    "projects.shape"
   ]
  },
  {
   "cell_type": "code",
   "execution_count": 10,
   "metadata": {},
   "outputs": [
    {
     "data": {
      "text/html": [
       "<div>\n",
       "<style scoped>\n",
       "    .dataframe tbody tr th:only-of-type {\n",
       "        vertical-align: middle;\n",
       "    }\n",
       "\n",
       "    .dataframe tbody tr th {\n",
       "        vertical-align: top;\n",
       "    }\n",
       "\n",
       "    .dataframe thead th {\n",
       "        text-align: right;\n",
       "    }\n",
       "</style>\n",
       "<table border=\"1\" class=\"dataframe\">\n",
       "  <thead>\n",
       "    <tr style=\"text-align: right;\">\n",
       "      <th></th>\n",
       "      <th>project_name</th>\n",
       "    </tr>\n",
       "    <tr>\n",
       "      <th>countryshortname</th>\n",
       "      <th></th>\n",
       "    </tr>\n",
       "  </thead>\n",
       "  <tbody>\n",
       "    <tr>\n",
       "      <th>China</th>\n",
       "      <td>19</td>\n",
       "    </tr>\n",
       "    <tr>\n",
       "      <th>Indonesia</th>\n",
       "      <td>19</td>\n",
       "    </tr>\n",
       "    <tr>\n",
       "      <th>Vietnam</th>\n",
       "      <td>17</td>\n",
       "    </tr>\n",
       "    <tr>\n",
       "      <th>India</th>\n",
       "      <td>16</td>\n",
       "    </tr>\n",
       "    <tr>\n",
       "      <th>Yemen, Republic of</th>\n",
       "      <td>13</td>\n",
       "    </tr>\n",
       "    <tr>\n",
       "      <th>Nepal</th>\n",
       "      <td>12</td>\n",
       "    </tr>\n",
       "    <tr>\n",
       "      <th>Bangladesh</th>\n",
       "      <td>12</td>\n",
       "    </tr>\n",
       "    <tr>\n",
       "      <th>Morocco</th>\n",
       "      <td>12</td>\n",
       "    </tr>\n",
       "    <tr>\n",
       "      <th>Mozambique</th>\n",
       "      <td>11</td>\n",
       "    </tr>\n",
       "    <tr>\n",
       "      <th>Africa</th>\n",
       "      <td>11</td>\n",
       "    </tr>\n",
       "  </tbody>\n",
       "</table>\n",
       "</div>"
      ],
      "text/plain": [
       "                    project_name\n",
       "countryshortname                \n",
       "China                         19\n",
       "Indonesia                     19\n",
       "Vietnam                       17\n",
       "India                         16\n",
       "Yemen, Republic of            13\n",
       "Nepal                         12\n",
       "Bangladesh                    12\n",
       "Morocco                       12\n",
       "Mozambique                    11\n",
       "Africa                        11"
      ]
     },
     "execution_count": 10,
     "metadata": {},
     "output_type": "execute_result"
    }
   ],
   "source": [
    "grouped = projects[['countryshortname', 'project_name']].groupby('countryshortname').count()\n",
    "\n",
    "#grouped.iloc[:10,:].sort_values('project_name', ascending=False)\n",
    "\n",
    "ordered = grouped.sort_values('project_name', ascending=False)\n",
    "\n",
    "top_10 = ordered.iloc[:10, :]\n",
    "\n",
    "top_10"
   ]
  },
  {
   "cell_type": "markdown",
   "metadata": {},
   "source": [
    "## <b>question 2</b> "
   ]
  },
  {
   "cell_type": "code",
   "execution_count": 11,
   "metadata": {},
   "outputs": [
    {
     "data": {
      "text/plain": [
       "[{'code': '10', 'name': 'Rural development'}, {'code': '11', 'name': ''}]"
      ]
     },
     "execution_count": 11,
     "metadata": {},
     "output_type": "execute_result"
    }
   ],
   "source": [
    "projects.loc[491, 'mjtheme_namecode']"
   ]
  },
  {
   "cell_type": "code",
   "execution_count": 12,
   "metadata": {},
   "outputs": [
    {
     "data": {
      "text/plain": [
       "0    [{'code': '8', 'name': 'Human development'}, {...\n",
       "1    [{'code': '1', 'name': 'Economic management'},...\n",
       "2    [{'code': '5', 'name': 'Trade and integration'...\n",
       "3    [{'code': '7', 'name': 'Social dev/gender/incl...\n",
       "4    [{'code': '5', 'name': 'Trade and integration'...\n",
       "Name: mjtheme_namecode, dtype: object"
      ]
     },
     "execution_count": 12,
     "metadata": {},
     "output_type": "execute_result"
    }
   ],
   "source": [
    "themes = projects['mjtheme_namecode']\n",
    "\n",
    "x = themes[1]\n",
    "\n",
    "themes.head()"
   ]
  },
  {
   "cell_type": "code",
   "execution_count": 13,
   "metadata": {},
   "outputs": [
    {
     "data": {
      "text/plain": [
       "{'8': 210,\n",
       " '11': 250,\n",
       " '1': 38,\n",
       " '6': 168,\n",
       " '5': 77,\n",
       " '2': 199,\n",
       " '7': 130,\n",
       " '4': 146,\n",
       " '10': 216,\n",
       " '9': 50,\n",
       " '3': 15}"
      ]
     },
     "execution_count": 13,
     "metadata": {},
     "output_type": "execute_result"
    }
   ],
   "source": [
    "counter = {}\n",
    "\n",
    "for row in themes:\n",
    "    for d in row:\n",
    "        if d['code'] in counter:\n",
    "            counter[d['code']] += 1\n",
    "        else:\n",
    "            counter[d['code']] = 1\n",
    "            \n",
    "counter"
   ]
  },
  {
   "cell_type": "code",
   "execution_count": 14,
   "metadata": {},
   "outputs": [
    {
     "data": {
      "text/plain": [
       "[('11', 250),\n",
       " ('10', 216),\n",
       " ('8', 210),\n",
       " ('2', 199),\n",
       " ('6', 168),\n",
       " ('4', 146),\n",
       " ('7', 130),\n",
       " ('5', 77),\n",
       " ('9', 50),\n",
       " ('1', 38)]"
      ]
     },
     "execution_count": 14,
     "metadata": {},
     "output_type": "execute_result"
    }
   ],
   "source": [
    "import collections\n",
    "\n",
    "count = collections.Counter()\n",
    "\n",
    "for row in themes:\n",
    "    for d in row:\n",
    "        count[d['code']] += 1\n",
    "        \n",
    "count.most_common(10)"
   ]
  },
  {
   "cell_type": "code",
   "execution_count": 16,
   "metadata": {},
   "outputs": [
    {
     "data": {
      "text/html": [
       "<div>\n",
       "<style scoped>\n",
       "    .dataframe tbody tr th:only-of-type {\n",
       "        vertical-align: middle;\n",
       "    }\n",
       "\n",
       "    .dataframe tbody tr th {\n",
       "        vertical-align: top;\n",
       "    }\n",
       "\n",
       "    .dataframe thead th {\n",
       "        text-align: right;\n",
       "    }\n",
       "</style>\n",
       "<table border=\"1\" class=\"dataframe\">\n",
       "  <thead>\n",
       "    <tr style=\"text-align: right;\">\n",
       "      <th></th>\n",
       "    </tr>\n",
       "  </thead>\n",
       "  <tbody>\n",
       "  </tbody>\n",
       "</table>\n",
       "</div>"
      ],
      "text/plain": [
       "Empty DataFrame\n",
       "Columns: []\n",
       "Index: []"
      ]
     },
     "execution_count": 16,
     "metadata": {},
     "output_type": "execute_result"
    }
   ],
   "source": [
    "import json\n",
    "from pandas.io.json import json_normalize\n",
    "\n",
    "x = pd.DataFrame()\n",
    "#for row in themes:\n",
    "#    x.append(json_normalize(row[0]))\n",
    "    \n",
    "x"
   ]
  },
  {
   "cell_type": "code",
   "execution_count": 17,
   "metadata": {},
   "outputs": [
    {
     "data": {
      "text/html": [
       "<div>\n",
       "<style scoped>\n",
       "    .dataframe tbody tr th:only-of-type {\n",
       "        vertical-align: middle;\n",
       "    }\n",
       "\n",
       "    .dataframe tbody tr th {\n",
       "        vertical-align: top;\n",
       "    }\n",
       "\n",
       "    .dataframe thead th {\n",
       "        text-align: right;\n",
       "    }\n",
       "</style>\n",
       "<table border=\"1\" class=\"dataframe\">\n",
       "  <thead>\n",
       "    <tr style=\"text-align: right;\">\n",
       "      <th></th>\n",
       "      <th>code</th>\n",
       "      <th>name</th>\n",
       "      <th>id</th>\n",
       "    </tr>\n",
       "  </thead>\n",
       "  <tbody>\n",
       "    <tr>\n",
       "      <th>0</th>\n",
       "      <td>8</td>\n",
       "      <td>Human development</td>\n",
       "      <td>P129828</td>\n",
       "    </tr>\n",
       "    <tr>\n",
       "      <th>1</th>\n",
       "      <td>11</td>\n",
       "      <td></td>\n",
       "      <td>P129828</td>\n",
       "    </tr>\n",
       "    <tr>\n",
       "      <th>2</th>\n",
       "      <td>1</td>\n",
       "      <td>Economic management</td>\n",
       "      <td>P144674</td>\n",
       "    </tr>\n",
       "  </tbody>\n",
       "</table>\n",
       "</div>"
      ],
      "text/plain": [
       "  code                 name       id\n",
       "0    8    Human development  P129828\n",
       "1   11                       P129828\n",
       "2    1  Economic management  P144674"
      ]
     },
     "execution_count": 17,
     "metadata": {},
     "output_type": "execute_result"
    }
   ],
   "source": [
    "data = json.load(open('data/world_bank_projects.json'))\n",
    "\n",
    "table = json_normalize(data, 'mjtheme_namecode', ['id'])\n",
    "\n",
    "table.head(3)"
   ]
  },
  {
   "cell_type": "code",
   "execution_count": null,
   "metadata": {},
   "outputs": [],
   "source": [
    "table[['name', 'code']].groupby('name').count().sort_values('code', ascending=False).head(10)"
   ]
  },
  {
   "cell_type": "code",
   "execution_count": null,
   "metadata": {},
   "outputs": [],
   "source": [
    "table[['name', 'code']].groupby('code').count().sort_values('name', ascending=False).head(10)"
   ]
  },
  {
   "cell_type": "code",
   "execution_count": null,
   "metadata": {},
   "outputs": [],
   "source": []
  },
  {
   "cell_type": "markdown",
   "metadata": {},
   "source": [
    "### Question 3"
   ]
  },
  {
   "cell_type": "code",
   "execution_count": null,
   "metadata": {},
   "outputs": [],
   "source": [
    "table.head(10)"
   ]
  },
  {
   "cell_type": "code",
   "execution_count": 18,
   "metadata": {},
   "outputs": [
    {
     "data": {
      "text/plain": [
       "[('1', 'Economic management'),\n",
       " ('10', 'Rural development'),\n",
       " ('11', 'Environment and natural resources management'),\n",
       " ('2', 'Public sector governance'),\n",
       " ('3', 'Rule of law'),\n",
       " ('4', 'Financial and private sector development'),\n",
       " ('5', 'Trade and integration'),\n",
       " ('6', 'Social protection and risk management'),\n",
       " ('7', 'Social dev/gender/inclusion'),\n",
       " ('8', 'Human development'),\n",
       " ('9', 'Urban development')]"
      ]
     },
     "execution_count": 18,
     "metadata": {},
     "output_type": "execute_result"
    }
   ],
   "source": [
    "codes = list(table['code'])\n",
    "names = list(table['name'])\n",
    "\n",
    "zipped = list(zip(codes, names))\n",
    "zipped = sorted(list(set(zipped)))\n",
    "\n",
    "for tuple in zipped:\n",
    "    if tuple[1] == '':\n",
    "        zipped.remove(tuple)\n",
    "    \n",
    "zipped"
   ]
  },
  {
   "cell_type": "code",
   "execution_count": 19,
   "metadata": {},
   "outputs": [
    {
     "data": {
      "text/plain": [
       "{'1': 'Economic management',\n",
       " '10': 'Rural development',\n",
       " '11': 'Environment and natural resources management',\n",
       " '2': 'Public sector governance',\n",
       " '3': 'Rule of law',\n",
       " '4': 'Financial and private sector development',\n",
       " '5': 'Trade and integration',\n",
       " '6': 'Social protection and risk management',\n",
       " '7': 'Social dev/gender/inclusion',\n",
       " '8': 'Human development',\n",
       " '9': 'Urban development'}"
      ]
     },
     "execution_count": 19,
     "metadata": {},
     "output_type": "execute_result"
    }
   ],
   "source": [
    "d = dict(zipped)\n",
    "d"
   ]
  },
  {
   "cell_type": "code",
   "execution_count": null,
   "metadata": {},
   "outputs": [],
   "source": [
    "for entry in themes:\n",
    "    for theme in entry:\n",
    "        if theme['name'] == '':\n",
    "            theme['name'] = d[theme['code']]\n",
    "            \n",
    "type(themes)"
   ]
  },
  {
   "cell_type": "code",
   "execution_count": null,
   "metadata": {},
   "outputs": [],
   "source": [
    "projects['mjtheme_namecode'] = themes\n",
    "projects.loc[0, 'mjtheme_namecode']"
   ]
  }
 ],
 "metadata": {
  "kernelspec": {
   "display_name": "Python 3",
   "language": "python",
   "name": "python3"
  },
  "language_info": {
   "codemirror_mode": {
    "name": "ipython",
    "version": 3
   },
   "file_extension": ".py",
   "mimetype": "text/x-python",
   "name": "python",
   "nbconvert_exporter": "python",
   "pygments_lexer": "ipython3",
   "version": "3.7.1"
  }
 },
 "nbformat": 4,
 "nbformat_minor": 2
}
